{
  "cells": [
    {
      "cell_type": "markdown",
      "metadata": {
        "id": "-W5pkAJmz8Hm"
      },
      "source": [
        "# Data preaparation and xgboost regressor training"
      ]
    },
    {
      "cell_type": "markdown",
      "metadata": {
        "id": "VmAj7KZrdpKt"
      },
      "source": [
        "# Spark set up"
      ]
    },
    {
      "cell_type": "code",
      "execution_count": 1,
      "metadata": {},
      "outputs": [
        {
          "name": "stdout",
          "output_type": "stream",
          "text": [
            "Windows\n"
          ]
        }
      ],
      "source": [
        "import platform\n",
        "local_os = platform.system()\n",
        "if local_os == 'Linux':\n",
        "    !apt-get install openjdk-8-jdk-headless -qq > /dev/null\n",
        "    !wget https://dlcdn.apache.org/spark/spark-3.3.1/spark-3.3.1-bin-hadoop3.tgz\n",
        "    !tar zxvf /content/spark-3.3.1-bin-hadoop3.tgz\n",
        "    !pip install -q findspark\n",
        "    import findspark\n",
        "    findspark.init()\n",
        "print(local_os)"
      ]
    },
    {
      "cell_type": "code",
      "execution_count": 2,
      "metadata": {
        "id": "_WJbDBY8ydct"
      },
      "outputs": [],
      "source": [
        "from pyspark.sql import SparkSession"
      ]
    },
    {
      "cell_type": "code",
      "execution_count": 3,
      "metadata": {
        "id": "B9bt6vs7gb3I"
      },
      "outputs": [],
      "source": [
        "import os\n",
        "if local_os == 'Linux':\n",
        "    os.environ[\"JAVA_HOME\"] = \"/usr/lib/jvm/java-8-openjdk-amd64\"\n",
        "    os.environ[\"SPARK_HOME\"] = \"/content/spark-3.3.1-bin-hadoop3\"\n",
        "elif local_os == 'Windows':\n",
        "    os.environ[\"JAVA_HOME\"] = \"C:/Program Files/Java/jdk-19/\"\n",
        "else:\n",
        "    os.environ[\"JAVA_HOME\"] = \"/opt/homebrew/opt/openjdk/\"\n"
      ]
    },
    {
      "cell_type": "code",
      "execution_count": 4,
      "metadata": {
        "id": "Yvsf0bB9g7w4"
      },
      "outputs": [],
      "source": [
        "spark = SparkSession.builder\\\n",
        "        .master(\"local\")\\\n",
        "        .appName(\"flights\")\\\n",
        "        .getOrCreate()"
      ]
    },
    {
      "cell_type": "code",
      "execution_count": 5,
      "metadata": {
        "colab": {
          "base_uri": "https://localhost:8080/",
          "height": 216
        },
        "id": "FKG4LDHUhEC3",
        "outputId": "67b570a4-34d0-45bf-a029-93914f6bb822"
      },
      "outputs": [
        {
          "data": {
            "text/html": [
              "\n",
              "            <div>\n",
              "                <p><b>SparkSession - in-memory</b></p>\n",
              "                \n",
              "        <div>\n",
              "            <p><b>SparkContext</b></p>\n",
              "\n",
              "            <p><a href=\"http://PCerda:4040\">Spark UI</a></p>\n",
              "\n",
              "            <dl>\n",
              "              <dt>Version</dt>\n",
              "                <dd><code>v3.3.0</code></dd>\n",
              "              <dt>Master</dt>\n",
              "                <dd><code>local</code></dd>\n",
              "              <dt>AppName</dt>\n",
              "                <dd><code>flights</code></dd>\n",
              "            </dl>\n",
              "        </div>\n",
              "        \n",
              "            </div>\n",
              "        "
            ],
            "text/plain": [
              "<pyspark.sql.session.SparkSession at 0x1ff25d65a60>"
            ]
          },
          "execution_count": 5,
          "metadata": {},
          "output_type": "execute_result"
        }
      ],
      "source": [
        "spark"
      ]
    },
    {
      "cell_type": "markdown",
      "metadata": {
        "id": "pc6YURM7hUFY"
      },
      "source": [
        "# Libs imports"
      ]
    },
    {
      "cell_type": "code",
      "execution_count": 6,
      "metadata": {
        "id": "TprKxlEGhYgx"
      },
      "outputs": [],
      "source": [
        "from pyspark.sql.functions import desc, isnan, when, count, col, isnull"
      ]
    },
    {
      "cell_type": "markdown",
      "metadata": {
        "id": "-eEWYgrUhc6X"
      },
      "source": [
        "# Data loading"
      ]
    },
    {
      "cell_type": "code",
      "execution_count": 7,
      "metadata": {
        "colab": {
          "base_uri": "https://localhost:8080/"
        },
        "id": "MQ9uwIhGmWf6",
        "outputId": "31abb8d3-7699-4d21-b88b-5d0e85da872f"
      },
      "outputs": [
        {
          "name": "stdout",
          "output_type": "stream",
          "text": [
            "D:/data_sets/airlines/\n"
          ]
        },
        {
          "data": {
            "text/plain": [
              "[WindowsPath('D:/data_sets/airlines/Combined_Flights_2018.parquet'),\n",
              " WindowsPath('D:/data_sets/airlines/Combined_Flights_2019.parquet'),\n",
              " WindowsPath('D:/data_sets/airlines/Combined_Flights_2020.parquet'),\n",
              " WindowsPath('D:/data_sets/airlines/Combined_Flights_2021.parquet'),\n",
              " WindowsPath('D:/data_sets/airlines/Combined_Flights_2022.parquet')]"
            ]
          },
          "execution_count": 7,
          "metadata": {},
          "output_type": "execute_result"
        }
      ],
      "source": [
        "from pathlib import Path\n",
        "\n",
        "if local_os == \"Windows\":\n",
        "    source = \"D:/data_sets/airlines/\"\n",
        "elif local_os == 'Linux':\n",
        "    source = \"/content/drive/MyDrive/datasets/flights_kaggle_split\"\n",
        "else:\n",
        "    source = \"../data/\"\n",
        "print(source)\n",
        "source_path = Path(source).glob('*.parquet')\n",
        "file_names = sorted(list(source_path))\n",
        "file_names"
      ]
    },
    {
      "cell_type": "code",
      "execution_count": 8,
      "metadata": {
        "colab": {
          "base_uri": "https://localhost:8080/"
        },
        "id": "pUUVY782oiam",
        "outputId": "303e9e40-dd9a-4431-ac92-0aebd65c63ee"
      },
      "outputs": [
        {
          "name": "stdout",
          "output_type": "stream",
          "text": [
            "D:/data_sets/airlines/Combined_Flights_2019.parquet\n",
            "D:/data_sets/airlines/Combined_Flights_2020.parquet\n",
            "D:/data_sets/airlines/Combined_Flights_2021.parquet\n",
            "D:/data_sets/airlines/Combined_Flights_2022.parquet\n"
          ]
        }
      ],
      "source": [
        "def merge_data(file_names):\n",
        "  first_file = file_names.pop(0)\n",
        "  data = spark.read.parquet(first_file.as_posix())\n",
        "  for file_name in file_names:\n",
        "    temp_data = spark.read.parquet(file_name.as_posix())\n",
        "    data = data.union(temp_data)\n",
        "    print(file_name.as_posix())\n",
        "  return data\n",
        "data = merge_data(file_names)"
      ]
    },
    {
      "cell_type": "markdown",
      "metadata": {
        "id": "hd6hRe0_aWU0"
      },
      "source": [
        "# EDA"
      ]
    },
    {
      "cell_type": "code",
      "execution_count": 9,
      "metadata": {
        "colab": {
          "base_uri": "https://localhost:8080/"
        },
        "id": "_daIhykgiA8N",
        "outputId": "cdd5a552-c36d-4ea1-c6ab-e0ce756ebe4c"
      },
      "outputs": [
        {
          "data": {
            "text/plain": [
              "(29193782, 62)"
            ]
          },
          "execution_count": 9,
          "metadata": {},
          "output_type": "execute_result"
        }
      ],
      "source": [
        "data.count(), len(data.columns)"
      ]
    },
    {
      "cell_type": "code",
      "execution_count": 10,
      "metadata": {
        "colab": {
          "base_uri": "https://localhost:8080/"
        },
        "id": "_1qDbHJsZYSd",
        "outputId": "27870204-941f-4a50-b13b-c235de13a942"
      },
      "outputs": [
        {
          "name": "stdout",
          "output_type": "stream",
          "text": [
            "+-------------------+-----------------+------+----+---------+--------+----------+-------+---------------+--------+-------+---------------+-------+--------------+-----------------+--------+----+-------+-----+----------+---------+-------------------------+---------------------------------------+------------------------+---------------------------+-------------------------------+-----------------+------------------------+---------------------------+-----------+-------------------------------+---------------+------------------+------------------+--------------+-----------+---------------+---------------+---------+-------------+----------------+----------------+------------+---------+-------------+-------------+-------+--------+--------------------+----------+-------+---------+--------+------+----------+--------+--------+------------------+----------+-------------+------------------+-----------------+\n",
            "|         FlightDate|          Airline|Origin|Dest|Cancelled|Diverted|CRSDepTime|DepTime|DepDelayMinutes|DepDelay|ArrTime|ArrDelayMinutes|AirTime|CRSElapsedTime|ActualElapsedTime|Distance|Year|Quarter|Month|DayofMonth|DayOfWeek|Marketing_Airline_Network|Operated_or_Branded_Code_Share_Partners|DOT_ID_Marketing_Airline|IATA_Code_Marketing_Airline|Flight_Number_Marketing_Airline|Operating_Airline|DOT_ID_Operating_Airline|IATA_Code_Operating_Airline|Tail_Number|Flight_Number_Operating_Airline|OriginAirportID|OriginAirportSeqID|OriginCityMarketID|OriginCityName|OriginState|OriginStateFips|OriginStateName|OriginWac|DestAirportID|DestAirportSeqID|DestCityMarketID|DestCityName|DestState|DestStateFips|DestStateName|DestWac|DepDel15|DepartureDelayGroups|DepTimeBlk|TaxiOut|WheelsOff|WheelsOn|TaxiIn|CRSArrTime|ArrDelay|ArrDel15|ArrivalDelayGroups|ArrTimeBlk|DistanceGroup|DivAirportLandings|__index_level_0__|\n",
            "+-------------------+-----------------+------+----+---------+--------+----------+-------+---------------+--------+-------+---------------+-------+--------------+-----------------+--------+----+-------+-----+----------+---------+-------------------------+---------------------------------------+------------------------+---------------------------+-------------------------------+-----------------+------------------------+---------------------------+-----------+-------------------------------+---------------+------------------+------------------+--------------+-----------+---------------+---------------+---------+-------------+----------------+----------------+------------+---------+-------------+-------------+-------+--------+--------------------+----------+-------+---------+--------+------+----------+--------+--------+------------------+----------+-------------+------------------+-----------------+\n",
            "|2018-01-22 18:00:00|Endeavor Air Inc.|   ABY| ATL|    false|   false|      1202| 1157.0|            0.0|    -5.0| 1256.0|            0.0|   38.0|          62.0|             59.0|   145.0|2018|      1|    1|        23|        2|                       DL|                           DL_CODESHARE|                   19790|                         DL|                           3298|               9E|                   20363|                         9E|     N8928A|                           3298|          10146|           1014602|             30146|    Albany, GA|         GA|             13|        Georgia|       34|        10397|         1039707|           30397| Atlanta, GA|       GA|           13|      Georgia|     34|     0.0|                -1.0| 1200-1259|   14.0|   1211.0|  1249.0|   7.0|      1304|    -8.0|     0.0|              -1.0| 1300-1359|            1|               0.0|                0|\n",
            "|2018-01-23 18:00:00|Endeavor Air Inc.|   ABY| ATL|    false|   false|      1202| 1157.0|            0.0|    -5.0| 1258.0|            0.0|   36.0|          62.0|             61.0|   145.0|2018|      1|    1|        24|        3|                       DL|                           DL_CODESHARE|                   19790|                         DL|                           3298|               9E|                   20363|                         9E|     N800AY|                           3298|          10146|           1014602|             30146|    Albany, GA|         GA|             13|        Georgia|       34|        10397|         1039707|           30397| Atlanta, GA|       GA|           13|      Georgia|     34|     0.0|                -1.0| 1200-1259|   13.0|   1210.0|  1246.0|  12.0|      1304|    -6.0|     0.0|              -1.0| 1300-1359|            1|               0.0|                1|\n",
            "|2018-01-24 18:00:00|Endeavor Air Inc.|   ABY| ATL|    false|   false|      1202| 1153.0|            0.0|    -9.0| 1302.0|            0.0|   40.0|          62.0|             69.0|   145.0|2018|      1|    1|        25|        4|                       DL|                           DL_CODESHARE|                   19790|                         DL|                           3298|               9E|                   20363|                         9E|     N8836A|                           3298|          10146|           1014602|             30146|    Albany, GA|         GA|             13|        Georgia|       34|        10397|         1039707|           30397| Atlanta, GA|       GA|           13|      Georgia|     34|     0.0|                -1.0| 1200-1259|   18.0|   1211.0|  1251.0|  11.0|      1304|    -2.0|     0.0|              -1.0| 1300-1359|            1|               0.0|                2|\n",
            "|2018-01-25 18:00:00|Endeavor Air Inc.|   ABY| ATL|    false|   false|      1202| 1150.0|            0.0|   -12.0| 1253.0|            0.0|   35.0|          62.0|             63.0|   145.0|2018|      1|    1|        26|        5|                       DL|                           DL_CODESHARE|                   19790|                         DL|                           3298|               9E|                   20363|                         9E|     N800AY|                           3298|          10146|           1014602|             30146|    Albany, GA|         GA|             13|        Georgia|       34|        10397|         1039707|           30397| Atlanta, GA|       GA|           13|      Georgia|     34|     0.0|                -1.0| 1200-1259|   17.0|   1207.0|  1242.0|  11.0|      1304|   -11.0|     0.0|              -1.0| 1300-1359|            1|               0.0|                3|\n",
            "|2018-01-26 18:00:00|Endeavor Air Inc.|   ABY| ATL|    false|   false|      1400| 1355.0|            0.0|    -5.0| 1459.0|            0.0|   36.0|          60.0|             64.0|   145.0|2018|      1|    1|        27|        6|                       DL|                           DL_CODESHARE|                   19790|                         DL|                           3298|               9E|                   20363|                         9E|     N8839E|                           3298|          10146|           1014602|             30146|    Albany, GA|         GA|             13|        Georgia|       34|        10397|         1039707|           30397| Atlanta, GA|       GA|           13|      Georgia|     34|     0.0|                -1.0| 1400-1459|   17.0|   1412.0|  1448.0|  11.0|      1500|    -1.0|     0.0|              -1.0| 1500-1559|            1|               0.0|                4|\n",
            "+-------------------+-----------------+------+----+---------+--------+----------+-------+---------------+--------+-------+---------------+-------+--------------+-----------------+--------+----+-------+-----+----------+---------+-------------------------+---------------------------------------+------------------------+---------------------------+-------------------------------+-----------------+------------------------+---------------------------+-----------+-------------------------------+---------------+------------------+------------------+--------------+-----------+---------------+---------------+---------+-------------+----------------+----------------+------------+---------+-------------+-------------+-------+--------+--------------------+----------+-------+---------+--------+------+----------+--------+--------+------------------+----------+-------------+------------------+-----------------+\n",
            "only showing top 5 rows\n",
            "\n"
          ]
        }
      ],
      "source": [
        "data.show(5)"
      ]
    },
    {
      "cell_type": "markdown",
      "metadata": {
        "id": "oeaIZNcCgTup"
      },
      "source": [
        "## Data types exploration\n",
        "Handling categorical values to train model"
      ]
    },
    {
      "cell_type": "code",
      "execution_count": 11,
      "metadata": {
        "id": "S2C5wYPrmboB"
      },
      "outputs": [],
      "source": [
        "data = data.drop(data.__index_level_0__)"
      ]
    },
    {
      "cell_type": "code",
      "execution_count": 12,
      "metadata": {
        "colab": {
          "base_uri": "https://localhost:8080/"
        },
        "id": "pz0F-87ndtVn",
        "outputId": "fb2914b8-0995-4e4e-c46d-1c3e662f6147"
      },
      "outputs": [
        {
          "data": {
            "text/plain": [
              "{'bigint', 'boolean', 'double', 'string', 'timestamp'}"
            ]
          },
          "execution_count": 12,
          "metadata": {},
          "output_type": "execute_result"
        }
      ],
      "source": [
        "dtypes = set()\n",
        "[dtypes.add(item[1]) for item in data.dtypes]\n",
        "dtypes"
      ]
    },
    {
      "cell_type": "markdown",
      "metadata": {
        "id": "v1O3E8vh0NjO"
      },
      "source": [
        "### Boolean exploration"
      ]
    },
    {
      "cell_type": "code",
      "execution_count": 13,
      "metadata": {
        "colab": {
          "base_uri": "https://localhost:8080/"
        },
        "id": "ImLhGtsSbqCk",
        "outputId": "f8d7ec72-88a6-43ed-a11d-67b9e7f20a23"
      },
      "outputs": [
        {
          "data": {
            "text/plain": [
              "['Cancelled', 'Diverted']"
            ]
          },
          "execution_count": 13,
          "metadata": {},
          "output_type": "execute_result"
        }
      ],
      "source": [
        "[item[0] for item in data.dtypes if item[1] == 'boolean']"
      ]
    },
    {
      "cell_type": "code",
      "execution_count": 14,
      "metadata": {
        "colab": {
          "base_uri": "https://localhost:8080/"
        },
        "id": "PTJnZqO40Mge",
        "outputId": "155b7178-f88a-41b6-b42b-fc984a0287b3"
      },
      "outputs": [
        {
          "data": {
            "text/plain": [
              "[Row(Cancelled=True, count=777267), Row(Cancelled=False, count=28416515)]"
            ]
          },
          "execution_count": 14,
          "metadata": {},
          "output_type": "execute_result"
        }
      ],
      "source": [
        "data.groupBy('Cancelled').count().orderBy('count').collect()"
      ]
    },
    {
      "cell_type": "code",
      "execution_count": 15,
      "metadata": {
        "colab": {
          "base_uri": "https://localhost:8080/"
        },
        "id": "7Yrdj3IY1Dei",
        "outputId": "c076e788-d26a-48dd-d628-1d5297925d00"
      },
      "outputs": [
        {
          "data": {
            "text/plain": [
              "[Row(Diverted=True, count=68349), Row(Diverted=False, count=29125433)]"
            ]
          },
          "execution_count": 15,
          "metadata": {},
          "output_type": "execute_result"
        }
      ],
      "source": [
        "data.groupBy('Diverted').count().orderBy('count').collect()"
      ]
    },
    {
      "cell_type": "markdown",
      "metadata": {
        "id": "UXdpobxf1OnW"
      },
      "source": [
        "### String exploration"
      ]
    },
    {
      "cell_type": "code",
      "execution_count": 16,
      "metadata": {
        "id": "ZVZekqmC1Spq"
      },
      "outputs": [],
      "source": [
        "str_columns = [item[0] for item in data.dtypes if item[1] == 'string']"
      ]
    },
    {
      "cell_type": "code",
      "execution_count": 17,
      "metadata": {
        "colab": {
          "base_uri": "https://localhost:8080/"
        },
        "id": "UQ7KVqzE1wtb",
        "outputId": "78ec47aa-77bc-44fd-88e1-c09fe362f69c"
      },
      "outputs": [
        {
          "name": "stdout",
          "output_type": "stream",
          "text": [
            "+-----------------+------+----+-------------------------+---------------------------------------+---------------------------+-----------------+---------------------------+-----------+--------------+-----------+---------------+------------+---------+-------------+----------+----------+\n",
            "|          Airline|Origin|Dest|Marketing_Airline_Network|Operated_or_Branded_Code_Share_Partners|IATA_Code_Marketing_Airline|Operating_Airline|IATA_Code_Operating_Airline|Tail_Number|OriginCityName|OriginState|OriginStateName|DestCityName|DestState|DestStateName|DepTimeBlk|ArrTimeBlk|\n",
            "+-----------------+------+----+-------------------------+---------------------------------------+---------------------------+-----------------+---------------------------+-----------+--------------+-----------+---------------+------------+---------+-------------+----------+----------+\n",
            "|Endeavor Air Inc.|   ABY| ATL|                       DL|                           DL_CODESHARE|                         DL|               9E|                         9E|     N8928A|    Albany, GA|         GA|        Georgia| Atlanta, GA|       GA|      Georgia| 1200-1259| 1300-1359|\n",
            "|Endeavor Air Inc.|   ABY| ATL|                       DL|                           DL_CODESHARE|                         DL|               9E|                         9E|     N800AY|    Albany, GA|         GA|        Georgia| Atlanta, GA|       GA|      Georgia| 1200-1259| 1300-1359|\n",
            "|Endeavor Air Inc.|   ABY| ATL|                       DL|                           DL_CODESHARE|                         DL|               9E|                         9E|     N8836A|    Albany, GA|         GA|        Georgia| Atlanta, GA|       GA|      Georgia| 1200-1259| 1300-1359|\n",
            "|Endeavor Air Inc.|   ABY| ATL|                       DL|                           DL_CODESHARE|                         DL|               9E|                         9E|     N800AY|    Albany, GA|         GA|        Georgia| Atlanta, GA|       GA|      Georgia| 1200-1259| 1300-1359|\n",
            "|Endeavor Air Inc.|   ABY| ATL|                       DL|                           DL_CODESHARE|                         DL|               9E|                         9E|     N8839E|    Albany, GA|         GA|        Georgia| Atlanta, GA|       GA|      Georgia| 1400-1459| 1500-1559|\n",
            "+-----------------+------+----+-------------------------+---------------------------------------+---------------------------+-----------------+---------------------------+-----------+--------------+-----------+---------------+------------+---------+-------------+----------+----------+\n",
            "only showing top 5 rows\n",
            "\n"
          ]
        }
      ],
      "source": [
        "data.select(str_columns).show(5)"
      ]
    },
    {
      "cell_type": "markdown",
      "metadata": {},
      "source": [
        "### Timestamp exploration"
      ]
    },
    {
      "cell_type": "code",
      "execution_count": 18,
      "metadata": {},
      "outputs": [],
      "source": [
        "timestamp_columns = [item[0] for item in data.dtypes if item[1] == 'timestamp']"
      ]
    },
    {
      "cell_type": "code",
      "execution_count": 19,
      "metadata": {},
      "outputs": [
        {
          "name": "stdout",
          "output_type": "stream",
          "text": [
            "+-------------------+\n",
            "|         FlightDate|\n",
            "+-------------------+\n",
            "|2018-01-22 18:00:00|\n",
            "|2018-01-23 18:00:00|\n",
            "|2018-01-24 18:00:00|\n",
            "|2018-01-25 18:00:00|\n",
            "|2018-01-26 18:00:00|\n",
            "+-------------------+\n",
            "only showing top 5 rows\n",
            "\n"
          ]
        }
      ],
      "source": [
        "data.select(timestamp_columns).show(5)"
      ]
    },
    {
      "cell_type": "markdown",
      "metadata": {
        "id": "Ut_13ayUgO2B"
      },
      "source": [
        "## Null values handling"
      ]
    },
    {
      "cell_type": "code",
      "execution_count": 20,
      "metadata": {
        "colab": {
          "base_uri": "https://localhost:8080/"
        },
        "id": "koe30nMYgSwk",
        "outputId": "8d739afd-f822-488c-aec0-06be5b6819ec"
      },
      "outputs": [
        {
          "name": "stdout",
          "output_type": "stream",
          "text": [
            "+----------+-------+------+----+---------+--------+----------+-------+---------------+--------+-------+---------------+-------+--------------+-----------------+--------+----+-------+-----+----------+---------+-------------------------+---------------------------------------+------------------------+---------------------------+-------------------------------+-----------------+------------------------+---------------------------+-----------+-------------------------------+---------------+------------------+------------------+--------------+-----------+---------------+---------------+---------+-------------+----------------+----------------+------------+---------+-------------+-------------+-------+--------+--------------------+----------+-------+---------+--------+------+----------+--------+--------+------------------+----------+-------------+------------------+\n",
            "|FlightDate|Airline|Origin|Dest|Cancelled|Diverted|CRSDepTime|DepTime|DepDelayMinutes|DepDelay|ArrTime|ArrDelayMinutes|AirTime|CRSElapsedTime|ActualElapsedTime|Distance|Year|Quarter|Month|DayofMonth|DayOfWeek|Marketing_Airline_Network|Operated_or_Branded_Code_Share_Partners|DOT_ID_Marketing_Airline|IATA_Code_Marketing_Airline|Flight_Number_Marketing_Airline|Operating_Airline|DOT_ID_Operating_Airline|IATA_Code_Operating_Airline|Tail_Number|Flight_Number_Operating_Airline|OriginAirportID|OriginAirportSeqID|OriginCityMarketID|OriginCityName|OriginState|OriginStateFips|OriginStateName|OriginWac|DestAirportID|DestAirportSeqID|DestCityMarketID|DestCityName|DestState|DestStateFips|DestStateName|DestWac|DepDel15|DepartureDelayGroups|DepTimeBlk|TaxiOut|WheelsOff|WheelsOn|TaxiIn|CRSArrTime|ArrDelay|ArrDel15|ArrivalDelayGroups|ArrTimeBlk|DistanceGroup|DivAirportLandings|\n",
            "+----------+-------+------+----+---------+--------+----------+-------+---------------+--------+-------+---------------+-------+--------------+-----------------+--------+----+-------+-----+----------+---------+-------------------------+---------------------------------------+------------------------+---------------------------+-------------------------------+-----------------+------------------------+---------------------------+-----------+-------------------------------+---------------+------------------+------------------+--------------+-----------+---------------+---------------+---------+-------------+----------------+----------------+------------+---------+-------------+-------------+-------+--------+--------------------+----------+-------+---------+--------+------+----------+--------+--------+------------------+----------+-------------+------------------+\n",
            "|         0|      0|     0|   0|        0|       0|         0| 761652|         763084|  763084| 786177|         846183| 852561|            22|           845637|       0|   0|      0|    0|         0|        0|                        0|                                      0|                       0|                          0|                              0|                0|                       0|                          0|     267613|                              0|              0|                 0|                 0|             0|          0|              0|              0|        0|            0|               0|               0|           0|        0|            0|            0|      0|  763084|              763084|         0| 780561|   780551|  793133|793143|         0|  846183|  846183|            846183|         0|            0|                90|\n",
            "+----------+-------+------+----+---------+--------+----------+-------+---------------+--------+-------+---------------+-------+--------------+-----------------+--------+----+-------+-----+----------+---------+-------------------------+---------------------------------------+------------------------+---------------------------+-------------------------------+-----------------+------------------------+---------------------------+-----------+-------------------------------+---------------+------------------+------------------+--------------+-----------+---------------+---------------+---------+-------------+----------------+----------------+------------+---------+-------------+-------------+-------+--------+--------------------+----------+-------+---------+--------+------+----------+--------+--------+------------------+----------+-------------+------------------+\n",
            "\n"
          ]
        }
      ],
      "source": [
        "null_count = data.select([count(when(col(c).isNull(), c)).alias(c) for c in data.columns])\n",
        "null_count.show()"
      ]
    },
    {
      "cell_type": "code",
      "execution_count": 21,
      "metadata": {
        "id": "INq2CP3TqBuz"
      },
      "outputs": [],
      "source": [
        "null_values = null_count.collect()[0].asDict()"
      ]
    },
    {
      "cell_type": "code",
      "execution_count": 22,
      "metadata": {
        "colab": {
          "base_uri": "https://localhost:8080/"
        },
        "id": "az_gBpqsn63k",
        "outputId": "b65d2bc8-51e4-4813-fc1f-faf7209f795e"
      },
      "outputs": [
        {
          "name": "stdout",
          "output_type": "stream",
          "text": [
            "+-------+---------------+--------+-------+---------------+-------+--------------+-----------------+-----------+--------+--------------------+-------+---------+--------+------+--------+--------+------------------+------------------+\n",
            "|DepTime|DepDelayMinutes|DepDelay|ArrTime|ArrDelayMinutes|AirTime|CRSElapsedTime|ActualElapsedTime|Tail_Number|DepDel15|DepartureDelayGroups|TaxiOut|WheelsOff|WheelsOn|TaxiIn|ArrDelay|ArrDel15|ArrivalDelayGroups|DivAirportLandings|\n",
            "+-------+---------------+--------+-------+---------------+-------+--------------+-----------------+-----------+--------+--------------------+-------+---------+--------+------+--------+--------+------------------+------------------+\n",
            "| 761652|         763084|  763084| 786177|         846183| 852561|            22|           845637|     267613|  763084|              763084| 780561|   780551|  793133|793143|  846183|  846183|            846183|                90|\n",
            "+-------+---------------+--------+-------+---------------+-------+--------------+-----------------+-----------+--------+--------------------+-------+---------+--------+------+--------+--------+------------------+------------------+\n",
            "\n"
          ]
        }
      ],
      "source": [
        "only_nulls = null_count.select([key for key in null_values if null_values[key] != 0])\n",
        "only_nulls.show()"
      ]
    },
    {
      "cell_type": "markdown",
      "metadata": {},
      "source": [
        "## Drop all null values"
      ]
    },
    {
      "cell_type": "code",
      "execution_count": 23,
      "metadata": {},
      "outputs": [],
      "source": [
        "data_no_na = data.dropna()"
      ]
    },
    {
      "cell_type": "markdown",
      "metadata": {},
      "source": [
        "# Feature selection"
      ]
    },
    {
      "cell_type": "code",
      "execution_count": 24,
      "metadata": {},
      "outputs": [],
      "source": [
        "#Drop timestamp data\n",
        "data_no_na = data_no_na.drop('FlightDate')"
      ]
    },
    {
      "cell_type": "code",
      "execution_count": 25,
      "metadata": {},
      "outputs": [
        {
          "data": {
            "text/plain": [
              "(28339510, 60)"
            ]
          },
          "execution_count": 25,
          "metadata": {},
          "output_type": "execute_result"
        }
      ],
      "source": [
        "data_no_na.count(), len(data_no_na.columns)"
      ]
    },
    {
      "cell_type": "code",
      "execution_count": 26,
      "metadata": {},
      "outputs": [],
      "source": [
        "cols_to_encode = ['Airline', 'Origin', 'Dest']\n",
        "[str_columns.remove(x) for x in cols_to_encode]\n",
        "None"
      ]
    },
    {
      "cell_type": "code",
      "execution_count": 27,
      "metadata": {},
      "outputs": [
        {
          "data": {
            "text/plain": [
              "(28339510, 46)"
            ]
          },
          "execution_count": 27,
          "metadata": {},
          "output_type": "execute_result"
        }
      ],
      "source": [
        "data_no_na = data_no_na.drop(*str_columns)\n",
        "data_no_na.count(), len(data_no_na.columns)"
      ]
    },
    {
      "cell_type": "code",
      "execution_count": 28,
      "metadata": {
        "colab": {
          "base_uri": "https://localhost:8080/"
        },
        "id": "Xobj-_MtqJw5",
        "outputId": "29ac8acc-d339-4c8f-f7f4-0b0261b4e99b"
      },
      "outputs": [
        {
          "name": "stdout",
          "output_type": "stream",
          "text": [
            "root\n",
            " |-- Airline: string (nullable = true)\n",
            " |-- Origin: string (nullable = true)\n",
            " |-- Dest: string (nullable = true)\n",
            " |-- Cancelled: boolean (nullable = true)\n",
            " |-- Diverted: boolean (nullable = true)\n",
            " |-- CRSDepTime: long (nullable = true)\n",
            " |-- DepTime: double (nullable = true)\n",
            " |-- DepDelayMinutes: double (nullable = true)\n",
            " |-- DepDelay: double (nullable = true)\n",
            " |-- ArrTime: double (nullable = true)\n",
            " |-- ArrDelayMinutes: double (nullable = true)\n",
            " |-- AirTime: double (nullable = true)\n",
            " |-- CRSElapsedTime: double (nullable = true)\n",
            " |-- ActualElapsedTime: double (nullable = true)\n",
            " |-- Distance: double (nullable = true)\n",
            " |-- Year: long (nullable = true)\n",
            " |-- Quarter: long (nullable = true)\n",
            " |-- Month: long (nullable = true)\n",
            " |-- DayofMonth: long (nullable = true)\n",
            " |-- DayOfWeek: long (nullable = true)\n",
            " |-- DOT_ID_Marketing_Airline: long (nullable = true)\n",
            " |-- Flight_Number_Marketing_Airline: long (nullable = true)\n",
            " |-- DOT_ID_Operating_Airline: long (nullable = true)\n",
            " |-- Flight_Number_Operating_Airline: long (nullable = true)\n",
            " |-- OriginAirportID: long (nullable = true)\n",
            " |-- OriginAirportSeqID: long (nullable = true)\n",
            " |-- OriginCityMarketID: long (nullable = true)\n",
            " |-- OriginStateFips: long (nullable = true)\n",
            " |-- OriginWac: long (nullable = true)\n",
            " |-- DestAirportID: long (nullable = true)\n",
            " |-- DestAirportSeqID: long (nullable = true)\n",
            " |-- DestCityMarketID: long (nullable = true)\n",
            " |-- DestStateFips: long (nullable = true)\n",
            " |-- DestWac: long (nullable = true)\n",
            " |-- DepDel15: double (nullable = true)\n",
            " |-- DepartureDelayGroups: double (nullable = true)\n",
            " |-- TaxiOut: double (nullable = true)\n",
            " |-- WheelsOff: double (nullable = true)\n",
            " |-- WheelsOn: double (nullable = true)\n",
            " |-- TaxiIn: double (nullable = true)\n",
            " |-- CRSArrTime: long (nullable = true)\n",
            " |-- ArrDelay: double (nullable = true)\n",
            " |-- ArrDel15: double (nullable = true)\n",
            " |-- ArrivalDelayGroups: double (nullable = true)\n",
            " |-- DistanceGroup: long (nullable = true)\n",
            " |-- DivAirportLandings: double (nullable = true)\n",
            "\n"
          ]
        }
      ],
      "source": [
        "data_no_na.printSchema()"
      ]
    },
    {
      "cell_type": "code",
      "execution_count": 29,
      "metadata": {},
      "outputs": [],
      "source": [
        "dep_cols = [x for x in data_no_na.columns if \"Dep\" in x]\n",
        "arr_cols = [x for x in data_no_na.columns if \"Arr\" in x]"
      ]
    },
    {
      "cell_type": "code",
      "execution_count": 30,
      "metadata": {},
      "outputs": [
        {
          "data": {
            "text/plain": [
              "['CRSDepTime',\n",
              " 'DepTime',\n",
              " 'DepDelayMinutes',\n",
              " 'DepDelay',\n",
              " 'DepDel15',\n",
              " 'DepartureDelayGroups',\n",
              " 'ArrTime',\n",
              " 'ArrDelayMinutes',\n",
              " 'CRSArrTime',\n",
              " 'ArrDelay',\n",
              " 'ArrDel15',\n",
              " 'ArrivalDelayGroups']"
            ]
          },
          "execution_count": 30,
          "metadata": {},
          "output_type": "execute_result"
        }
      ],
      "source": [
        "time_columns = dep_cols + arr_cols\n",
        "time_columns"
      ]
    },
    {
      "cell_type": "code",
      "execution_count": 31,
      "metadata": {},
      "outputs": [
        {
          "data": {
            "text/plain": [
              "['CRSDepTime',\n",
              " 'DepDelayMinutes',\n",
              " 'DepDelay',\n",
              " 'DepDel15',\n",
              " 'DepartureDelayGroups',\n",
              " 'ArrTime',\n",
              " 'ArrDelayMinutes',\n",
              " 'CRSArrTime',\n",
              " 'ArrDelay',\n",
              " 'ArrDel15',\n",
              " 'ArrivalDelayGroups']"
            ]
          },
          "execution_count": 31,
          "metadata": {},
          "output_type": "execute_result"
        }
      ],
      "source": [
        "time_columns.remove('DepTime')\n",
        "# time_columns.remove('ArrTime')\n",
        "time_columns"
      ]
    },
    {
      "cell_type": "code",
      "execution_count": 32,
      "metadata": {},
      "outputs": [
        {
          "name": "stdout",
          "output_type": "stream",
          "text": [
            "+-------+-----------------+\n",
            "|summary|         DepDelay|\n",
            "+-------+-----------------+\n",
            "|  count|         28339510|\n",
            "|   mean| 9.23847367156313|\n",
            "| stddev|47.10140749050439|\n",
            "|    min|          -1280.0|\n",
            "|    max|           7223.0|\n",
            "+-------+-----------------+\n",
            "\n"
          ]
        }
      ],
      "source": [
        "data_no_na.select('DepDelay').describe().show()"
      ]
    },
    {
      "cell_type": "code",
      "execution_count": 33,
      "metadata": {},
      "outputs": [
        {
          "name": "stdout",
          "output_type": "stream",
          "text": [
            "+-------+------------------+\n",
            "|summary|          ArrDelay|\n",
            "+-------+------------------+\n",
            "|  count|          28339510|\n",
            "|   mean|3.6081859213514984|\n",
            "| stddev| 49.28063347282263|\n",
            "|    min|           -1290.0|\n",
            "|    max|            7232.0|\n",
            "+-------+------------------+\n",
            "\n"
          ]
        }
      ],
      "source": [
        "data_no_na.select('ArrDelay').describe().show()"
      ]
    },
    {
      "cell_type": "code",
      "execution_count": 34,
      "metadata": {},
      "outputs": [],
      "source": [
        "data_no_na = data_no_na.drop(*time_columns)"
      ]
    },
    {
      "cell_type": "code",
      "execution_count": 35,
      "metadata": {},
      "outputs": [
        {
          "data": {
            "text/plain": [
              "35"
            ]
          },
          "execution_count": 35,
          "metadata": {},
          "output_type": "execute_result"
        }
      ],
      "source": [
        "len(data_no_na.columns)"
      ]
    },
    {
      "cell_type": "markdown",
      "metadata": {},
      "source": [
        "## One hot enconding"
      ]
    },
    {
      "cell_type": "code",
      "execution_count": 36,
      "metadata": {},
      "outputs": [],
      "source": [
        "from pyspark.ml.feature import StringIndexer, OneHotEncoder"
      ]
    },
    {
      "cell_type": "code",
      "execution_count": 37,
      "metadata": {},
      "outputs": [
        {
          "name": "stdout",
          "output_type": "stream",
          "text": [
            "+-----------------+------+----+---------+--------+-------+-------+--------------+-----------------+--------+----+-------+-----+----------+---------+------------------------+-------------------------------+------------------------+-------------------------------+---------------+------------------+------------------+---------------+---------+-------------+----------------+----------------+-------------+-------+-------+---------+--------+------+-------------+------------------+-----------+----------+--------+\n",
            "|          Airline|Origin|Dest|Cancelled|Diverted|DepTime|AirTime|CRSElapsedTime|ActualElapsedTime|Distance|Year|Quarter|Month|DayofMonth|DayOfWeek|DOT_ID_Marketing_Airline|Flight_Number_Marketing_Airline|DOT_ID_Operating_Airline|Flight_Number_Operating_Airline|OriginAirportID|OriginAirportSeqID|OriginCityMarketID|OriginStateFips|OriginWac|DestAirportID|DestAirportSeqID|DestCityMarketID|DestStateFips|DestWac|TaxiOut|WheelsOff|WheelsOn|TaxiIn|DistanceGroup|DivAirportLandings|Airline_num|Origin_num|Dest_num|\n",
            "+-----------------+------+----+---------+--------+-------+-------+--------------+-----------------+--------+----+-------+-----+----------+---------+------------------------+-------------------------------+------------------------+-------------------------------+---------------+------------------+------------------+---------------+---------+-------------+----------------+----------------+-------------+-------+-------+---------+--------+------+-------------+------------------+-----------+----------+--------+\n",
            "|Endeavor Air Inc.|   ABY| ATL|    false|   false| 1157.0|   38.0|          62.0|             59.0|   145.0|2018|      1|    1|        23|        2|                   19790|                           3298|                   20363|                           3298|          10146|           1014602|             30146|             13|       34|        10397|         1039707|           30397|           13|     34|   14.0|   1211.0|  1249.0|   7.0|            1|               0.0|        8.0|     271.0|     0.0|\n",
            "|Endeavor Air Inc.|   ABY| ATL|    false|   false| 1157.0|   36.0|          62.0|             61.0|   145.0|2018|      1|    1|        24|        3|                   19790|                           3298|                   20363|                           3298|          10146|           1014602|             30146|             13|       34|        10397|         1039707|           30397|           13|     34|   13.0|   1210.0|  1246.0|  12.0|            1|               0.0|        8.0|     271.0|     0.0|\n",
            "|Endeavor Air Inc.|   ABY| ATL|    false|   false| 1153.0|   40.0|          62.0|             69.0|   145.0|2018|      1|    1|        25|        4|                   19790|                           3298|                   20363|                           3298|          10146|           1014602|             30146|             13|       34|        10397|         1039707|           30397|           13|     34|   18.0|   1211.0|  1251.0|  11.0|            1|               0.0|        8.0|     271.0|     0.0|\n",
            "|Endeavor Air Inc.|   ABY| ATL|    false|   false| 1150.0|   35.0|          62.0|             63.0|   145.0|2018|      1|    1|        26|        5|                   19790|                           3298|                   20363|                           3298|          10146|           1014602|             30146|             13|       34|        10397|         1039707|           30397|           13|     34|   17.0|   1207.0|  1242.0|  11.0|            1|               0.0|        8.0|     271.0|     0.0|\n",
            "|Endeavor Air Inc.|   ABY| ATL|    false|   false| 1355.0|   36.0|          60.0|             64.0|   145.0|2018|      1|    1|        27|        6|                   19790|                           3298|                   20363|                           3298|          10146|           1014602|             30146|             13|       34|        10397|         1039707|           30397|           13|     34|   17.0|   1412.0|  1448.0|  11.0|            1|               0.0|        8.0|     271.0|     0.0|\n",
            "+-----------------+------+----+---------+--------+-------+-------+--------------+-----------------+--------+----+-------+-----+----------+---------+------------------------+-------------------------------+------------------------+-------------------------------+---------------+------------------+------------------+---------------+---------+-------------+----------------+----------------+-------------+-------+-------+---------+--------+------+-------------+------------------+-----------+----------+--------+\n",
            "only showing top 5 rows\n",
            "\n"
          ]
        }
      ],
      "source": [
        "def convert_categoric_to_numeric(dataframe, columns):\n",
        "    ''' Use string indexer to code categorical to numerical and create new column on dataframe'''\n",
        "    new_cols = []\n",
        "    for column in columns:\n",
        "        num_col= column + \"_num\"\n",
        "        new_cols.append(num_col)\n",
        "        indexer = StringIndexer(inputCol=column, outputCol=num_col).fit(data_no_na)\n",
        "        dataframe = indexer.transform(dataframe)\n",
        "    return dataframe, new_cols\n",
        "df, new_cols = convert_categoric_to_numeric(data_no_na, cols_to_encode)\n",
        "# Drop remaining columns\n",
        "# df = df.drop(*cols_to_encode)\n",
        "df.show(5)"
      ]
    },
    {
      "cell_type": "code",
      "execution_count": 38,
      "metadata": {},
      "outputs": [],
      "source": [
        "def generate_dummy_columns(dataframe, columns):\n",
        "    ''' Use OneHotEncoder to convert enconded variables to vec column on dataframe'''\n",
        "    for column in columns:\n",
        "        col_vector = column + \"_vec\"\n",
        "        enconder = OneHotEncoder(inputCol=column, outputCol=col_vector, dropLast=False).fit(dataframe)\n",
        "        dataframe = enconder.transform(dataframe)\n",
        "    return dataframe\n",
        "df = generate_dummy_columns(df, new_cols)\n",
        "# Drop encoded columns\n",
        "df = df.drop(*new_cols)"
      ]
    },
    {
      "cell_type": "code",
      "execution_count": 41,
      "metadata": {},
      "outputs": [],
      "source": [
        "from pyspark.ml.functions import vector_to_array"
      ]
    },
    {
      "cell_type": "code",
      "execution_count": 54,
      "metadata": {},
      "outputs": [
        {
          "name": "stdout",
          "output_type": "stream",
          "text": [
            "+-----------------+------+----+---------+--------+-------+-------+--------------+-----------------+--------+----+-------+-----+----------+---------+------------------------+-------------------------------+------------------------+-------------------------------+---------------+------------------+------------------+---------------+---------+-------------+----------------+----------------+-------------+-------+-------+---------+--------+------+-------------+------------------+---------------+-----------------+---------------+--------------------+\n",
            "|          Airline|Origin|Dest|Cancelled|Diverted|DepTime|AirTime|CRSElapsedTime|ActualElapsedTime|Distance|Year|Quarter|Month|DayofMonth|DayOfWeek|DOT_ID_Marketing_Airline|Flight_Number_Marketing_Airline|DOT_ID_Operating_Airline|Flight_Number_Operating_Airline|OriginAirportID|OriginAirportSeqID|OriginCityMarketID|OriginStateFips|OriginWac|DestAirportID|DestAirportSeqID|DestCityMarketID|DestStateFips|DestWac|TaxiOut|WheelsOff|WheelsOn|TaxiIn|DistanceGroup|DivAirportLandings|Airline_num_vec|   Origin_num_vec|   Dest_num_vec|     airline_one_hot|\n",
            "+-----------------+------+----+---------+--------+-------+-------+--------------+-----------------+--------+----+-------+-----+----------+---------+------------------------+-------------------------------+------------------------+-------------------------------+---------------+------------------+------------------+---------------+---------+-------------+----------------+----------------+-------------+-------+-------+---------+--------+------+-------------+------------------+---------------+-----------------+---------------+--------------------+\n",
            "|Endeavor Air Inc.|   ABY| ATL|    false|   false| 1157.0|   38.0|          62.0|             59.0|   145.0|2018|      1|    1|        23|        2|                   19790|                           3298|                   20363|                           3298|          10146|           1014602|             30146|             13|       34|        10397|         1039707|           30397|           13|     34|   14.0|   1211.0|  1249.0|   7.0|            1|               0.0| (28,[8],[1.0])|(388,[271],[1.0])|(388,[0],[1.0])|[0.0, 0.0, 0.0, 0...|\n",
            "+-----------------+------+----+---------+--------+-------+-------+--------------+-----------------+--------+----+-------+-----+----------+---------+------------------------+-------------------------------+------------------------+-------------------------------+---------------+------------------+------------------+---------------+---------+-------------+----------------+----------------+-------------+-------+-------+---------+--------+------+-------------+------------------+---------------+-----------------+---------------+--------------------+\n",
            "only showing top 1 row\n",
            "\n"
          ]
        }
      ],
      "source": [
        "df_col_onehot = df.select('*', vector_to_array('Airline_num_vec').alias('airline_one_hot'))\n",
        "df_col_onehot.show(1)\n"
      ]
    },
    {
      "cell_type": "code",
      "execution_count": 55,
      "metadata": {},
      "outputs": [
        {
          "data": {
            "text/plain": [
              "28"
            ]
          },
          "execution_count": 55,
          "metadata": {},
          "output_type": "execute_result"
        }
      ],
      "source": [
        "len(df_col_onehot.first()[\"airline_one_hot\"])"
      ]
    },
    {
      "cell_type": "code",
      "execution_count": 71,
      "metadata": {},
      "outputs": [
        {
          "name": "stdout",
          "output_type": "stream",
          "text": [
            "+-----------------+------+----+---------+--------+-------+-------+--------------+-----------------+--------+----+-------+-----+----------+---------+------------------------+-------------------------------+------------------------+-------------------------------+---------------+------------------+------------------+---------------+---------+-------------+----------------+----------------+-------------+-------+-------+---------+--------+------+-------------+------------------+---------------+-----------------+---------------+--------------------+------------------+------------------+------------------+------------------+------------------+------------------+------------------+------------------+------------------+------------------+-------------------+-------------------+-------------------+-------------------+-------------------+-------------------+-------------------+-------------------+-------------------+-------------------+-------------------+-------------------+-------------------+-------------------+-------------------+-------------------+-------------------+-------------------+\n",
            "|          Airline|Origin|Dest|Cancelled|Diverted|DepTime|AirTime|CRSElapsedTime|ActualElapsedTime|Distance|Year|Quarter|Month|DayofMonth|DayOfWeek|DOT_ID_Marketing_Airline|Flight_Number_Marketing_Airline|DOT_ID_Operating_Airline|Flight_Number_Operating_Airline|OriginAirportID|OriginAirportSeqID|OriginCityMarketID|OriginStateFips|OriginWac|DestAirportID|DestAirportSeqID|DestCityMarketID|DestStateFips|DestWac|TaxiOut|WheelsOff|WheelsOn|TaxiIn|DistanceGroup|DivAirportLandings|Airline_num_vec|   Origin_num_vec|   Dest_num_vec|     airline_one_hot|airline_one_hot[0]|airline_one_hot[1]|airline_one_hot[2]|airline_one_hot[3]|airline_one_hot[4]|airline_one_hot[5]|airline_one_hot[6]|airline_one_hot[7]|airline_one_hot[8]|airline_one_hot[9]|airline_one_hot[10]|airline_one_hot[11]|airline_one_hot[12]|airline_one_hot[13]|airline_one_hot[14]|airline_one_hot[15]|airline_one_hot[16]|airline_one_hot[17]|airline_one_hot[18]|airline_one_hot[19]|airline_one_hot[20]|airline_one_hot[21]|airline_one_hot[22]|airline_one_hot[23]|airline_one_hot[24]|airline_one_hot[25]|airline_one_hot[26]|airline_one_hot[27]|\n",
            "+-----------------+------+----+---------+--------+-------+-------+--------------+-----------------+--------+----+-------+-----+----------+---------+------------------------+-------------------------------+------------------------+-------------------------------+---------------+------------------+------------------+---------------+---------+-------------+----------------+----------------+-------------+-------+-------+---------+--------+------+-------------+------------------+---------------+-----------------+---------------+--------------------+------------------+------------------+------------------+------------------+------------------+------------------+------------------+------------------+------------------+------------------+-------------------+-------------------+-------------------+-------------------+-------------------+-------------------+-------------------+-------------------+-------------------+-------------------+-------------------+-------------------+-------------------+-------------------+-------------------+-------------------+-------------------+-------------------+\n",
            "|Endeavor Air Inc.|   ABY| ATL|    false|   false| 1157.0|   38.0|          62.0|             59.0|   145.0|2018|      1|    1|        23|        2|                   19790|                           3298|                   20363|                           3298|          10146|           1014602|             30146|             13|       34|        10397|         1039707|           30397|           13|     34|   14.0|   1211.0|  1249.0|   7.0|            1|               0.0| (28,[8],[1.0])|(388,[271],[1.0])|(388,[0],[1.0])|[0.0, 0.0, 0.0, 0...|               0.0|               0.0|               0.0|               0.0|               0.0|               0.0|               0.0|               0.0|               1.0|               0.0|                0.0|                0.0|                0.0|                0.0|                0.0|                0.0|                0.0|                0.0|                0.0|                0.0|                0.0|                0.0|                0.0|                0.0|                0.0|                0.0|                0.0|                0.0|\n",
            "+-----------------+------+----+---------+--------+-------+-------+--------------+-----------------+--------+----+-------+-----+----------+---------+------------------------+-------------------------------+------------------------+-------------------------------+---------------+------------------+------------------+---------------+---------+-------------+----------------+----------------+-------------+-------+-------+---------+--------+------+-------------+------------------+---------------+-----------------+---------------+--------------------+------------------+------------------+------------------+------------------+------------------+------------------+------------------+------------------+------------------+------------------+-------------------+-------------------+-------------------+-------------------+-------------------+-------------------+-------------------+-------------------+-------------------+-------------------+-------------------+-------------------+-------------------+-------------------+-------------------+-------------------+-------------------+-------------------+\n",
            "only showing top 1 row\n",
            "\n"
          ]
        }
      ],
      "source": [
        "num_categories = len(df_col_onehot.first()[\"airline_one_hot\"])\n",
        "cols_expanded = [(col('airline_one_hot')[i]) for i in range(num_categories)]\n",
        "df_cols_onehot = df_col_onehot.select('*', *cols_expanded)\n",
        "df_cols_onehot.show(1)"
      ]
    },
    {
      "cell_type": "code",
      "execution_count": 78,
      "metadata": {},
      "outputs": [
        {
          "name": "stdout",
          "output_type": "stream",
          "text": [
            "+-----------------+------+----+---------+--------+-------+-------+--------------+-----------------+--------+----+-------+-----+----------+---------+------------------------+-------------------------------+------------------------+-------------------------------+---------------+------------------+------------------+---------------+---------+-------------+----------------+----------------+-------------+-------+-------+---------+--------+------+-------------+------------------+---------------+-----------------+---------------+--------------------+----------------------+--------------------+---------------------+----------------------+---------------------+-----------------+---------------+---------+-----------------+-----------+--------------------+----------------+------------------+----------------------+-------------+-----------+---------------------------+---------------------------+------------------------+----------------------+----------------------------------------+-----------------------------------------+---------------------+----------------+--------------+--------------------+----------------------+--------+\n",
            "|          Airline|Origin|Dest|Cancelled|Diverted|DepTime|AirTime|CRSElapsedTime|ActualElapsedTime|Distance|Year|Quarter|Month|DayofMonth|DayOfWeek|DOT_ID_Marketing_Airline|Flight_Number_Marketing_Airline|DOT_ID_Operating_Airline|Flight_Number_Operating_Airline|OriginAirportID|OriginAirportSeqID|OriginCityMarketID|OriginStateFips|OriginWac|DestAirportID|DestAirportSeqID|DestCityMarketID|DestStateFips|DestWac|TaxiOut|WheelsOff|WheelsOn|TaxiIn|DistanceGroup|DivAirportLandings|Airline_num_vec|   Origin_num_vec|   Dest_num_vec|     airline_one_hot|Southwest Airlines Co.|Delta Air Lines Inc.|SkyWest Airlines Inc.|American Airlines Inc.|United Air Lines Inc.|Republic Airlines|JetBlue Airways|Envoy Air|Endeavor Air Inc.|Comair Inc.|Alaska Airlines Inc.|Spirit Air Lines|Mesa Airlines Inc.|Frontier Airlines Inc.|Allegiant Air|Horizon Air|Capital Cargo International|Air Wisconsin Airlines Corp|ExpressJet Airlines Inc.|Hawaiian Airlines Inc.|GoJet Airlines, LLC d/b/a United Express|Commutair Aka Champlain Enterprises, Inc.|Trans States Airlines|Compass Airlines|Virgin America|Empire Airlines Inc.|Peninsula Airways Inc.|Cape Air|\n",
            "+-----------------+------+----+---------+--------+-------+-------+--------------+-----------------+--------+----+-------+-----+----------+---------+------------------------+-------------------------------+------------------------+-------------------------------+---------------+------------------+------------------+---------------+---------+-------------+----------------+----------------+-------------+-------+-------+---------+--------+------+-------------+------------------+---------------+-----------------+---------------+--------------------+----------------------+--------------------+---------------------+----------------------+---------------------+-----------------+---------------+---------+-----------------+-----------+--------------------+----------------+------------------+----------------------+-------------+-----------+---------------------------+---------------------------+------------------------+----------------------+----------------------------------------+-----------------------------------------+---------------------+----------------+--------------+--------------------+----------------------+--------+\n",
            "|Endeavor Air Inc.|   ABY| ATL|    false|   false| 1157.0|   38.0|          62.0|             59.0|   145.0|2018|      1|    1|        23|        2|                   19790|                           3298|                   20363|                           3298|          10146|           1014602|             30146|             13|       34|        10397|         1039707|           30397|           13|     34|   14.0|   1211.0|  1249.0|   7.0|            1|               0.0| (28,[8],[1.0])|(388,[271],[1.0])|(388,[0],[1.0])|[0.0, 0.0, 0.0, 0...|                   0.0|                 0.0|                  0.0|                   0.0|                  0.0|              0.0|            0.0|      0.0|              1.0|        0.0|                 0.0|             0.0|               0.0|                   0.0|          0.0|        0.0|                        0.0|                        0.0|                     0.0|                   0.0|                                     0.0|                                      0.0|                  0.0|             0.0|           0.0|                 0.0|                   0.0|     0.0|\n",
            "+-----------------+------+----+---------+--------+-------+-------+--------------+-----------------+--------+----+-------+-----+----------+---------+------------------------+-------------------------------+------------------------+-------------------------------+---------------+------------------+------------------+---------------+---------+-------------+----------------+----------------+-------------+-------+-------+---------+--------+------+-------------+------------------+---------------+-----------------+---------------+--------------------+----------------------+--------------------+---------------------+----------------------+---------------------+-----------------+---------------+---------+-----------------+-----------+--------------------+----------------+------------------+----------------------+-------------+-----------+---------------------------+---------------------------+------------------------+----------------------+----------------------------------------+-----------------------------------------+---------------------+----------------+--------------+--------------------+----------------------+--------+\n",
            "only showing top 1 row\n",
            "\n"
          ]
        }
      ],
      "source": [
        "cols_expanded = [(col('airline_one_hot')[i].alias(f'{indexer.labels[i]}')) for i in range(num_categories)]\n",
        "df_cols_named =  df_col_onehot.select('*', *cols_expanded)\n",
        "df_cols_named.show(1)"
      ]
    },
    {
      "cell_type": "code",
      "execution_count": 72,
      "metadata": {},
      "outputs": [
        {
          "data": {
            "text/plain": [
              "['Southwest Airlines Co.',\n",
              " 'Delta Air Lines Inc.',\n",
              " 'SkyWest Airlines Inc.',\n",
              " 'American Airlines Inc.',\n",
              " 'United Air Lines Inc.',\n",
              " 'Republic Airlines',\n",
              " 'JetBlue Airways',\n",
              " 'Envoy Air',\n",
              " 'Endeavor Air Inc.',\n",
              " 'Comair Inc.',\n",
              " 'Alaska Airlines Inc.',\n",
              " 'Spirit Air Lines',\n",
              " 'Mesa Airlines Inc.',\n",
              " 'Frontier Airlines Inc.',\n",
              " 'Allegiant Air',\n",
              " 'Horizon Air',\n",
              " 'Capital Cargo International',\n",
              " 'Air Wisconsin Airlines Corp',\n",
              " 'ExpressJet Airlines Inc.',\n",
              " 'Hawaiian Airlines Inc.',\n",
              " 'GoJet Airlines, LLC d/b/a United Express',\n",
              " 'Commutair Aka Champlain Enterprises, Inc.',\n",
              " 'Trans States Airlines',\n",
              " 'Compass Airlines',\n",
              " 'Virgin America',\n",
              " 'Empire Airlines Inc.',\n",
              " 'Peninsula Airways Inc.',\n",
              " 'Cape Air']"
            ]
          },
          "execution_count": 72,
          "metadata": {},
          "output_type": "execute_result"
        }
      ],
      "source": [
        "indexer = StringIndexer(inputCol=\"Airline\", outputCol=\"airline_encoded\").fit(df_cols_onehot)"
      ]
    },
    {
      "cell_type": "markdown",
      "metadata": {},
      "source": [
        "## Data preparation"
      ]
    },
    {
      "cell_type": "code",
      "execution_count": 59,
      "metadata": {},
      "outputs": [
        {
          "name": "stdout",
          "output_type": "stream",
          "text": [
            "root\n",
            " |-- Cancelled: boolean (nullable = true)\n",
            " |-- Diverted: boolean (nullable = true)\n",
            " |-- DepTime: double (nullable = true)\n",
            " |-- AirTime: double (nullable = true)\n",
            " |-- CRSElapsedTime: double (nullable = true)\n",
            " |-- ActualElapsedTime: double (nullable = true)\n",
            " |-- Distance: double (nullable = true)\n",
            " |-- Year: long (nullable = true)\n",
            " |-- Quarter: long (nullable = true)\n",
            " |-- Month: long (nullable = true)\n",
            " |-- DayofMonth: long (nullable = true)\n",
            " |-- DayOfWeek: long (nullable = true)\n",
            " |-- DOT_ID_Marketing_Airline: long (nullable = true)\n",
            " |-- Flight_Number_Marketing_Airline: long (nullable = true)\n",
            " |-- DOT_ID_Operating_Airline: long (nullable = true)\n",
            " |-- Flight_Number_Operating_Airline: long (nullable = true)\n",
            " |-- OriginAirportID: long (nullable = true)\n",
            " |-- OriginAirportSeqID: long (nullable = true)\n",
            " |-- OriginCityMarketID: long (nullable = true)\n",
            " |-- OriginStateFips: long (nullable = true)\n",
            " |-- OriginWac: long (nullable = true)\n",
            " |-- DestAirportID: long (nullable = true)\n",
            " |-- DestAirportSeqID: long (nullable = true)\n",
            " |-- DestCityMarketID: long (nullable = true)\n",
            " |-- DestStateFips: long (nullable = true)\n",
            " |-- DestWac: long (nullable = true)\n",
            " |-- TaxiOut: double (nullable = true)\n",
            " |-- WheelsOff: double (nullable = true)\n",
            " |-- WheelsOn: double (nullable = true)\n",
            " |-- TaxiIn: double (nullable = true)\n",
            " |-- DistanceGroup: long (nullable = true)\n",
            " |-- DivAirportLandings: double (nullable = true)\n",
            " |-- Airline_num_vec: vector (nullable = true)\n",
            " |-- Origin_num_vec: vector (nullable = true)\n",
            " |-- Dest_num_vec: vector (nullable = true)\n",
            "\n"
          ]
        }
      ],
      "source": [
        "df.printSchema()"
      ]
    },
    {
      "cell_type": "markdown",
      "metadata": {},
      "source": [
        "## "
      ]
    },
    {
      "cell_type": "markdown",
      "metadata": {},
      "source": [
        "# Train XGBoost model"
      ]
    },
    {
      "cell_type": "code",
      "execution_count": 51,
      "metadata": {},
      "outputs": [],
      "source": [
        "from xgboost.spark import SparkXGBRegressor"
      ]
    },
    {
      "cell_type": "code",
      "execution_count": 53,
      "metadata": {},
      "outputs": [],
      "source": [
        "label = \"DepTime\"\n",
        "feature_names = [x.name for x in df.schema if x.name != label]"
      ]
    },
    {
      "cell_type": "code",
      "execution_count": 57,
      "metadata": {},
      "outputs": [],
      "source": [
        "regressor = SparkXGBRegressor(\n",
        "  features_col=feature_names,\n",
        "  label_col=label,\n",
        "  num_workers=1,\n",
        "  use_gpu=True,\n",
        ")"
      ]
    },
    {
      "cell_type": "code",
      "execution_count": 58,
      "metadata": {},
      "outputs": [
        {
          "name": "stderr",
          "output_type": "stream",
          "text": [
            "If features_cols param set, then features_col param is ignored.\n",
            "You enabled use_gpu in spark local mode. Please make sure your local node has at least 1 GPUs\n"
          ]
        },
        {
          "ename": "ValueError",
          "evalue": "Values in feature columns must be integral types or float/double types.",
          "output_type": "error",
          "traceback": [
            "\u001b[1;31m---------------------------------------------------------------------------\u001b[0m",
            "\u001b[1;31mValueError\u001b[0m                                Traceback (most recent call last)",
            "\u001b[1;32mc:\\Users\\luigi\\projects\\ml-predict-flight-delays\\notebooks\\pyspark_flight_prediction.ipynb Cell 60\u001b[0m in \u001b[0;36m<cell line: 1>\u001b[1;34m()\u001b[0m\n\u001b[1;32m----> <a href='vscode-notebook-cell:/c%3A/Users/luigi/projects/ml-predict-flight-delays/notebooks/pyspark_flight_prediction.ipynb#Y110sZmlsZQ%3D%3D?line=0'>1</a>\u001b[0m model \u001b[39m=\u001b[39m regressor\u001b[39m.\u001b[39;49mfit(df)\n",
            "File \u001b[1;32mc:\\Users\\luigi\\miniconda3\\envs\\pytorch\\lib\\site-packages\\pyspark\\ml\\base.py:205\u001b[0m, in \u001b[0;36mEstimator.fit\u001b[1;34m(self, dataset, params)\u001b[0m\n\u001b[0;32m    203\u001b[0m         \u001b[39mreturn\u001b[39;00m \u001b[39mself\u001b[39m\u001b[39m.\u001b[39mcopy(params)\u001b[39m.\u001b[39m_fit(dataset)\n\u001b[0;32m    204\u001b[0m     \u001b[39melse\u001b[39;00m:\n\u001b[1;32m--> 205\u001b[0m         \u001b[39mreturn\u001b[39;00m \u001b[39mself\u001b[39;49m\u001b[39m.\u001b[39;49m_fit(dataset)\n\u001b[0;32m    206\u001b[0m \u001b[39melse\u001b[39;00m:\n\u001b[0;32m    207\u001b[0m     \u001b[39mraise\u001b[39;00m \u001b[39mTypeError\u001b[39;00m(\n\u001b[0;32m    208\u001b[0m         \u001b[39m\"\u001b[39m\u001b[39mParams must be either a param map or a list/tuple of param maps, \u001b[39m\u001b[39m\"\u001b[39m\n\u001b[0;32m    209\u001b[0m         \u001b[39m\"\u001b[39m\u001b[39mbut got \u001b[39m\u001b[39m%s\u001b[39;00m\u001b[39m.\u001b[39m\u001b[39m\"\u001b[39m \u001b[39m%\u001b[39m \u001b[39mtype\u001b[39m(params)\n\u001b[0;32m    210\u001b[0m     )\n",
            "File \u001b[1;32mc:\\Users\\luigi\\miniconda3\\envs\\pytorch\\lib\\site-packages\\xgboost\\spark\\core.py:664\u001b[0m, in \u001b[0;36m_SparkXGBEstimator._fit\u001b[1;34m(self, dataset)\u001b[0m\n\u001b[0;32m    662\u001b[0m \u001b[39mif\u001b[39;00m \u001b[39mself\u001b[39m\u001b[39m.\u001b[39mgetOrDefault(\u001b[39mself\u001b[39m\u001b[39m.\u001b[39mfeatures_cols):\n\u001b[0;32m    663\u001b[0m     features_cols_names \u001b[39m=\u001b[39m \u001b[39mself\u001b[39m\u001b[39m.\u001b[39mgetOrDefault(\u001b[39mself\u001b[39m\u001b[39m.\u001b[39mfeatures_cols)\n\u001b[1;32m--> 664\u001b[0m     features_cols \u001b[39m=\u001b[39m _validate_and_convert_feature_col_as_float_col_list(\n\u001b[0;32m    665\u001b[0m         dataset, features_cols_names\n\u001b[0;32m    666\u001b[0m     )\n\u001b[0;32m    667\u001b[0m     select_cols\u001b[39m.\u001b[39mextend(features_cols)\n\u001b[0;32m    668\u001b[0m \u001b[39melse\u001b[39;00m:\n",
            "File \u001b[1;32mc:\\Users\\luigi\\miniconda3\\envs\\pytorch\\lib\\site-packages\\xgboost\\spark\\core.py:396\u001b[0m, in \u001b[0;36m_validate_and_convert_feature_col_as_float_col_list\u001b[1;34m(dataset, features_col_names)\u001b[0m\n\u001b[0;32m    394\u001b[0m         feature_cols\u001b[39m.\u001b[39mappend(col(c))\n\u001b[0;32m    395\u001b[0m     \u001b[39melse\u001b[39;00m:\n\u001b[1;32m--> 396\u001b[0m         \u001b[39mraise\u001b[39;00m \u001b[39mValueError\u001b[39;00m(\n\u001b[0;32m    397\u001b[0m             \u001b[39m\"\u001b[39m\u001b[39mValues in feature columns must be integral types or float/double types.\u001b[39m\u001b[39m\"\u001b[39m\n\u001b[0;32m    398\u001b[0m         )\n\u001b[0;32m    399\u001b[0m \u001b[39mreturn\u001b[39;00m feature_cols\n",
            "\u001b[1;31mValueError\u001b[0m: Values in feature columns must be integral types or float/double types."
          ]
        }
      ],
      "source": [
        "model = regressor.fit(df)"
      ]
    },
    {
      "cell_type": "code",
      "execution_count": null,
      "metadata": {},
      "outputs": [],
      "source": []
    }
  ],
  "metadata": {
    "colab": {
      "provenance": [],
      "toc_visible": true
    },
    "gpuClass": "standard",
    "kernelspec": {
      "display_name": "Python 3.9.7 ('pytorch')",
      "language": "python",
      "name": "python3"
    },
    "language_info": {
      "codemirror_mode": {
        "name": "ipython",
        "version": 3
      },
      "file_extension": ".py",
      "mimetype": "text/x-python",
      "name": "python",
      "nbconvert_exporter": "python",
      "pygments_lexer": "ipython3",
      "version": "3.9.7"
    },
    "vscode": {
      "interpreter": {
        "hash": "096fa780b98fbe495439a1728273d6046be3a31074a917fead1626276fbed988"
      }
    }
  },
  "nbformat": 4,
  "nbformat_minor": 0
}
