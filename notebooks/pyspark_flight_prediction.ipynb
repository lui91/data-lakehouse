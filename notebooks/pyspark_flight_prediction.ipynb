{
  "cells": [
    {
      "cell_type": "markdown",
      "metadata": {
        "id": "-W5pkAJmz8Hm"
      },
      "source": [
        "# Data preaparation and xgboost regressor training"
      ]
    },
    {
      "cell_type": "code",
      "execution_count": 1,
      "metadata": {
        "colab": {
          "base_uri": "https://localhost:8080/"
        },
        "id": "RFS9R5ZVk6m3",
        "outputId": "6fb389f2-5220-4f99-8217-8fdc448be767"
      },
      "outputs": [
        {
          "name": "stdout",
          "output_type": "stream",
          "text": [
            "Requirement already satisfied: xgboost in c:\\users\\luigi\\miniconda3\\envs\\pytorch\\lib\\site-packages (1.7.1)\n",
            "Requirement already satisfied: scipy in c:\\users\\luigi\\miniconda3\\envs\\pytorch\\lib\\site-packages (from xgboost) (1.7.3)\n",
            "Requirement already satisfied: numpy in c:\\users\\luigi\\miniconda3\\envs\\pytorch\\lib\\site-packages (from xgboost) (1.21.5)\n"
          ]
        }
      ],
      "source": [
        "!pip install --upgrade xgboost"
      ]
    },
    {
      "cell_type": "code",
      "execution_count": 2,
      "metadata": {
        "colab": {
          "base_uri": "https://localhost:8080/"
        },
        "id": "7cRtOXtBqJ4K",
        "outputId": "e49b254c-4dd0-41c5-9f93-25df5268a370"
      },
      "outputs": [
        {
          "name": "stdout",
          "output_type": "stream",
          "text": [
            "GPU 0: NVIDIA GeForce RTX 3070 (UUID: GPU-5f5a84a5-7cf6-72b1-17eb-40f450c3509a)\n"
          ]
        }
      ],
      "source": [
        "!nvidia-smi -L"
      ]
    },
    {
      "cell_type": "markdown",
      "metadata": {
        "id": "VmAj7KZrdpKt"
      },
      "source": [
        "# Spark set up"
      ]
    },
    {
      "cell_type": "code",
      "execution_count": 3,
      "metadata": {
        "id": "B9bt6vs7gb3I"
      },
      "outputs": [],
      "source": [
        "import os\n",
        "import platform\n",
        "local_os = platform.system()\n",
        "\n",
        "if local_os == 'Linux':\n",
        "    os.environ[\"JAVA_HOME\"] = \"/usr/lib/jvm/java-8-openjdk-amd64\"\n",
        "    os.environ[\"SPARK_HOME\"] = \"/content/spark-3.3.1-bin-hadoop3\"\n",
        "elif local_os == 'Windows':\n",
        "    os.environ[\"JAVA_HOME\"] = \"C:/Program Files/Java/jdk-19/\"\n",
        "else:\n",
        "    os.environ[\"JAVA_HOME\"] = \"/opt/homebrew/opt/openjdk/\""
      ]
    },
    {
      "cell_type": "code",
      "execution_count": 4,
      "metadata": {
        "colab": {
          "base_uri": "https://localhost:8080/"
        },
        "id": "Yfu1oWGM2twz",
        "outputId": "62890952-4e7b-4852-de63-1f439de6cb0e"
      },
      "outputs": [],
      "source": [
        "if local_os == 'Linux':\n",
        "    !apt-get install openjdk-8-jdk-headless -qq > /dev/null\n",
        "    !wget https://dlcdn.apache.org/spark/spark-3.3.1/spark-3.3.1-bin-hadoop3.tgz\n",
        "    !tar zxvf /content/spark-3.3.1-bin-hadoop3.tgz\n",
        "    !pip install -q findspark\n",
        "    import findspark\n",
        "    findspark.init()"
      ]
    },
    {
      "cell_type": "code",
      "execution_count": 5,
      "metadata": {
        "colab": {
          "base_uri": "https://localhost:8080/"
        },
        "id": "HHeXWFUgk0Rx",
        "outputId": "899b4a82-fc48-4c99-8697-cded8b905001"
      },
      "outputs": [],
      "source": [
        "# Mount google drive\n",
        "if local_os == 'Linux':\n",
        "    from google.colab import drive\n",
        "    drive.mount('/content/drive')"
      ]
    },
    {
      "cell_type": "code",
      "execution_count": 6,
      "metadata": {
        "id": "_WJbDBY8ydct"
      },
      "outputs": [],
      "source": [
        "from pyspark.sql import SparkSession"
      ]
    },
    {
      "cell_type": "code",
      "execution_count": 7,
      "metadata": {
        "id": "Yvsf0bB9g7w4"
      },
      "outputs": [],
      "source": [
        "spark = SparkSession.builder\\\n",
        "        .master(\"local\")\\\n",
        "        .appName(\"flights\")\\\n",
        "        .config(\"spark.executor.cores\", 4) \\\n",
        "        .config(\"spark.executor.memory\", \"40g\") \\\n",
        "        .config(\"spark.driver.memory\", \"40g\") \\\n",
        "        .config(\"spark.driver.maxResultSize\", \"20g\") \\\n",
        "        .getOrCreate()"
      ]
    },
    {
      "cell_type": "code",
      "execution_count": 8,
      "metadata": {
        "colab": {
          "base_uri": "https://localhost:8080/",
          "height": 304
        },
        "id": "FKG4LDHUhEC3",
        "outputId": "5a978f02-c2c5-4fb9-8d73-01f29e6d56bb"
      },
      "outputs": [
        {
          "data": {
            "text/html": [
              "\n",
              "            <div>\n",
              "                <p><b>SparkSession - in-memory</b></p>\n",
              "                \n",
              "        <div>\n",
              "            <p><b>SparkContext</b></p>\n",
              "\n",
              "            <p><a href=\"http://PCerda:4040\">Spark UI</a></p>\n",
              "\n",
              "            <dl>\n",
              "              <dt>Version</dt>\n",
              "                <dd><code>v3.3.0</code></dd>\n",
              "              <dt>Master</dt>\n",
              "                <dd><code>local</code></dd>\n",
              "              <dt>AppName</dt>\n",
              "                <dd><code>flights</code></dd>\n",
              "            </dl>\n",
              "        </div>\n",
              "        \n",
              "            </div>\n",
              "        "
            ],
            "text/plain": [
              "<pyspark.sql.session.SparkSession at 0x168b4655e20>"
            ]
          },
          "execution_count": 8,
          "metadata": {},
          "output_type": "execute_result"
        }
      ],
      "source": [
        "spark"
      ]
    },
    {
      "cell_type": "markdown",
      "metadata": {
        "id": "pc6YURM7hUFY"
      },
      "source": [
        "# Libs imports"
      ]
    },
    {
      "cell_type": "code",
      "execution_count": 9,
      "metadata": {
        "id": "TprKxlEGhYgx"
      },
      "outputs": [],
      "source": [
        "from pyspark.sql.functions import desc, isnan, when, count, col, isnull\n",
        "from collections import Counter"
      ]
    },
    {
      "cell_type": "markdown",
      "metadata": {
        "id": "-eEWYgrUhc6X"
      },
      "source": [
        "# Data loading"
      ]
    },
    {
      "cell_type": "code",
      "execution_count": 11,
      "metadata": {
        "colab": {
          "base_uri": "https://localhost:8080/"
        },
        "id": "MQ9uwIhGmWf6",
        "outputId": "8d15dce1-7fc4-483d-b62d-f7c899ee5d67"
      },
      "outputs": [
        {
          "name": "stdout",
          "output_type": "stream",
          "text": [
            "D:/data_sets/airlines/\n"
          ]
        },
        {
          "data": {
            "text/plain": [
              "[WindowsPath('D:/data_sets/airlines/Airlines.csv'),\n",
              " WindowsPath('D:/data_sets/airlines/Combined_Flights_2018.csv'),\n",
              " WindowsPath('D:/data_sets/airlines/Combined_Flights_2019.csv'),\n",
              " WindowsPath('D:/data_sets/airlines/Combined_Flights_2020.csv'),\n",
              " WindowsPath('D:/data_sets/airlines/Combined_Flights_2021.csv'),\n",
              " WindowsPath('D:/data_sets/airlines/Combined_Flights_2022.csv')]"
            ]
          },
          "execution_count": 11,
          "metadata": {},
          "output_type": "execute_result"
        }
      ],
      "source": [
        "from pathlib import Path\n",
        "\n",
        "if local_os == \"Windows\":\n",
        "    source = \"D:/data_sets/airlines/\"\n",
        "elif local_os == 'Linux':\n",
        "    source = \"/content/drive/MyDrive/datasets/flights_kaggle_split\"\n",
        "else:\n",
        "    source = \"../data/\"\n",
        "print(source)\n",
        "source_path = Path(source).glob('*.csv')\n",
        "file_names = sorted(list(source_path))\n",
        "file_names"
      ]
    },
    {
      "cell_type": "code",
      "execution_count": 12,
      "metadata": {
        "colab": {
          "base_uri": "https://localhost:8080/"
        },
        "id": "pUUVY782oiam",
        "outputId": "4bc31515-67ca-4a50-a0db-e0983c02456a"
      },
      "outputs": [
        {
          "ename": "Py4JJavaError",
          "evalue": "An error occurred while calling o37.parquet.\n: org.apache.spark.SparkException: Job aborted due to stage failure: Task 0 in stage 0.0 failed 1 times, most recent failure: Lost task 0.0 in stage 0.0 (TID 0) (PCerda executor driver): org.apache.spark.SparkException: Exception thrown in awaitResult: \r\n\tat org.apache.spark.util.ThreadUtils$.awaitResult(ThreadUtils.scala:301)\r\n\tat org.apache.spark.util.ThreadUtils$.parmap(ThreadUtils.scala:375)\r\n\tat org.apache.spark.sql.execution.datasources.parquet.ParquetFileFormat$.readParquetFootersInParallel(ParquetFileFormat.scala:477)\r\n\tat org.apache.spark.sql.execution.datasources.parquet.ParquetFileFormat$.$anonfun$mergeSchemasInParallel$1(ParquetFileFormat.scala:523)\r\n\tat org.apache.spark.sql.execution.datasources.parquet.ParquetFileFormat$.$anonfun$mergeSchemasInParallel$1$adapted(ParquetFileFormat.scala:517)\r\n\tat org.apache.spark.sql.execution.datasources.SchemaMergeUtils$.$anonfun$mergeSchemasInParallel$2(SchemaMergeUtils.scala:76)\r\n\tat org.apache.spark.rdd.RDD.$anonfun$mapPartitions$2(RDD.scala:855)\r\n\tat org.apache.spark.rdd.RDD.$anonfun$mapPartitions$2$adapted(RDD.scala:855)\r\n\tat org.apache.spark.rdd.MapPartitionsRDD.compute(MapPartitionsRDD.scala:52)\r\n\tat org.apache.spark.rdd.RDD.computeOrReadCheckpoint(RDD.scala:365)\r\n\tat org.apache.spark.rdd.RDD.iterator(RDD.scala:329)\r\n\tat org.apache.spark.scheduler.ResultTask.runTask(ResultTask.scala:90)\r\n\tat org.apache.spark.scheduler.Task.run(Task.scala:136)\r\n\tat org.apache.spark.executor.Executor$TaskRunner.$anonfun$run$3(Executor.scala:548)\r\n\tat org.apache.spark.util.Utils$.tryWithSafeFinally(Utils.scala:1504)\r\n\tat org.apache.spark.executor.Executor$TaskRunner.run(Executor.scala:551)\r\n\tat java.base/java.util.concurrent.ThreadPoolExecutor.runWorker(ThreadPoolExecutor.java:1144)\r\n\tat java.base/java.util.concurrent.ThreadPoolExecutor$Worker.run(ThreadPoolExecutor.java:642)\r\n\tat java.base/java.lang.Thread.run(Thread.java:1589)\r\nCaused by: java.io.IOException: Could not read footer for file: FileStatus{path=file:/D:/data_sets/airlines/Airlines.csv; isDirectory=false; length=39051; replication=0; blocksize=0; modification_time=0; access_time=0; owner=; group=; permission=rw-rw-rw-; isSymlink=false; hasAcl=false; isEncrypted=false; isErasureCoded=false}\r\n\tat org.apache.spark.sql.errors.QueryExecutionErrors$.cannotReadFooterForFileError(QueryExecutionErrors.scala:864)\r\n\tat org.apache.spark.sql.execution.datasources.parquet.ParquetFileFormat$.$anonfun$readParquetFootersInParallel$1(ParquetFileFormat.scala:490)\r\n\tat org.apache.spark.util.ThreadUtils$.$anonfun$parmap$2(ThreadUtils.scala:372)\r\n\tat scala.concurrent.Future$.$anonfun$apply$1(Future.scala:659)\r\n\tat scala.util.Success.$anonfun$map$1(Try.scala:255)\r\n\tat scala.util.Success.map(Try.scala:213)\r\n\tat scala.concurrent.Future.$anonfun$map$1(Future.scala:292)\r\n\tat scala.concurrent.impl.Promise.liftedTree1$1(Promise.scala:33)\r\n\tat scala.concurrent.impl.Promise.$anonfun$transform$1(Promise.scala:33)\r\n\tat scala.concurrent.impl.CallbackRunnable.run(Promise.scala:64)\r\n\tat java.base/java.util.concurrent.ForkJoinTask$RunnableExecuteAction.exec(ForkJoinTask.java:1423)\r\n\tat java.base/java.util.concurrent.ForkJoinTask.doExec(ForkJoinTask.java:387)\r\n\tat java.base/java.util.concurrent.ForkJoinPool$WorkQueue.topLevelExec(ForkJoinPool.java:1311)\r\n\tat java.base/java.util.concurrent.ForkJoinPool.scan(ForkJoinPool.java:1840)\r\n\tat java.base/java.util.concurrent.ForkJoinPool.runWorker(ForkJoinPool.java:1806)\r\n\tat java.base/java.util.concurrent.ForkJoinWorkerThread.run(ForkJoinWorkerThread.java:177)\r\nCaused by: java.lang.RuntimeException: file:/D:/data_sets/airlines/Airlines.csv is not a Parquet file. Expected magic number at tail, but found [110, 99, 46, 10]\r\n\tat org.apache.parquet.hadoop.ParquetFileReader.readFooter(ParquetFileReader.java:556)\r\n\tat org.apache.parquet.hadoop.ParquetFileReader.<init>(ParquetFileReader.java:776)\r\n\tat org.apache.parquet.hadoop.ParquetFileReader.open(ParquetFileReader.java:657)\r\n\tat org.apache.spark.sql.execution.datasources.parquet.ParquetFooterReader.readFooter(ParquetFooterReader.java:53)\r\n\tat org.apache.spark.sql.execution.datasources.parquet.ParquetFooterReader.readFooter(ParquetFooterReader.java:44)\r\n\tat org.apache.spark.sql.execution.datasources.parquet.ParquetFileFormat$.$anonfun$readParquetFootersInParallel$1(ParquetFileFormat.scala:484)\r\n\t... 14 more\r\n\nDriver stacktrace:\r\n\tat org.apache.spark.scheduler.DAGScheduler.failJobAndIndependentStages(DAGScheduler.scala:2672)\r\n\tat org.apache.spark.scheduler.DAGScheduler.$anonfun$abortStage$2(DAGScheduler.scala:2608)\r\n\tat org.apache.spark.scheduler.DAGScheduler.$anonfun$abortStage$2$adapted(DAGScheduler.scala:2607)\r\n\tat scala.collection.mutable.ResizableArray.foreach(ResizableArray.scala:62)\r\n\tat scala.collection.mutable.ResizableArray.foreach$(ResizableArray.scala:55)\r\n\tat scala.collection.mutable.ArrayBuffer.foreach(ArrayBuffer.scala:49)\r\n\tat org.apache.spark.scheduler.DAGScheduler.abortStage(DAGScheduler.scala:2607)\r\n\tat org.apache.spark.scheduler.DAGScheduler.$anonfun$handleTaskSetFailed$1(DAGScheduler.scala:1182)\r\n\tat org.apache.spark.scheduler.DAGScheduler.$anonfun$handleTaskSetFailed$1$adapted(DAGScheduler.scala:1182)\r\n\tat scala.Option.foreach(Option.scala:407)\r\n\tat org.apache.spark.scheduler.DAGScheduler.handleTaskSetFailed(DAGScheduler.scala:1182)\r\n\tat org.apache.spark.scheduler.DAGSchedulerEventProcessLoop.doOnReceive(DAGScheduler.scala:2860)\r\n\tat org.apache.spark.scheduler.DAGSchedulerEventProcessLoop.onReceive(DAGScheduler.scala:2802)\r\n\tat org.apache.spark.scheduler.DAGSchedulerEventProcessLoop.onReceive(DAGScheduler.scala:2791)\r\n\tat org.apache.spark.util.EventLoop$$anon$1.run(EventLoop.scala:49)\r\n\tat org.apache.spark.scheduler.DAGScheduler.runJob(DAGScheduler.scala:952)\r\n\tat org.apache.spark.SparkContext.runJob(SparkContext.scala:2228)\r\n\tat org.apache.spark.SparkContext.runJob(SparkContext.scala:2249)\r\n\tat org.apache.spark.SparkContext.runJob(SparkContext.scala:2268)\r\n\tat org.apache.spark.SparkContext.runJob(SparkContext.scala:2293)\r\n\tat org.apache.spark.rdd.RDD.$anonfun$collect$1(RDD.scala:1021)\r\n\tat org.apache.spark.rdd.RDDOperationScope$.withScope(RDDOperationScope.scala:151)\r\n\tat org.apache.spark.rdd.RDDOperationScope$.withScope(RDDOperationScope.scala:112)\r\n\tat org.apache.spark.rdd.RDD.withScope(RDD.scala:406)\r\n\tat org.apache.spark.rdd.RDD.collect(RDD.scala:1020)\r\n\tat org.apache.spark.sql.execution.datasources.SchemaMergeUtils$.mergeSchemasInParallel(SchemaMergeUtils.scala:70)\r\n\tat org.apache.spark.sql.execution.datasources.parquet.ParquetFileFormat$.mergeSchemasInParallel(ParquetFileFormat.scala:527)\r\n\tat org.apache.spark.sql.execution.datasources.parquet.ParquetUtils$.inferSchema(ParquetUtils.scala:125)\r\n\tat org.apache.spark.sql.execution.datasources.parquet.ParquetFileFormat.inferSchema(ParquetFileFormat.scala:168)\r\n\tat org.apache.spark.sql.execution.datasources.DataSource.$anonfun$getOrInferFileFormatSchema$11(DataSource.scala:210)\r\n\tat scala.Option.orElse(Option.scala:447)\r\n\tat org.apache.spark.sql.execution.datasources.DataSource.getOrInferFileFormatSchema(DataSource.scala:207)\r\n\tat org.apache.spark.sql.execution.datasources.DataSource.resolveRelation(DataSource.scala:411)\r\n\tat org.apache.spark.sql.DataFrameReader.loadV1Source(DataFrameReader.scala:228)\r\n\tat org.apache.spark.sql.DataFrameReader.$anonfun$load$2(DataFrameReader.scala:210)\r\n\tat scala.Option.getOrElse(Option.scala:189)\r\n\tat org.apache.spark.sql.DataFrameReader.load(DataFrameReader.scala:210)\r\n\tat org.apache.spark.sql.DataFrameReader.parquet(DataFrameReader.scala:562)\r\n\tat java.base/jdk.internal.reflect.DirectMethodHandleAccessor.invoke(DirectMethodHandleAccessor.java:104)\r\n\tat java.base/java.lang.reflect.Method.invoke(Method.java:578)\r\n\tat py4j.reflection.MethodInvoker.invoke(MethodInvoker.java:244)\r\n\tat py4j.reflection.ReflectionEngine.invoke(ReflectionEngine.java:357)\r\n\tat py4j.Gateway.invoke(Gateway.java:282)\r\n\tat py4j.commands.AbstractCommand.invokeMethod(AbstractCommand.java:132)\r\n\tat py4j.commands.CallCommand.execute(CallCommand.java:79)\r\n\tat py4j.ClientServerConnection.waitForCommands(ClientServerConnection.java:182)\r\n\tat py4j.ClientServerConnection.run(ClientServerConnection.java:106)\r\n\tat java.base/java.lang.Thread.run(Thread.java:1589)\r\nCaused by: org.apache.spark.SparkException: Exception thrown in awaitResult: \r\n\tat org.apache.spark.util.ThreadUtils$.awaitResult(ThreadUtils.scala:301)\r\n\tat org.apache.spark.util.ThreadUtils$.parmap(ThreadUtils.scala:375)\r\n\tat org.apache.spark.sql.execution.datasources.parquet.ParquetFileFormat$.readParquetFootersInParallel(ParquetFileFormat.scala:477)\r\n\tat org.apache.spark.sql.execution.datasources.parquet.ParquetFileFormat$.$anonfun$mergeSchemasInParallel$1(ParquetFileFormat.scala:523)\r\n\tat org.apache.spark.sql.execution.datasources.parquet.ParquetFileFormat$.$anonfun$mergeSchemasInParallel$1$adapted(ParquetFileFormat.scala:517)\r\n\tat org.apache.spark.sql.execution.datasources.SchemaMergeUtils$.$anonfun$mergeSchemasInParallel$2(SchemaMergeUtils.scala:76)\r\n\tat org.apache.spark.rdd.RDD.$anonfun$mapPartitions$2(RDD.scala:855)\r\n\tat org.apache.spark.rdd.RDD.$anonfun$mapPartitions$2$adapted(RDD.scala:855)\r\n\tat org.apache.spark.rdd.MapPartitionsRDD.compute(MapPartitionsRDD.scala:52)\r\n\tat org.apache.spark.rdd.RDD.computeOrReadCheckpoint(RDD.scala:365)\r\n\tat org.apache.spark.rdd.RDD.iterator(RDD.scala:329)\r\n\tat org.apache.spark.scheduler.ResultTask.runTask(ResultTask.scala:90)\r\n\tat org.apache.spark.scheduler.Task.run(Task.scala:136)\r\n\tat org.apache.spark.executor.Executor$TaskRunner.$anonfun$run$3(Executor.scala:548)\r\n\tat org.apache.spark.util.Utils$.tryWithSafeFinally(Utils.scala:1504)\r\n\tat org.apache.spark.executor.Executor$TaskRunner.run(Executor.scala:551)\r\n\tat java.base/java.util.concurrent.ThreadPoolExecutor.runWorker(ThreadPoolExecutor.java:1144)\r\n\tat java.base/java.util.concurrent.ThreadPoolExecutor$Worker.run(ThreadPoolExecutor.java:642)\r\n\t... 1 more\r\nCaused by: java.io.IOException: Could not read footer for file: FileStatus{path=file:/D:/data_sets/airlines/Airlines.csv; isDirectory=false; length=39051; replication=0; blocksize=0; modification_time=0; access_time=0; owner=; group=; permission=rw-rw-rw-; isSymlink=false; hasAcl=false; isEncrypted=false; isErasureCoded=false}\r\n\tat org.apache.spark.sql.errors.QueryExecutionErrors$.cannotReadFooterForFileError(QueryExecutionErrors.scala:864)\r\n\tat org.apache.spark.sql.execution.datasources.parquet.ParquetFileFormat$.$anonfun$readParquetFootersInParallel$1(ParquetFileFormat.scala:490)\r\n\tat org.apache.spark.util.ThreadUtils$.$anonfun$parmap$2(ThreadUtils.scala:372)\r\n\tat scala.concurrent.Future$.$anonfun$apply$1(Future.scala:659)\r\n\tat scala.util.Success.$anonfun$map$1(Try.scala:255)\r\n\tat scala.util.Success.map(Try.scala:213)\r\n\tat scala.concurrent.Future.$anonfun$map$1(Future.scala:292)\r\n\tat scala.concurrent.impl.Promise.liftedTree1$1(Promise.scala:33)\r\n\tat scala.concurrent.impl.Promise.$anonfun$transform$1(Promise.scala:33)\r\n\tat scala.concurrent.impl.CallbackRunnable.run(Promise.scala:64)\r\n\tat java.base/java.util.concurrent.ForkJoinTask$RunnableExecuteAction.exec(ForkJoinTask.java:1423)\r\n\tat java.base/java.util.concurrent.ForkJoinTask.doExec(ForkJoinTask.java:387)\r\n\tat java.base/java.util.concurrent.ForkJoinPool$WorkQueue.topLevelExec(ForkJoinPool.java:1311)\r\n\tat java.base/java.util.concurrent.ForkJoinPool.scan(ForkJoinPool.java:1840)\r\n\tat java.base/java.util.concurrent.ForkJoinPool.runWorker(ForkJoinPool.java:1806)\r\n\tat java.base/java.util.concurrent.ForkJoinWorkerThread.run(ForkJoinWorkerThread.java:177)\r\nCaused by: java.lang.RuntimeException: file:/D:/data_sets/airlines/Airlines.csv is not a Parquet file. Expected magic number at tail, but found [110, 99, 46, 10]\r\n\tat org.apache.parquet.hadoop.ParquetFileReader.readFooter(ParquetFileReader.java:556)\r\n\tat org.apache.parquet.hadoop.ParquetFileReader.<init>(ParquetFileReader.java:776)\r\n\tat org.apache.parquet.hadoop.ParquetFileReader.open(ParquetFileReader.java:657)\r\n\tat org.apache.spark.sql.execution.datasources.parquet.ParquetFooterReader.readFooter(ParquetFooterReader.java:53)\r\n\tat org.apache.spark.sql.execution.datasources.parquet.ParquetFooterReader.readFooter(ParquetFooterReader.java:44)\r\n\tat org.apache.spark.sql.execution.datasources.parquet.ParquetFileFormat$.$anonfun$readParquetFootersInParallel$1(ParquetFileFormat.scala:484)\r\n\t... 14 more\r\n",
          "output_type": "error",
          "traceback": [
            "\u001b[1;31m---------------------------------------------------------------------------\u001b[0m",
            "\u001b[1;31mPy4JJavaError\u001b[0m                             Traceback (most recent call last)",
            "\u001b[1;32mc:\\Users\\luigi\\projects\\ml-predict-flight-delays\\notebooks\\pyspark_flight_prediction.ipynb Cell 15\u001b[0m in \u001b[0;36m<cell line: 9>\u001b[1;34m()\u001b[0m\n\u001b[0;32m      <a href='vscode-notebook-cell:/c%3A/Users/luigi/projects/ml-predict-flight-delays/notebooks/pyspark_flight_prediction.ipynb#X20sZmlsZQ%3D%3D?line=6'>7</a>\u001b[0m     \u001b[39mprint\u001b[39m(file_name\u001b[39m.\u001b[39mas_posix())\n\u001b[0;32m      <a href='vscode-notebook-cell:/c%3A/Users/luigi/projects/ml-predict-flight-delays/notebooks/pyspark_flight_prediction.ipynb#X20sZmlsZQ%3D%3D?line=7'>8</a>\u001b[0m   \u001b[39mreturn\u001b[39;00m data\n\u001b[1;32m----> <a href='vscode-notebook-cell:/c%3A/Users/luigi/projects/ml-predict-flight-delays/notebooks/pyspark_flight_prediction.ipynb#X20sZmlsZQ%3D%3D?line=8'>9</a>\u001b[0m data \u001b[39m=\u001b[39m merge_data(file_names)\n",
            "\u001b[1;32mc:\\Users\\luigi\\projects\\ml-predict-flight-delays\\notebooks\\pyspark_flight_prediction.ipynb Cell 15\u001b[0m in \u001b[0;36mmerge_data\u001b[1;34m(file_names)\u001b[0m\n\u001b[0;32m      <a href='vscode-notebook-cell:/c%3A/Users/luigi/projects/ml-predict-flight-delays/notebooks/pyspark_flight_prediction.ipynb#X20sZmlsZQ%3D%3D?line=0'>1</a>\u001b[0m \u001b[39mdef\u001b[39;00m \u001b[39mmerge_data\u001b[39m(file_names):\n\u001b[0;32m      <a href='vscode-notebook-cell:/c%3A/Users/luigi/projects/ml-predict-flight-delays/notebooks/pyspark_flight_prediction.ipynb#X20sZmlsZQ%3D%3D?line=1'>2</a>\u001b[0m   first_file \u001b[39m=\u001b[39m file_names\u001b[39m.\u001b[39mpop(\u001b[39m0\u001b[39m)\n\u001b[1;32m----> <a href='vscode-notebook-cell:/c%3A/Users/luigi/projects/ml-predict-flight-delays/notebooks/pyspark_flight_prediction.ipynb#X20sZmlsZQ%3D%3D?line=2'>3</a>\u001b[0m   data \u001b[39m=\u001b[39m spark\u001b[39m.\u001b[39;49mread\u001b[39m.\u001b[39;49mparquet(first_file\u001b[39m.\u001b[39;49mas_posix())\n\u001b[0;32m      <a href='vscode-notebook-cell:/c%3A/Users/luigi/projects/ml-predict-flight-delays/notebooks/pyspark_flight_prediction.ipynb#X20sZmlsZQ%3D%3D?line=3'>4</a>\u001b[0m   \u001b[39mfor\u001b[39;00m file_name \u001b[39min\u001b[39;00m file_names:\n\u001b[0;32m      <a href='vscode-notebook-cell:/c%3A/Users/luigi/projects/ml-predict-flight-delays/notebooks/pyspark_flight_prediction.ipynb#X20sZmlsZQ%3D%3D?line=4'>5</a>\u001b[0m     temp_data \u001b[39m=\u001b[39m spark\u001b[39m.\u001b[39mread\u001b[39m.\u001b[39mparquet(file_name\u001b[39m.\u001b[39mas_posix())\n",
            "File \u001b[1;32mc:\\Users\\luigi\\miniconda3\\envs\\pytorch\\lib\\site-packages\\pyspark\\sql\\readwriter.py:364\u001b[0m, in \u001b[0;36mDataFrameReader.parquet\u001b[1;34m(self, *paths, **options)\u001b[0m\n\u001b[0;32m    353\u001b[0m int96RebaseMode \u001b[39m=\u001b[39m options\u001b[39m.\u001b[39mget(\u001b[39m\"\u001b[39m\u001b[39mint96RebaseMode\u001b[39m\u001b[39m\"\u001b[39m, \u001b[39mNone\u001b[39;00m)\n\u001b[0;32m    354\u001b[0m \u001b[39mself\u001b[39m\u001b[39m.\u001b[39m_set_opts(\n\u001b[0;32m    355\u001b[0m     mergeSchema\u001b[39m=\u001b[39mmergeSchema,\n\u001b[0;32m    356\u001b[0m     pathGlobFilter\u001b[39m=\u001b[39mpathGlobFilter,\n\u001b[1;32m   (...)\u001b[0m\n\u001b[0;32m    361\u001b[0m     int96RebaseMode\u001b[39m=\u001b[39mint96RebaseMode,\n\u001b[0;32m    362\u001b[0m )\n\u001b[1;32m--> 364\u001b[0m \u001b[39mreturn\u001b[39;00m \u001b[39mself\u001b[39m\u001b[39m.\u001b[39m_df(\u001b[39mself\u001b[39;49m\u001b[39m.\u001b[39;49m_jreader\u001b[39m.\u001b[39;49mparquet(_to_seq(\u001b[39mself\u001b[39;49m\u001b[39m.\u001b[39;49m_spark\u001b[39m.\u001b[39;49m_sc, paths)))\n",
            "File \u001b[1;32mc:\\Users\\luigi\\miniconda3\\envs\\pytorch\\lib\\site-packages\\py4j\\java_gateway.py:1321\u001b[0m, in \u001b[0;36mJavaMember.__call__\u001b[1;34m(self, *args)\u001b[0m\n\u001b[0;32m   1315\u001b[0m command \u001b[39m=\u001b[39m proto\u001b[39m.\u001b[39mCALL_COMMAND_NAME \u001b[39m+\u001b[39m\\\n\u001b[0;32m   1316\u001b[0m     \u001b[39mself\u001b[39m\u001b[39m.\u001b[39mcommand_header \u001b[39m+\u001b[39m\\\n\u001b[0;32m   1317\u001b[0m     args_command \u001b[39m+\u001b[39m\\\n\u001b[0;32m   1318\u001b[0m     proto\u001b[39m.\u001b[39mEND_COMMAND_PART\n\u001b[0;32m   1320\u001b[0m answer \u001b[39m=\u001b[39m \u001b[39mself\u001b[39m\u001b[39m.\u001b[39mgateway_client\u001b[39m.\u001b[39msend_command(command)\n\u001b[1;32m-> 1321\u001b[0m return_value \u001b[39m=\u001b[39m get_return_value(\n\u001b[0;32m   1322\u001b[0m     answer, \u001b[39mself\u001b[39;49m\u001b[39m.\u001b[39;49mgateway_client, \u001b[39mself\u001b[39;49m\u001b[39m.\u001b[39;49mtarget_id, \u001b[39mself\u001b[39;49m\u001b[39m.\u001b[39;49mname)\n\u001b[0;32m   1324\u001b[0m \u001b[39mfor\u001b[39;00m temp_arg \u001b[39min\u001b[39;00m temp_args:\n\u001b[0;32m   1325\u001b[0m     temp_arg\u001b[39m.\u001b[39m_detach()\n",
            "File \u001b[1;32mc:\\Users\\luigi\\miniconda3\\envs\\pytorch\\lib\\site-packages\\pyspark\\sql\\utils.py:190\u001b[0m, in \u001b[0;36mcapture_sql_exception.<locals>.deco\u001b[1;34m(*a, **kw)\u001b[0m\n\u001b[0;32m    188\u001b[0m \u001b[39mdef\u001b[39;00m \u001b[39mdeco\u001b[39m(\u001b[39m*\u001b[39ma: Any, \u001b[39m*\u001b[39m\u001b[39m*\u001b[39mkw: Any) \u001b[39m-\u001b[39m\u001b[39m>\u001b[39m Any:\n\u001b[0;32m    189\u001b[0m     \u001b[39mtry\u001b[39;00m:\n\u001b[1;32m--> 190\u001b[0m         \u001b[39mreturn\u001b[39;00m f(\u001b[39m*\u001b[39ma, \u001b[39m*\u001b[39m\u001b[39m*\u001b[39mkw)\n\u001b[0;32m    191\u001b[0m     \u001b[39mexcept\u001b[39;00m Py4JJavaError \u001b[39mas\u001b[39;00m e:\n\u001b[0;32m    192\u001b[0m         converted \u001b[39m=\u001b[39m convert_exception(e\u001b[39m.\u001b[39mjava_exception)\n",
            "File \u001b[1;32mc:\\Users\\luigi\\miniconda3\\envs\\pytorch\\lib\\site-packages\\py4j\\protocol.py:326\u001b[0m, in \u001b[0;36mget_return_value\u001b[1;34m(answer, gateway_client, target_id, name)\u001b[0m\n\u001b[0;32m    324\u001b[0m value \u001b[39m=\u001b[39m OUTPUT_CONVERTER[\u001b[39mtype\u001b[39m](answer[\u001b[39m2\u001b[39m:], gateway_client)\n\u001b[0;32m    325\u001b[0m \u001b[39mif\u001b[39;00m answer[\u001b[39m1\u001b[39m] \u001b[39m==\u001b[39m REFERENCE_TYPE:\n\u001b[1;32m--> 326\u001b[0m     \u001b[39mraise\u001b[39;00m Py4JJavaError(\n\u001b[0;32m    327\u001b[0m         \u001b[39m\"\u001b[39m\u001b[39mAn error occurred while calling \u001b[39m\u001b[39m{0}\u001b[39;00m\u001b[39m{1}\u001b[39;00m\u001b[39m{2}\u001b[39;00m\u001b[39m.\u001b[39m\u001b[39m\\n\u001b[39;00m\u001b[39m\"\u001b[39m\u001b[39m.\u001b[39m\n\u001b[0;32m    328\u001b[0m         \u001b[39mformat\u001b[39m(target_id, \u001b[39m\"\u001b[39m\u001b[39m.\u001b[39m\u001b[39m\"\u001b[39m, name), value)\n\u001b[0;32m    329\u001b[0m \u001b[39melse\u001b[39;00m:\n\u001b[0;32m    330\u001b[0m     \u001b[39mraise\u001b[39;00m Py4JError(\n\u001b[0;32m    331\u001b[0m         \u001b[39m\"\u001b[39m\u001b[39mAn error occurred while calling \u001b[39m\u001b[39m{0}\u001b[39;00m\u001b[39m{1}\u001b[39;00m\u001b[39m{2}\u001b[39;00m\u001b[39m. Trace:\u001b[39m\u001b[39m\\n\u001b[39;00m\u001b[39m{3}\u001b[39;00m\u001b[39m\\n\u001b[39;00m\u001b[39m\"\u001b[39m\u001b[39m.\u001b[39m\n\u001b[0;32m    332\u001b[0m         \u001b[39mformat\u001b[39m(target_id, \u001b[39m\"\u001b[39m\u001b[39m.\u001b[39m\u001b[39m\"\u001b[39m, name, value))\n",
            "\u001b[1;31mPy4JJavaError\u001b[0m: An error occurred while calling o37.parquet.\n: org.apache.spark.SparkException: Job aborted due to stage failure: Task 0 in stage 0.0 failed 1 times, most recent failure: Lost task 0.0 in stage 0.0 (TID 0) (PCerda executor driver): org.apache.spark.SparkException: Exception thrown in awaitResult: \r\n\tat org.apache.spark.util.ThreadUtils$.awaitResult(ThreadUtils.scala:301)\r\n\tat org.apache.spark.util.ThreadUtils$.parmap(ThreadUtils.scala:375)\r\n\tat org.apache.spark.sql.execution.datasources.parquet.ParquetFileFormat$.readParquetFootersInParallel(ParquetFileFormat.scala:477)\r\n\tat org.apache.spark.sql.execution.datasources.parquet.ParquetFileFormat$.$anonfun$mergeSchemasInParallel$1(ParquetFileFormat.scala:523)\r\n\tat org.apache.spark.sql.execution.datasources.parquet.ParquetFileFormat$.$anonfun$mergeSchemasInParallel$1$adapted(ParquetFileFormat.scala:517)\r\n\tat org.apache.spark.sql.execution.datasources.SchemaMergeUtils$.$anonfun$mergeSchemasInParallel$2(SchemaMergeUtils.scala:76)\r\n\tat org.apache.spark.rdd.RDD.$anonfun$mapPartitions$2(RDD.scala:855)\r\n\tat org.apache.spark.rdd.RDD.$anonfun$mapPartitions$2$adapted(RDD.scala:855)\r\n\tat org.apache.spark.rdd.MapPartitionsRDD.compute(MapPartitionsRDD.scala:52)\r\n\tat org.apache.spark.rdd.RDD.computeOrReadCheckpoint(RDD.scala:365)\r\n\tat org.apache.spark.rdd.RDD.iterator(RDD.scala:329)\r\n\tat org.apache.spark.scheduler.ResultTask.runTask(ResultTask.scala:90)\r\n\tat org.apache.spark.scheduler.Task.run(Task.scala:136)\r\n\tat org.apache.spark.executor.Executor$TaskRunner.$anonfun$run$3(Executor.scala:548)\r\n\tat org.apache.spark.util.Utils$.tryWithSafeFinally(Utils.scala:1504)\r\n\tat org.apache.spark.executor.Executor$TaskRunner.run(Executor.scala:551)\r\n\tat java.base/java.util.concurrent.ThreadPoolExecutor.runWorker(ThreadPoolExecutor.java:1144)\r\n\tat java.base/java.util.concurrent.ThreadPoolExecutor$Worker.run(ThreadPoolExecutor.java:642)\r\n\tat java.base/java.lang.Thread.run(Thread.java:1589)\r\nCaused by: java.io.IOException: Could not read footer for file: FileStatus{path=file:/D:/data_sets/airlines/Airlines.csv; isDirectory=false; length=39051; replication=0; blocksize=0; modification_time=0; access_time=0; owner=; group=; permission=rw-rw-rw-; isSymlink=false; hasAcl=false; isEncrypted=false; isErasureCoded=false}\r\n\tat org.apache.spark.sql.errors.QueryExecutionErrors$.cannotReadFooterForFileError(QueryExecutionErrors.scala:864)\r\n\tat org.apache.spark.sql.execution.datasources.parquet.ParquetFileFormat$.$anonfun$readParquetFootersInParallel$1(ParquetFileFormat.scala:490)\r\n\tat org.apache.spark.util.ThreadUtils$.$anonfun$parmap$2(ThreadUtils.scala:372)\r\n\tat scala.concurrent.Future$.$anonfun$apply$1(Future.scala:659)\r\n\tat scala.util.Success.$anonfun$map$1(Try.scala:255)\r\n\tat scala.util.Success.map(Try.scala:213)\r\n\tat scala.concurrent.Future.$anonfun$map$1(Future.scala:292)\r\n\tat scala.concurrent.impl.Promise.liftedTree1$1(Promise.scala:33)\r\n\tat scala.concurrent.impl.Promise.$anonfun$transform$1(Promise.scala:33)\r\n\tat scala.concurrent.impl.CallbackRunnable.run(Promise.scala:64)\r\n\tat java.base/java.util.concurrent.ForkJoinTask$RunnableExecuteAction.exec(ForkJoinTask.java:1423)\r\n\tat java.base/java.util.concurrent.ForkJoinTask.doExec(ForkJoinTask.java:387)\r\n\tat java.base/java.util.concurrent.ForkJoinPool$WorkQueue.topLevelExec(ForkJoinPool.java:1311)\r\n\tat java.base/java.util.concurrent.ForkJoinPool.scan(ForkJoinPool.java:1840)\r\n\tat java.base/java.util.concurrent.ForkJoinPool.runWorker(ForkJoinPool.java:1806)\r\n\tat java.base/java.util.concurrent.ForkJoinWorkerThread.run(ForkJoinWorkerThread.java:177)\r\nCaused by: java.lang.RuntimeException: file:/D:/data_sets/airlines/Airlines.csv is not a Parquet file. Expected magic number at tail, but found [110, 99, 46, 10]\r\n\tat org.apache.parquet.hadoop.ParquetFileReader.readFooter(ParquetFileReader.java:556)\r\n\tat org.apache.parquet.hadoop.ParquetFileReader.<init>(ParquetFileReader.java:776)\r\n\tat org.apache.parquet.hadoop.ParquetFileReader.open(ParquetFileReader.java:657)\r\n\tat org.apache.spark.sql.execution.datasources.parquet.ParquetFooterReader.readFooter(ParquetFooterReader.java:53)\r\n\tat org.apache.spark.sql.execution.datasources.parquet.ParquetFooterReader.readFooter(ParquetFooterReader.java:44)\r\n\tat org.apache.spark.sql.execution.datasources.parquet.ParquetFileFormat$.$anonfun$readParquetFootersInParallel$1(ParquetFileFormat.scala:484)\r\n\t... 14 more\r\n\nDriver stacktrace:\r\n\tat org.apache.spark.scheduler.DAGScheduler.failJobAndIndependentStages(DAGScheduler.scala:2672)\r\n\tat org.apache.spark.scheduler.DAGScheduler.$anonfun$abortStage$2(DAGScheduler.scala:2608)\r\n\tat org.apache.spark.scheduler.DAGScheduler.$anonfun$abortStage$2$adapted(DAGScheduler.scala:2607)\r\n\tat scala.collection.mutable.ResizableArray.foreach(ResizableArray.scala:62)\r\n\tat scala.collection.mutable.ResizableArray.foreach$(ResizableArray.scala:55)\r\n\tat scala.collection.mutable.ArrayBuffer.foreach(ArrayBuffer.scala:49)\r\n\tat org.apache.spark.scheduler.DAGScheduler.abortStage(DAGScheduler.scala:2607)\r\n\tat org.apache.spark.scheduler.DAGScheduler.$anonfun$handleTaskSetFailed$1(DAGScheduler.scala:1182)\r\n\tat org.apache.spark.scheduler.DAGScheduler.$anonfun$handleTaskSetFailed$1$adapted(DAGScheduler.scala:1182)\r\n\tat scala.Option.foreach(Option.scala:407)\r\n\tat org.apache.spark.scheduler.DAGScheduler.handleTaskSetFailed(DAGScheduler.scala:1182)\r\n\tat org.apache.spark.scheduler.DAGSchedulerEventProcessLoop.doOnReceive(DAGScheduler.scala:2860)\r\n\tat org.apache.spark.scheduler.DAGSchedulerEventProcessLoop.onReceive(DAGScheduler.scala:2802)\r\n\tat org.apache.spark.scheduler.DAGSchedulerEventProcessLoop.onReceive(DAGScheduler.scala:2791)\r\n\tat org.apache.spark.util.EventLoop$$anon$1.run(EventLoop.scala:49)\r\n\tat org.apache.spark.scheduler.DAGScheduler.runJob(DAGScheduler.scala:952)\r\n\tat org.apache.spark.SparkContext.runJob(SparkContext.scala:2228)\r\n\tat org.apache.spark.SparkContext.runJob(SparkContext.scala:2249)\r\n\tat org.apache.spark.SparkContext.runJob(SparkContext.scala:2268)\r\n\tat org.apache.spark.SparkContext.runJob(SparkContext.scala:2293)\r\n\tat org.apache.spark.rdd.RDD.$anonfun$collect$1(RDD.scala:1021)\r\n\tat org.apache.spark.rdd.RDDOperationScope$.withScope(RDDOperationScope.scala:151)\r\n\tat org.apache.spark.rdd.RDDOperationScope$.withScope(RDDOperationScope.scala:112)\r\n\tat org.apache.spark.rdd.RDD.withScope(RDD.scala:406)\r\n\tat org.apache.spark.rdd.RDD.collect(RDD.scala:1020)\r\n\tat org.apache.spark.sql.execution.datasources.SchemaMergeUtils$.mergeSchemasInParallel(SchemaMergeUtils.scala:70)\r\n\tat org.apache.spark.sql.execution.datasources.parquet.ParquetFileFormat$.mergeSchemasInParallel(ParquetFileFormat.scala:527)\r\n\tat org.apache.spark.sql.execution.datasources.parquet.ParquetUtils$.inferSchema(ParquetUtils.scala:125)\r\n\tat org.apache.spark.sql.execution.datasources.parquet.ParquetFileFormat.inferSchema(ParquetFileFormat.scala:168)\r\n\tat org.apache.spark.sql.execution.datasources.DataSource.$anonfun$getOrInferFileFormatSchema$11(DataSource.scala:210)\r\n\tat scala.Option.orElse(Option.scala:447)\r\n\tat org.apache.spark.sql.execution.datasources.DataSource.getOrInferFileFormatSchema(DataSource.scala:207)\r\n\tat org.apache.spark.sql.execution.datasources.DataSource.resolveRelation(DataSource.scala:411)\r\n\tat org.apache.spark.sql.DataFrameReader.loadV1Source(DataFrameReader.scala:228)\r\n\tat org.apache.spark.sql.DataFrameReader.$anonfun$load$2(DataFrameReader.scala:210)\r\n\tat scala.Option.getOrElse(Option.scala:189)\r\n\tat org.apache.spark.sql.DataFrameReader.load(DataFrameReader.scala:210)\r\n\tat org.apache.spark.sql.DataFrameReader.parquet(DataFrameReader.scala:562)\r\n\tat java.base/jdk.internal.reflect.DirectMethodHandleAccessor.invoke(DirectMethodHandleAccessor.java:104)\r\n\tat java.base/java.lang.reflect.Method.invoke(Method.java:578)\r\n\tat py4j.reflection.MethodInvoker.invoke(MethodInvoker.java:244)\r\n\tat py4j.reflection.ReflectionEngine.invoke(ReflectionEngine.java:357)\r\n\tat py4j.Gateway.invoke(Gateway.java:282)\r\n\tat py4j.commands.AbstractCommand.invokeMethod(AbstractCommand.java:132)\r\n\tat py4j.commands.CallCommand.execute(CallCommand.java:79)\r\n\tat py4j.ClientServerConnection.waitForCommands(ClientServerConnection.java:182)\r\n\tat py4j.ClientServerConnection.run(ClientServerConnection.java:106)\r\n\tat java.base/java.lang.Thread.run(Thread.java:1589)\r\nCaused by: org.apache.spark.SparkException: Exception thrown in awaitResult: \r\n\tat org.apache.spark.util.ThreadUtils$.awaitResult(ThreadUtils.scala:301)\r\n\tat org.apache.spark.util.ThreadUtils$.parmap(ThreadUtils.scala:375)\r\n\tat org.apache.spark.sql.execution.datasources.parquet.ParquetFileFormat$.readParquetFootersInParallel(ParquetFileFormat.scala:477)\r\n\tat org.apache.spark.sql.execution.datasources.parquet.ParquetFileFormat$.$anonfun$mergeSchemasInParallel$1(ParquetFileFormat.scala:523)\r\n\tat org.apache.spark.sql.execution.datasources.parquet.ParquetFileFormat$.$anonfun$mergeSchemasInParallel$1$adapted(ParquetFileFormat.scala:517)\r\n\tat org.apache.spark.sql.execution.datasources.SchemaMergeUtils$.$anonfun$mergeSchemasInParallel$2(SchemaMergeUtils.scala:76)\r\n\tat org.apache.spark.rdd.RDD.$anonfun$mapPartitions$2(RDD.scala:855)\r\n\tat org.apache.spark.rdd.RDD.$anonfun$mapPartitions$2$adapted(RDD.scala:855)\r\n\tat org.apache.spark.rdd.MapPartitionsRDD.compute(MapPartitionsRDD.scala:52)\r\n\tat org.apache.spark.rdd.RDD.computeOrReadCheckpoint(RDD.scala:365)\r\n\tat org.apache.spark.rdd.RDD.iterator(RDD.scala:329)\r\n\tat org.apache.spark.scheduler.ResultTask.runTask(ResultTask.scala:90)\r\n\tat org.apache.spark.scheduler.Task.run(Task.scala:136)\r\n\tat org.apache.spark.executor.Executor$TaskRunner.$anonfun$run$3(Executor.scala:548)\r\n\tat org.apache.spark.util.Utils$.tryWithSafeFinally(Utils.scala:1504)\r\n\tat org.apache.spark.executor.Executor$TaskRunner.run(Executor.scala:551)\r\n\tat java.base/java.util.concurrent.ThreadPoolExecutor.runWorker(ThreadPoolExecutor.java:1144)\r\n\tat java.base/java.util.concurrent.ThreadPoolExecutor$Worker.run(ThreadPoolExecutor.java:642)\r\n\t... 1 more\r\nCaused by: java.io.IOException: Could not read footer for file: FileStatus{path=file:/D:/data_sets/airlines/Airlines.csv; isDirectory=false; length=39051; replication=0; blocksize=0; modification_time=0; access_time=0; owner=; group=; permission=rw-rw-rw-; isSymlink=false; hasAcl=false; isEncrypted=false; isErasureCoded=false}\r\n\tat org.apache.spark.sql.errors.QueryExecutionErrors$.cannotReadFooterForFileError(QueryExecutionErrors.scala:864)\r\n\tat org.apache.spark.sql.execution.datasources.parquet.ParquetFileFormat$.$anonfun$readParquetFootersInParallel$1(ParquetFileFormat.scala:490)\r\n\tat org.apache.spark.util.ThreadUtils$.$anonfun$parmap$2(ThreadUtils.scala:372)\r\n\tat scala.concurrent.Future$.$anonfun$apply$1(Future.scala:659)\r\n\tat scala.util.Success.$anonfun$map$1(Try.scala:255)\r\n\tat scala.util.Success.map(Try.scala:213)\r\n\tat scala.concurrent.Future.$anonfun$map$1(Future.scala:292)\r\n\tat scala.concurrent.impl.Promise.liftedTree1$1(Promise.scala:33)\r\n\tat scala.concurrent.impl.Promise.$anonfun$transform$1(Promise.scala:33)\r\n\tat scala.concurrent.impl.CallbackRunnable.run(Promise.scala:64)\r\n\tat java.base/java.util.concurrent.ForkJoinTask$RunnableExecuteAction.exec(ForkJoinTask.java:1423)\r\n\tat java.base/java.util.concurrent.ForkJoinTask.doExec(ForkJoinTask.java:387)\r\n\tat java.base/java.util.concurrent.ForkJoinPool$WorkQueue.topLevelExec(ForkJoinPool.java:1311)\r\n\tat java.base/java.util.concurrent.ForkJoinPool.scan(ForkJoinPool.java:1840)\r\n\tat java.base/java.util.concurrent.ForkJoinPool.runWorker(ForkJoinPool.java:1806)\r\n\tat java.base/java.util.concurrent.ForkJoinWorkerThread.run(ForkJoinWorkerThread.java:177)\r\nCaused by: java.lang.RuntimeException: file:/D:/data_sets/airlines/Airlines.csv is not a Parquet file. Expected magic number at tail, but found [110, 99, 46, 10]\r\n\tat org.apache.parquet.hadoop.ParquetFileReader.readFooter(ParquetFileReader.java:556)\r\n\tat org.apache.parquet.hadoop.ParquetFileReader.<init>(ParquetFileReader.java:776)\r\n\tat org.apache.parquet.hadoop.ParquetFileReader.open(ParquetFileReader.java:657)\r\n\tat org.apache.spark.sql.execution.datasources.parquet.ParquetFooterReader.readFooter(ParquetFooterReader.java:53)\r\n\tat org.apache.spark.sql.execution.datasources.parquet.ParquetFooterReader.readFooter(ParquetFooterReader.java:44)\r\n\tat org.apache.spark.sql.execution.datasources.parquet.ParquetFileFormat$.$anonfun$readParquetFootersInParallel$1(ParquetFileFormat.scala:484)\r\n\t... 14 more\r\n"
          ]
        }
      ],
      "source": [
        "def merge_data(file_names):\n",
        "  first_file = file_names.pop(0)\n",
        "  data = spark.read.parquet(first_file.as_posix())\n",
        "  for file_name in file_names:\n",
        "    temp_data = spark.read.parquet(file_name.as_posix())\n",
        "    data = data.union(temp_data)\n",
        "    print(file_name.as_posix())\n",
        "  return data\n",
        "data = merge_data(file_names)"
      ]
    },
    {
      "cell_type": "code",
      "execution_count": null,
      "metadata": {},
      "outputs": [
        {
          "data": {
            "text/plain": [
              "[('bigint', 23),\n",
              " ('double', 19),\n",
              " ('string', 17),\n",
              " ('boolean', 2),\n",
              " ('timestamp', 1)]"
            ]
          },
          "execution_count": 12,
          "metadata": {},
          "output_type": "execute_result"
        }
      ],
      "source": [
        "def count_dtypes(dataframe):\n",
        "    col_dict = dict(dataframe.dtypes).values()\n",
        "    c = Counter(col_dict)\n",
        "    return c.most_common()\n",
        "count_dtypes(data)"
      ]
    },
    {
      "cell_type": "code",
      "execution_count": null,
      "metadata": {
        "colab": {
          "base_uri": "https://localhost:8080/"
        },
        "id": "gKUniBNY2tw3",
        "outputId": "ee0161e9-4ecb-4311-a61d-7e1b11c7a31c"
      },
      "outputs": [
        {
          "name": "stdout",
          "output_type": "stream",
          "text": [
            "root\n",
            " |-- FlightDate: timestamp (nullable = true)\n",
            " |-- Airline: string (nullable = true)\n",
            " |-- Origin: string (nullable = true)\n",
            " |-- Dest: string (nullable = true)\n",
            " |-- Cancelled: boolean (nullable = true)\n",
            " |-- Diverted: boolean (nullable = true)\n",
            " |-- CRSDepTime: long (nullable = true)\n",
            " |-- DepTime: double (nullable = true)\n",
            " |-- DepDelayMinutes: double (nullable = true)\n",
            " |-- DepDelay: double (nullable = true)\n",
            " |-- ArrTime: double (nullable = true)\n",
            " |-- ArrDelayMinutes: double (nullable = true)\n",
            " |-- AirTime: double (nullable = true)\n",
            " |-- CRSElapsedTime: double (nullable = true)\n",
            " |-- ActualElapsedTime: double (nullable = true)\n",
            " |-- Distance: double (nullable = true)\n",
            " |-- Year: long (nullable = true)\n",
            " |-- Quarter: long (nullable = true)\n",
            " |-- Month: long (nullable = true)\n",
            " |-- DayofMonth: long (nullable = true)\n",
            " |-- DayOfWeek: long (nullable = true)\n",
            " |-- Marketing_Airline_Network: string (nullable = true)\n",
            " |-- Operated_or_Branded_Code_Share_Partners: string (nullable = true)\n",
            " |-- DOT_ID_Marketing_Airline: long (nullable = true)\n",
            " |-- IATA_Code_Marketing_Airline: string (nullable = true)\n",
            " |-- Flight_Number_Marketing_Airline: long (nullable = true)\n",
            " |-- Operating_Airline: string (nullable = true)\n",
            " |-- DOT_ID_Operating_Airline: long (nullable = true)\n",
            " |-- IATA_Code_Operating_Airline: string (nullable = true)\n",
            " |-- Tail_Number: string (nullable = true)\n",
            " |-- Flight_Number_Operating_Airline: long (nullable = true)\n",
            " |-- OriginAirportID: long (nullable = true)\n",
            " |-- OriginAirportSeqID: long (nullable = true)\n",
            " |-- OriginCityMarketID: long (nullable = true)\n",
            " |-- OriginCityName: string (nullable = true)\n",
            " |-- OriginState: string (nullable = true)\n",
            " |-- OriginStateFips: long (nullable = true)\n",
            " |-- OriginStateName: string (nullable = true)\n",
            " |-- OriginWac: long (nullable = true)\n",
            " |-- DestAirportID: long (nullable = true)\n",
            " |-- DestAirportSeqID: long (nullable = true)\n",
            " |-- DestCityMarketID: long (nullable = true)\n",
            " |-- DestCityName: string (nullable = true)\n",
            " |-- DestState: string (nullable = true)\n",
            " |-- DestStateFips: long (nullable = true)\n",
            " |-- DestStateName: string (nullable = true)\n",
            " |-- DestWac: long (nullable = true)\n",
            " |-- DepDel15: double (nullable = true)\n",
            " |-- DepartureDelayGroups: double (nullable = true)\n",
            " |-- DepTimeBlk: string (nullable = true)\n",
            " |-- TaxiOut: double (nullable = true)\n",
            " |-- WheelsOff: double (nullable = true)\n",
            " |-- WheelsOn: double (nullable = true)\n",
            " |-- TaxiIn: double (nullable = true)\n",
            " |-- CRSArrTime: long (nullable = true)\n",
            " |-- ArrDelay: double (nullable = true)\n",
            " |-- ArrDel15: double (nullable = true)\n",
            " |-- ArrivalDelayGroups: double (nullable = true)\n",
            " |-- ArrTimeBlk: string (nullable = true)\n",
            " |-- DistanceGroup: long (nullable = true)\n",
            " |-- DivAirportLandings: double (nullable = true)\n",
            " |-- __index_level_0__: long (nullable = true)\n",
            "\n"
          ]
        }
      ],
      "source": [
        "data.printSchema()"
      ]
    },
    {
      "cell_type": "markdown",
      "metadata": {
        "id": "hd6hRe0_aWU0"
      },
      "source": [
        "# EDA"
      ]
    },
    {
      "cell_type": "code",
      "execution_count": null,
      "metadata": {
        "colab": {
          "base_uri": "https://localhost:8080/"
        },
        "id": "_daIhykgiA8N",
        "outputId": "c4154abc-cc4d-4db9-acf3-d09c5923828f"
      },
      "outputs": [
        {
          "data": {
            "text/plain": [
              "(29193782, 62)"
            ]
          },
          "execution_count": 14,
          "metadata": {},
          "output_type": "execute_result"
        }
      ],
      "source": [
        "data.count(), len(data.columns)"
      ]
    },
    {
      "cell_type": "code",
      "execution_count": null,
      "metadata": {
        "colab": {
          "base_uri": "https://localhost:8080/"
        },
        "id": "_1qDbHJsZYSd",
        "outputId": "0a6e9c88-1a73-4372-a861-881ccfd5b829"
      },
      "outputs": [
        {
          "name": "stdout",
          "output_type": "stream",
          "text": [
            "+-------------------+-----------------+------+----+---------+--------+----------+-------+---------------+--------+-------+---------------+-------+--------------+-----------------+--------+----+-------+-----+----------+---------+-------------------------+---------------------------------------+------------------------+---------------------------+-------------------------------+-----------------+------------------------+---------------------------+-----------+-------------------------------+---------------+------------------+------------------+--------------+-----------+---------------+---------------+---------+-------------+----------------+----------------+------------+---------+-------------+-------------+-------+--------+--------------------+----------+-------+---------+--------+------+----------+--------+--------+------------------+----------+-------------+------------------+-----------------+\n",
            "|         FlightDate|          Airline|Origin|Dest|Cancelled|Diverted|CRSDepTime|DepTime|DepDelayMinutes|DepDelay|ArrTime|ArrDelayMinutes|AirTime|CRSElapsedTime|ActualElapsedTime|Distance|Year|Quarter|Month|DayofMonth|DayOfWeek|Marketing_Airline_Network|Operated_or_Branded_Code_Share_Partners|DOT_ID_Marketing_Airline|IATA_Code_Marketing_Airline|Flight_Number_Marketing_Airline|Operating_Airline|DOT_ID_Operating_Airline|IATA_Code_Operating_Airline|Tail_Number|Flight_Number_Operating_Airline|OriginAirportID|OriginAirportSeqID|OriginCityMarketID|OriginCityName|OriginState|OriginStateFips|OriginStateName|OriginWac|DestAirportID|DestAirportSeqID|DestCityMarketID|DestCityName|DestState|DestStateFips|DestStateName|DestWac|DepDel15|DepartureDelayGroups|DepTimeBlk|TaxiOut|WheelsOff|WheelsOn|TaxiIn|CRSArrTime|ArrDelay|ArrDel15|ArrivalDelayGroups|ArrTimeBlk|DistanceGroup|DivAirportLandings|__index_level_0__|\n",
            "+-------------------+-----------------+------+----+---------+--------+----------+-------+---------------+--------+-------+---------------+-------+--------------+-----------------+--------+----+-------+-----+----------+---------+-------------------------+---------------------------------------+------------------------+---------------------------+-------------------------------+-----------------+------------------------+---------------------------+-----------+-------------------------------+---------------+------------------+------------------+--------------+-----------+---------------+---------------+---------+-------------+----------------+----------------+------------+---------+-------------+-------------+-------+--------+--------------------+----------+-------+---------+--------+------+----------+--------+--------+------------------+----------+-------------+------------------+-----------------+\n",
            "|2018-01-22 18:00:00|Endeavor Air Inc.|   ABY| ATL|    false|   false|      1202| 1157.0|            0.0|    -5.0| 1256.0|            0.0|   38.0|          62.0|             59.0|   145.0|2018|      1|    1|        23|        2|                       DL|                           DL_CODESHARE|                   19790|                         DL|                           3298|               9E|                   20363|                         9E|     N8928A|                           3298|          10146|           1014602|             30146|    Albany, GA|         GA|             13|        Georgia|       34|        10397|         1039707|           30397| Atlanta, GA|       GA|           13|      Georgia|     34|     0.0|                -1.0| 1200-1259|   14.0|   1211.0|  1249.0|   7.0|      1304|    -8.0|     0.0|              -1.0| 1300-1359|            1|               0.0|                0|\n",
            "|2018-01-23 18:00:00|Endeavor Air Inc.|   ABY| ATL|    false|   false|      1202| 1157.0|            0.0|    -5.0| 1258.0|            0.0|   36.0|          62.0|             61.0|   145.0|2018|      1|    1|        24|        3|                       DL|                           DL_CODESHARE|                   19790|                         DL|                           3298|               9E|                   20363|                         9E|     N800AY|                           3298|          10146|           1014602|             30146|    Albany, GA|         GA|             13|        Georgia|       34|        10397|         1039707|           30397| Atlanta, GA|       GA|           13|      Georgia|     34|     0.0|                -1.0| 1200-1259|   13.0|   1210.0|  1246.0|  12.0|      1304|    -6.0|     0.0|              -1.0| 1300-1359|            1|               0.0|                1|\n",
            "|2018-01-24 18:00:00|Endeavor Air Inc.|   ABY| ATL|    false|   false|      1202| 1153.0|            0.0|    -9.0| 1302.0|            0.0|   40.0|          62.0|             69.0|   145.0|2018|      1|    1|        25|        4|                       DL|                           DL_CODESHARE|                   19790|                         DL|                           3298|               9E|                   20363|                         9E|     N8836A|                           3298|          10146|           1014602|             30146|    Albany, GA|         GA|             13|        Georgia|       34|        10397|         1039707|           30397| Atlanta, GA|       GA|           13|      Georgia|     34|     0.0|                -1.0| 1200-1259|   18.0|   1211.0|  1251.0|  11.0|      1304|    -2.0|     0.0|              -1.0| 1300-1359|            1|               0.0|                2|\n",
            "|2018-01-25 18:00:00|Endeavor Air Inc.|   ABY| ATL|    false|   false|      1202| 1150.0|            0.0|   -12.0| 1253.0|            0.0|   35.0|          62.0|             63.0|   145.0|2018|      1|    1|        26|        5|                       DL|                           DL_CODESHARE|                   19790|                         DL|                           3298|               9E|                   20363|                         9E|     N800AY|                           3298|          10146|           1014602|             30146|    Albany, GA|         GA|             13|        Georgia|       34|        10397|         1039707|           30397| Atlanta, GA|       GA|           13|      Georgia|     34|     0.0|                -1.0| 1200-1259|   17.0|   1207.0|  1242.0|  11.0|      1304|   -11.0|     0.0|              -1.0| 1300-1359|            1|               0.0|                3|\n",
            "|2018-01-26 18:00:00|Endeavor Air Inc.|   ABY| ATL|    false|   false|      1400| 1355.0|            0.0|    -5.0| 1459.0|            0.0|   36.0|          60.0|             64.0|   145.0|2018|      1|    1|        27|        6|                       DL|                           DL_CODESHARE|                   19790|                         DL|                           3298|               9E|                   20363|                         9E|     N8839E|                           3298|          10146|           1014602|             30146|    Albany, GA|         GA|             13|        Georgia|       34|        10397|         1039707|           30397| Atlanta, GA|       GA|           13|      Georgia|     34|     0.0|                -1.0| 1400-1459|   17.0|   1412.0|  1448.0|  11.0|      1500|    -1.0|     0.0|              -1.0| 1500-1559|            1|               0.0|                4|\n",
            "+-------------------+-----------------+------+----+---------+--------+----------+-------+---------------+--------+-------+---------------+-------+--------------+-----------------+--------+----+-------+-----+----------+---------+-------------------------+---------------------------------------+------------------------+---------------------------+-------------------------------+-----------------+------------------------+---------------------------+-----------+-------------------------------+---------------+------------------+------------------+--------------+-----------+---------------+---------------+---------+-------------+----------------+----------------+------------+---------+-------------+-------------+-------+--------+--------------------+----------+-------+---------+--------+------+----------+--------+--------+------------------+----------+-------------+------------------+-----------------+\n",
            "only showing top 5 rows\n",
            "\n"
          ]
        }
      ],
      "source": [
        "data.show(5)"
      ]
    },
    {
      "cell_type": "markdown",
      "metadata": {
        "id": "oeaIZNcCgTup"
      },
      "source": [
        "## Data types exploration\n",
        "Handling categorical values to train model"
      ]
    },
    {
      "cell_type": "code",
      "execution_count": null,
      "metadata": {
        "id": "S2C5wYPrmboB"
      },
      "outputs": [],
      "source": [
        "data = data.drop(data.__index_level_0__)"
      ]
    },
    {
      "cell_type": "code",
      "execution_count": null,
      "metadata": {
        "colab": {
          "base_uri": "https://localhost:8080/"
        },
        "id": "pz0F-87ndtVn",
        "outputId": "8ad7a1c7-27ee-4190-b5d2-00a66566668f"
      },
      "outputs": [
        {
          "data": {
            "text/plain": [
              "{'bigint', 'boolean', 'double', 'string', 'timestamp'}"
            ]
          },
          "execution_count": 17,
          "metadata": {},
          "output_type": "execute_result"
        }
      ],
      "source": [
        "dtypes = set()\n",
        "[dtypes.add(item[1]) for item in data.dtypes]\n",
        "dtypes"
      ]
    },
    {
      "cell_type": "markdown",
      "metadata": {
        "id": "v1O3E8vh0NjO"
      },
      "source": [
        "### Boolean exploration"
      ]
    },
    {
      "cell_type": "code",
      "execution_count": null,
      "metadata": {
        "colab": {
          "base_uri": "https://localhost:8080/"
        },
        "id": "ImLhGtsSbqCk",
        "outputId": "db1073d5-8308-45b2-fc16-58f424c42ae0"
      },
      "outputs": [
        {
          "data": {
            "text/plain": [
              "['Cancelled', 'Diverted']"
            ]
          },
          "execution_count": 18,
          "metadata": {},
          "output_type": "execute_result"
        }
      ],
      "source": [
        "[item[0] for item in data.dtypes if item[1] == 'boolean']"
      ]
    },
    {
      "cell_type": "code",
      "execution_count": null,
      "metadata": {
        "colab": {
          "base_uri": "https://localhost:8080/"
        },
        "id": "PTJnZqO40Mge",
        "outputId": "850c6020-4787-4e99-86a1-9274ce80375f"
      },
      "outputs": [
        {
          "data": {
            "text/plain": [
              "[Row(Cancelled=True, count=777267), Row(Cancelled=False, count=28416515)]"
            ]
          },
          "execution_count": 19,
          "metadata": {},
          "output_type": "execute_result"
        }
      ],
      "source": [
        "data.groupBy('Cancelled').count().orderBy('count').collect()"
      ]
    },
    {
      "cell_type": "code",
      "execution_count": null,
      "metadata": {
        "colab": {
          "base_uri": "https://localhost:8080/"
        },
        "id": "7Yrdj3IY1Dei",
        "outputId": "765ad4cb-8535-4b2c-aada-c3dde51bc266"
      },
      "outputs": [
        {
          "data": {
            "text/plain": [
              "[Row(Diverted=True, count=68349), Row(Diverted=False, count=29125433)]"
            ]
          },
          "execution_count": 20,
          "metadata": {},
          "output_type": "execute_result"
        }
      ],
      "source": [
        "data.groupBy('Diverted').count().orderBy('count').collect()"
      ]
    },
    {
      "cell_type": "markdown",
      "metadata": {
        "id": "UXdpobxf1OnW"
      },
      "source": [
        "### String exploration"
      ]
    },
    {
      "cell_type": "code",
      "execution_count": null,
      "metadata": {
        "id": "ZVZekqmC1Spq"
      },
      "outputs": [],
      "source": [
        "str_columns = [item[0] for item in data.dtypes if item[1] == 'string']"
      ]
    },
    {
      "cell_type": "code",
      "execution_count": null,
      "metadata": {
        "colab": {
          "base_uri": "https://localhost:8080/"
        },
        "id": "UQ7KVqzE1wtb",
        "outputId": "30c4f8a5-b1c1-4e4c-daba-36ced26ac2fd"
      },
      "outputs": [
        {
          "name": "stdout",
          "output_type": "stream",
          "text": [
            "+-----------------+------+----+-------------------------+---------------------------------------+---------------------------+-----------------+---------------------------+-----------+--------------+-----------+---------------+------------+---------+-------------+----------+----------+\n",
            "|          Airline|Origin|Dest|Marketing_Airline_Network|Operated_or_Branded_Code_Share_Partners|IATA_Code_Marketing_Airline|Operating_Airline|IATA_Code_Operating_Airline|Tail_Number|OriginCityName|OriginState|OriginStateName|DestCityName|DestState|DestStateName|DepTimeBlk|ArrTimeBlk|\n",
            "+-----------------+------+----+-------------------------+---------------------------------------+---------------------------+-----------------+---------------------------+-----------+--------------+-----------+---------------+------------+---------+-------------+----------+----------+\n",
            "|Endeavor Air Inc.|   ABY| ATL|                       DL|                           DL_CODESHARE|                         DL|               9E|                         9E|     N8928A|    Albany, GA|         GA|        Georgia| Atlanta, GA|       GA|      Georgia| 1200-1259| 1300-1359|\n",
            "|Endeavor Air Inc.|   ABY| ATL|                       DL|                           DL_CODESHARE|                         DL|               9E|                         9E|     N800AY|    Albany, GA|         GA|        Georgia| Atlanta, GA|       GA|      Georgia| 1200-1259| 1300-1359|\n",
            "|Endeavor Air Inc.|   ABY| ATL|                       DL|                           DL_CODESHARE|                         DL|               9E|                         9E|     N8836A|    Albany, GA|         GA|        Georgia| Atlanta, GA|       GA|      Georgia| 1200-1259| 1300-1359|\n",
            "|Endeavor Air Inc.|   ABY| ATL|                       DL|                           DL_CODESHARE|                         DL|               9E|                         9E|     N800AY|    Albany, GA|         GA|        Georgia| Atlanta, GA|       GA|      Georgia| 1200-1259| 1300-1359|\n",
            "|Endeavor Air Inc.|   ABY| ATL|                       DL|                           DL_CODESHARE|                         DL|               9E|                         9E|     N8839E|    Albany, GA|         GA|        Georgia| Atlanta, GA|       GA|      Georgia| 1400-1459| 1500-1559|\n",
            "+-----------------+------+----+-------------------------+---------------------------------------+---------------------------+-----------------+---------------------------+-----------+--------------+-----------+---------------+------------+---------+-------------+----------+----------+\n",
            "only showing top 5 rows\n",
            "\n"
          ]
        }
      ],
      "source": [
        "data.select(str_columns).show(5)"
      ]
    },
    {
      "cell_type": "markdown",
      "metadata": {
        "id": "NPLaqdl42tw5"
      },
      "source": [
        "### Timestamp exploration"
      ]
    },
    {
      "cell_type": "code",
      "execution_count": null,
      "metadata": {
        "id": "lnAig1h82tw5"
      },
      "outputs": [],
      "source": [
        "timestamp_columns = [item[0] for item in data.dtypes if item[1] == 'timestamp']"
      ]
    },
    {
      "cell_type": "code",
      "execution_count": null,
      "metadata": {
        "colab": {
          "base_uri": "https://localhost:8080/"
        },
        "id": "gDk6chYk2tw6",
        "outputId": "a93516fe-4d93-4947-8d72-d7af48831049"
      },
      "outputs": [
        {
          "name": "stdout",
          "output_type": "stream",
          "text": [
            "+-------------------+\n",
            "|         FlightDate|\n",
            "+-------------------+\n",
            "|2018-01-22 18:00:00|\n",
            "|2018-01-23 18:00:00|\n",
            "|2018-01-24 18:00:00|\n",
            "|2018-01-25 18:00:00|\n",
            "|2018-01-26 18:00:00|\n",
            "+-------------------+\n",
            "only showing top 5 rows\n",
            "\n"
          ]
        }
      ],
      "source": [
        "data.select(timestamp_columns).show(5)"
      ]
    },
    {
      "cell_type": "markdown",
      "metadata": {
        "id": "Ut_13ayUgO2B"
      },
      "source": [
        "## Null values handling"
      ]
    },
    {
      "cell_type": "code",
      "execution_count": null,
      "metadata": {
        "colab": {
          "base_uri": "https://localhost:8080/"
        },
        "id": "koe30nMYgSwk",
        "outputId": "8acef72f-d7ee-4c6a-ebba-15b2bd66cef5"
      },
      "outputs": [
        {
          "name": "stdout",
          "output_type": "stream",
          "text": [
            "+----------+-------+------+----+---------+--------+----------+-------+---------------+--------+-------+---------------+-------+--------------+-----------------+--------+----+-------+-----+----------+---------+-------------------------+---------------------------------------+------------------------+---------------------------+-------------------------------+-----------------+------------------------+---------------------------+-----------+-------------------------------+---------------+------------------+------------------+--------------+-----------+---------------+---------------+---------+-------------+----------------+----------------+------------+---------+-------------+-------------+-------+--------+--------------------+----------+-------+---------+--------+------+----------+--------+--------+------------------+----------+-------------+------------------+\n",
            "|FlightDate|Airline|Origin|Dest|Cancelled|Diverted|CRSDepTime|DepTime|DepDelayMinutes|DepDelay|ArrTime|ArrDelayMinutes|AirTime|CRSElapsedTime|ActualElapsedTime|Distance|Year|Quarter|Month|DayofMonth|DayOfWeek|Marketing_Airline_Network|Operated_or_Branded_Code_Share_Partners|DOT_ID_Marketing_Airline|IATA_Code_Marketing_Airline|Flight_Number_Marketing_Airline|Operating_Airline|DOT_ID_Operating_Airline|IATA_Code_Operating_Airline|Tail_Number|Flight_Number_Operating_Airline|OriginAirportID|OriginAirportSeqID|OriginCityMarketID|OriginCityName|OriginState|OriginStateFips|OriginStateName|OriginWac|DestAirportID|DestAirportSeqID|DestCityMarketID|DestCityName|DestState|DestStateFips|DestStateName|DestWac|DepDel15|DepartureDelayGroups|DepTimeBlk|TaxiOut|WheelsOff|WheelsOn|TaxiIn|CRSArrTime|ArrDelay|ArrDel15|ArrivalDelayGroups|ArrTimeBlk|DistanceGroup|DivAirportLandings|\n",
            "+----------+-------+------+----+---------+--------+----------+-------+---------------+--------+-------+---------------+-------+--------------+-----------------+--------+----+-------+-----+----------+---------+-------------------------+---------------------------------------+------------------------+---------------------------+-------------------------------+-----------------+------------------------+---------------------------+-----------+-------------------------------+---------------+------------------+------------------+--------------+-----------+---------------+---------------+---------+-------------+----------------+----------------+------------+---------+-------------+-------------+-------+--------+--------------------+----------+-------+---------+--------+------+----------+--------+--------+------------------+----------+-------------+------------------+\n",
            "|         0|      0|     0|   0|        0|       0|         0| 761652|         763084|  763084| 786177|         846183| 852561|            22|           845637|       0|   0|      0|    0|         0|        0|                        0|                                      0|                       0|                          0|                              0|                0|                       0|                          0|     267613|                              0|              0|                 0|                 0|             0|          0|              0|              0|        0|            0|               0|               0|           0|        0|            0|            0|      0|  763084|              763084|         0| 780561|   780551|  793133|793143|         0|  846183|  846183|            846183|         0|            0|                90|\n",
            "+----------+-------+------+----+---------+--------+----------+-------+---------------+--------+-------+---------------+-------+--------------+-----------------+--------+----+-------+-----+----------+---------+-------------------------+---------------------------------------+------------------------+---------------------------+-------------------------------+-----------------+------------------------+---------------------------+-----------+-------------------------------+---------------+------------------+------------------+--------------+-----------+---------------+---------------+---------+-------------+----------------+----------------+------------+---------+-------------+-------------+-------+--------+--------------------+----------+-------+---------+--------+------+----------+--------+--------+------------------+----------+-------------+------------------+\n",
            "\n"
          ]
        }
      ],
      "source": [
        "null_count = data.select([count(when(col(c).isNull(), c)).alias(c) for c in data.columns])\n",
        "null_count.show()"
      ]
    },
    {
      "cell_type": "code",
      "execution_count": null,
      "metadata": {
        "id": "INq2CP3TqBuz"
      },
      "outputs": [],
      "source": [
        "null_values = null_count.collect()[0].asDict()"
      ]
    },
    {
      "cell_type": "code",
      "execution_count": null,
      "metadata": {
        "colab": {
          "base_uri": "https://localhost:8080/"
        },
        "id": "az_gBpqsn63k",
        "outputId": "a4eb3af0-72f1-4b18-aa63-c27e236e134e"
      },
      "outputs": [
        {
          "name": "stdout",
          "output_type": "stream",
          "text": [
            "+-------+---------------+--------+-------+---------------+-------+--------------+-----------------+-----------+--------+--------------------+-------+---------+--------+------+--------+--------+------------------+------------------+\n",
            "|DepTime|DepDelayMinutes|DepDelay|ArrTime|ArrDelayMinutes|AirTime|CRSElapsedTime|ActualElapsedTime|Tail_Number|DepDel15|DepartureDelayGroups|TaxiOut|WheelsOff|WheelsOn|TaxiIn|ArrDelay|ArrDel15|ArrivalDelayGroups|DivAirportLandings|\n",
            "+-------+---------------+--------+-------+---------------+-------+--------------+-----------------+-----------+--------+--------------------+-------+---------+--------+------+--------+--------+------------------+------------------+\n",
            "| 761652|         763084|  763084| 786177|         846183| 852561|            22|           845637|     267613|  763084|              763084| 780561|   780551|  793133|793143|  846183|  846183|            846183|                90|\n",
            "+-------+---------------+--------+-------+---------------+-------+--------------+-----------------+-----------+--------+--------------------+-------+---------+--------+------+--------+--------+------------------+------------------+\n",
            "\n"
          ]
        }
      ],
      "source": [
        "only_nulls = null_count.select([key for key in null_values if null_values[key] != 0])\n",
        "only_nulls.show()"
      ]
    },
    {
      "cell_type": "markdown",
      "metadata": {
        "id": "0fjhj7OO2tw7"
      },
      "source": [
        "## Drop all null values"
      ]
    },
    {
      "cell_type": "code",
      "execution_count": null,
      "metadata": {
        "id": "hR4e6GgJ2tw7"
      },
      "outputs": [],
      "source": [
        "data_no_na = data.dropna()"
      ]
    },
    {
      "cell_type": "markdown",
      "metadata": {
        "id": "JqXNGIOd2tw8"
      },
      "source": [
        "# Feature selection"
      ]
    },
    {
      "cell_type": "code",
      "execution_count": null,
      "metadata": {
        "id": "_A4q6Ayu2tw8"
      },
      "outputs": [],
      "source": [
        "#Drop timestamp data\n",
        "data_no_na = data_no_na.drop('FlightDate')"
      ]
    },
    {
      "cell_type": "code",
      "execution_count": null,
      "metadata": {
        "colab": {
          "base_uri": "https://localhost:8080/"
        },
        "id": "pnnFs3302tw8",
        "outputId": "f140b892-a184-48a1-a271-65b17c7dad79"
      },
      "outputs": [
        {
          "data": {
            "text/plain": [
              "(28339510, 60)"
            ]
          },
          "execution_count": 30,
          "metadata": {},
          "output_type": "execute_result"
        }
      ],
      "source": [
        "data_no_na.count(), len(data_no_na.columns)"
      ]
    },
    {
      "cell_type": "code",
      "execution_count": null,
      "metadata": {
        "id": "b9Qg893a2tw9"
      },
      "outputs": [],
      "source": [
        "cols_to_encode = ['Airline', 'Origin', 'Dest']\n",
        "[str_columns.remove(x) for x in cols_to_encode]\n",
        "None"
      ]
    },
    {
      "cell_type": "code",
      "execution_count": null,
      "metadata": {
        "colab": {
          "base_uri": "https://localhost:8080/"
        },
        "id": "Y3ZPMw0r2tw9",
        "outputId": "d6052c2e-5e31-4537-cb43-d785ad8e90db"
      },
      "outputs": [
        {
          "data": {
            "text/plain": [
              "(28339510, 46)"
            ]
          },
          "execution_count": 32,
          "metadata": {},
          "output_type": "execute_result"
        }
      ],
      "source": [
        "data_no_na = data_no_na.drop(*str_columns)\n",
        "data_no_na.count(), len(data_no_na.columns)"
      ]
    },
    {
      "cell_type": "code",
      "execution_count": null,
      "metadata": {
        "colab": {
          "base_uri": "https://localhost:8080/"
        },
        "id": "Xobj-_MtqJw5",
        "outputId": "b40ac784-a550-4398-dab6-93a53d139fc1"
      },
      "outputs": [
        {
          "name": "stdout",
          "output_type": "stream",
          "text": [
            "root\n",
            " |-- Airline: string (nullable = true)\n",
            " |-- Origin: string (nullable = true)\n",
            " |-- Dest: string (nullable = true)\n",
            " |-- Cancelled: boolean (nullable = true)\n",
            " |-- Diverted: boolean (nullable = true)\n",
            " |-- CRSDepTime: long (nullable = true)\n",
            " |-- DepTime: double (nullable = true)\n",
            " |-- DepDelayMinutes: double (nullable = true)\n",
            " |-- DepDelay: double (nullable = true)\n",
            " |-- ArrTime: double (nullable = true)\n",
            " |-- ArrDelayMinutes: double (nullable = true)\n",
            " |-- AirTime: double (nullable = true)\n",
            " |-- CRSElapsedTime: double (nullable = true)\n",
            " |-- ActualElapsedTime: double (nullable = true)\n",
            " |-- Distance: double (nullable = true)\n",
            " |-- Year: long (nullable = true)\n",
            " |-- Quarter: long (nullable = true)\n",
            " |-- Month: long (nullable = true)\n",
            " |-- DayofMonth: long (nullable = true)\n",
            " |-- DayOfWeek: long (nullable = true)\n",
            " |-- DOT_ID_Marketing_Airline: long (nullable = true)\n",
            " |-- Flight_Number_Marketing_Airline: long (nullable = true)\n",
            " |-- DOT_ID_Operating_Airline: long (nullable = true)\n",
            " |-- Flight_Number_Operating_Airline: long (nullable = true)\n",
            " |-- OriginAirportID: long (nullable = true)\n",
            " |-- OriginAirportSeqID: long (nullable = true)\n",
            " |-- OriginCityMarketID: long (nullable = true)\n",
            " |-- OriginStateFips: long (nullable = true)\n",
            " |-- OriginWac: long (nullable = true)\n",
            " |-- DestAirportID: long (nullable = true)\n",
            " |-- DestAirportSeqID: long (nullable = true)\n",
            " |-- DestCityMarketID: long (nullable = true)\n",
            " |-- DestStateFips: long (nullable = true)\n",
            " |-- DestWac: long (nullable = true)\n",
            " |-- DepDel15: double (nullable = true)\n",
            " |-- DepartureDelayGroups: double (nullable = true)\n",
            " |-- TaxiOut: double (nullable = true)\n",
            " |-- WheelsOff: double (nullable = true)\n",
            " |-- WheelsOn: double (nullable = true)\n",
            " |-- TaxiIn: double (nullable = true)\n",
            " |-- CRSArrTime: long (nullable = true)\n",
            " |-- ArrDelay: double (nullable = true)\n",
            " |-- ArrDel15: double (nullable = true)\n",
            " |-- ArrivalDelayGroups: double (nullable = true)\n",
            " |-- DistanceGroup: long (nullable = true)\n",
            " |-- DivAirportLandings: double (nullable = true)\n",
            "\n"
          ]
        }
      ],
      "source": [
        "data_no_na.printSchema()"
      ]
    },
    {
      "cell_type": "code",
      "execution_count": null,
      "metadata": {
        "id": "UEvoN0cO2tw9"
      },
      "outputs": [],
      "source": [
        "dep_cols = [x for x in data_no_na.columns if \"Dep\" in x]\n",
        "arr_cols = [x for x in data_no_na.columns if \"Arr\" in x]"
      ]
    },
    {
      "cell_type": "code",
      "execution_count": null,
      "metadata": {
        "colab": {
          "base_uri": "https://localhost:8080/"
        },
        "id": "-aAfrA8s2tw-",
        "outputId": "221a7a77-2f81-4299-8994-6b56b07cac4c"
      },
      "outputs": [
        {
          "data": {
            "text/plain": [
              "['CRSDepTime',\n",
              " 'DepTime',\n",
              " 'DepDelayMinutes',\n",
              " 'DepDelay',\n",
              " 'DepDel15',\n",
              " 'DepartureDelayGroups',\n",
              " 'ArrTime',\n",
              " 'ArrDelayMinutes',\n",
              " 'CRSArrTime',\n",
              " 'ArrDelay',\n",
              " 'ArrDel15',\n",
              " 'ArrivalDelayGroups']"
            ]
          },
          "execution_count": 35,
          "metadata": {},
          "output_type": "execute_result"
        }
      ],
      "source": [
        "time_columns = dep_cols + arr_cols\n",
        "time_columns"
      ]
    },
    {
      "cell_type": "code",
      "execution_count": null,
      "metadata": {
        "colab": {
          "base_uri": "https://localhost:8080/"
        },
        "id": "isbLho152tw-",
        "outputId": "64b80ef1-2fad-4a3f-cc6d-06ef3174c3ac"
      },
      "outputs": [
        {
          "data": {
            "text/plain": [
              "['CRSDepTime',\n",
              " 'DepTime',\n",
              " 'DepDelayMinutes',\n",
              " 'DepDel15',\n",
              " 'DepartureDelayGroups',\n",
              " 'ArrTime',\n",
              " 'ArrDelayMinutes',\n",
              " 'CRSArrTime',\n",
              " 'ArrDelay',\n",
              " 'ArrDel15',\n",
              " 'ArrivalDelayGroups']"
            ]
          },
          "execution_count": 36,
          "metadata": {},
          "output_type": "execute_result"
        }
      ],
      "source": [
        "time_columns.remove('DepDelay')\n",
        "# time_columns.remove('ArrTime')\n",
        "time_columns"
      ]
    },
    {
      "cell_type": "code",
      "execution_count": null,
      "metadata": {
        "colab": {
          "base_uri": "https://localhost:8080/"
        },
        "id": "vLGrYPqy2tw-",
        "outputId": "fb9c201d-54cc-49e8-cfbb-16d644a34c7e"
      },
      "outputs": [
        {
          "name": "stdout",
          "output_type": "stream",
          "text": [
            "+-------+-----------------+\n",
            "|summary|         DepDelay|\n",
            "+-------+-----------------+\n",
            "|  count|         28339510|\n",
            "|   mean| 9.23847367156313|\n",
            "| stddev|47.10140749050439|\n",
            "|    min|          -1280.0|\n",
            "|    max|           7223.0|\n",
            "+-------+-----------------+\n",
            "\n"
          ]
        }
      ],
      "source": [
        "data_no_na.select('DepDelay').describe().show()"
      ]
    },
    {
      "cell_type": "code",
      "execution_count": null,
      "metadata": {
        "colab": {
          "base_uri": "https://localhost:8080/"
        },
        "id": "7IiD7cPX2tw-",
        "outputId": "46b1fdfb-931c-4c5e-f7b0-12988eece2dc"
      },
      "outputs": [
        {
          "name": "stdout",
          "output_type": "stream",
          "text": [
            "+-------+------------------+\n",
            "|summary|          ArrDelay|\n",
            "+-------+------------------+\n",
            "|  count|          28339510|\n",
            "|   mean|3.6081859213514984|\n",
            "| stddev| 49.28063347282263|\n",
            "|    min|           -1290.0|\n",
            "|    max|            7232.0|\n",
            "+-------+------------------+\n",
            "\n"
          ]
        }
      ],
      "source": [
        "data_no_na.select('ArrDelay').describe().show()"
      ]
    },
    {
      "cell_type": "code",
      "execution_count": null,
      "metadata": {
        "id": "RxdslggM2tw_"
      },
      "outputs": [],
      "source": [
        "data_no_na = data_no_na.drop(*time_columns)"
      ]
    },
    {
      "cell_type": "code",
      "execution_count": null,
      "metadata": {
        "colab": {
          "base_uri": "https://localhost:8080/"
        },
        "id": "LVqH06z42tw_",
        "outputId": "3b044ac6-6b79-4599-e9e2-2a9ef682095f"
      },
      "outputs": [
        {
          "name": "stdout",
          "output_type": "stream",
          "text": [
            "root\n",
            " |-- Airline: string (nullable = true)\n",
            " |-- Origin: string (nullable = true)\n",
            " |-- Dest: string (nullable = true)\n",
            " |-- Cancelled: boolean (nullable = true)\n",
            " |-- Diverted: boolean (nullable = true)\n",
            " |-- DepDelay: double (nullable = true)\n",
            " |-- AirTime: double (nullable = true)\n",
            " |-- CRSElapsedTime: double (nullable = true)\n",
            " |-- ActualElapsedTime: double (nullable = true)\n",
            " |-- Distance: double (nullable = true)\n",
            " |-- Year: long (nullable = true)\n",
            " |-- Quarter: long (nullable = true)\n",
            " |-- Month: long (nullable = true)\n",
            " |-- DayofMonth: long (nullable = true)\n",
            " |-- DayOfWeek: long (nullable = true)\n",
            " |-- DOT_ID_Marketing_Airline: long (nullable = true)\n",
            " |-- Flight_Number_Marketing_Airline: long (nullable = true)\n",
            " |-- DOT_ID_Operating_Airline: long (nullable = true)\n",
            " |-- Flight_Number_Operating_Airline: long (nullable = true)\n",
            " |-- OriginAirportID: long (nullable = true)\n",
            " |-- OriginAirportSeqID: long (nullable = true)\n",
            " |-- OriginCityMarketID: long (nullable = true)\n",
            " |-- OriginStateFips: long (nullable = true)\n",
            " |-- OriginWac: long (nullable = true)\n",
            " |-- DestAirportID: long (nullable = true)\n",
            " |-- DestAirportSeqID: long (nullable = true)\n",
            " |-- DestCityMarketID: long (nullable = true)\n",
            " |-- DestStateFips: long (nullable = true)\n",
            " |-- DestWac: long (nullable = true)\n",
            " |-- TaxiOut: double (nullable = true)\n",
            " |-- WheelsOff: double (nullable = true)\n",
            " |-- WheelsOn: double (nullable = true)\n",
            " |-- TaxiIn: double (nullable = true)\n",
            " |-- DistanceGroup: long (nullable = true)\n",
            " |-- DivAirportLandings: double (nullable = true)\n",
            "\n"
          ]
        }
      ],
      "source": [
        "data_no_na.printSchema()"
      ]
    },
    {
      "cell_type": "markdown",
      "metadata": {
        "id": "DujWKAMq2tw_"
      },
      "source": [
        "## One hot enconding"
      ]
    },
    {
      "cell_type": "code",
      "execution_count": null,
      "metadata": {
        "id": "gwL7mNk02tw_"
      },
      "outputs": [],
      "source": [
        "from pyspark.ml.feature import StringIndexer, OneHotEncoder, StandardScaler, VectorAssembler\n",
        "from pyspark.ml import Pipeline"
      ]
    },
    {
      "cell_type": "markdown",
      "metadata": {
        "id": "o3_P0iR12tw_"
      },
      "source": [
        "### Vectorized implementation of one hot encoding"
      ]
    },
    {
      "cell_type": "code",
      "execution_count": null,
      "metadata": {
        "id": "4NIqYdU52txA"
      },
      "outputs": [],
      "source": [
        "numerical_cols = [item[0] for item in data_no_na.dtypes if item[1] not in ['string', 'boolean']]"
      ]
    },
    {
      "cell_type": "markdown",
      "metadata": {
        "id": "6uWm4uM12txA"
      },
      "source": [
        "bigint represented as long by spark"
      ]
    },
    {
      "cell_type": "code",
      "execution_count": null,
      "metadata": {
        "colab": {
          "base_uri": "https://localhost:8080/"
        },
        "id": "47Vvcpie2txA",
        "outputId": "df21f22b-1543-489f-bd8b-f2f0b4c2f95c"
      },
      "outputs": [
        {
          "data": {
            "text/plain": [
              "[('bigint', 20), ('double', 10), ('string', 3), ('boolean', 2)]"
            ]
          },
          "execution_count": 43,
          "metadata": {},
          "output_type": "execute_result"
        }
      ],
      "source": [
        "count_dtypes(data_no_na)"
      ]
    },
    {
      "cell_type": "code",
      "execution_count": null,
      "metadata": {
        "id": "4-YAg29Q2txA"
      },
      "outputs": [],
      "source": [
        "indexed_out_names = [x + '_num' for x in cols_to_encode]\n",
        "vector_out_names = [x + '_vec' for x in cols_to_encode]"
      ]
    },
    {
      "cell_type": "code",
      "execution_count": null,
      "metadata": {
        "id": "jzJD9Bkm2txA"
      },
      "outputs": [],
      "source": [
        "idxer = StringIndexer(inputCols=cols_to_encode, outputCols=indexed_out_names)\n",
        "enconder = OneHotEncoder(inputCols=idxer.getOutputCols(), outputCols=vector_out_names)"
      ]
    },
    {
      "cell_type": "code",
      "execution_count": null,
      "metadata": {
        "id": "Pq2pGPcl2txA"
      },
      "outputs": [],
      "source": [
        "# TODO: Design Transformer to convert vectorized columns to one hot encoded columns"
      ]
    },
    {
      "cell_type": "code",
      "execution_count": null,
      "metadata": {
        "id": "ePsQdu3A2txA"
      },
      "outputs": [],
      "source": [
        "pipeline = Pipeline(stages=[idxer, enconder])"
      ]
    },
    {
      "cell_type": "code",
      "execution_count": null,
      "metadata": {
        "id": "BszxMXs32txA"
      },
      "outputs": [],
      "source": [
        "preprocess = pipeline.fit(data_no_na)"
      ]
    },
    {
      "cell_type": "code",
      "execution_count": null,
      "metadata": {
        "colab": {
          "base_uri": "https://localhost:8080/"
        },
        "id": "u6pdi_df2txA",
        "outputId": "2c3a1ce0-67ad-4f16-b4c6-574533fc3126"
      },
      "outputs": [
        {
          "data": {
            "text/plain": [
              "Row(Airline='Endeavor Air Inc.', Origin='ABY', Dest='ATL', Cancelled=False, Diverted=False, DepDelay=-5.0, AirTime=38.0, CRSElapsedTime=62.0, ActualElapsedTime=59.0, Distance=145.0, Year=2018, Quarter=1, Month=1, DayofMonth=23, DayOfWeek=2, DOT_ID_Marketing_Airline=19790, Flight_Number_Marketing_Airline=3298, DOT_ID_Operating_Airline=20363, Flight_Number_Operating_Airline=3298, OriginAirportID=10146, OriginAirportSeqID=1014602, OriginCityMarketID=30146, OriginStateFips=13, OriginWac=34, DestAirportID=10397, DestAirportSeqID=1039707, DestCityMarketID=30397, DestStateFips=13, DestWac=34, TaxiOut=14.0, WheelsOff=1211.0, WheelsOn=1249.0, TaxiIn=7.0, DistanceGroup=1, DivAirportLandings=0.0, Airline_num=8.0, Origin_num=271.0, Dest_num=0.0, Airline_vec=SparseVector(27, {8: 1.0}), Origin_vec=SparseVector(387, {271: 1.0}), Dest_vec=SparseVector(387, {0: 1.0}))"
            ]
          },
          "execution_count": 49,
          "metadata": {},
          "output_type": "execute_result"
        }
      ],
      "source": [
        "df_transformed = preprocess.transform(data_no_na)\n",
        "df_transformed.first()"
      ]
    },
    {
      "cell_type": "code",
      "execution_count": null,
      "metadata": {
        "colab": {
          "base_uri": "https://localhost:8080/"
        },
        "id": "SZnMz0Hb2txA",
        "outputId": "1718311d-56be-4952-8433-9a5f7e7627df"
      },
      "outputs": [
        {
          "data": {
            "text/plain": [
              "[('bigint', 20), ('double', 13), ('string', 3), ('vector', 3), ('boolean', 2)]"
            ]
          },
          "execution_count": 50,
          "metadata": {},
          "output_type": "execute_result"
        }
      ],
      "source": [
        "count_dtypes(df_transformed)"
      ]
    },
    {
      "cell_type": "code",
      "execution_count": null,
      "metadata": {
        "id": "ZJj3kXlz2txA"
      },
      "outputs": [],
      "source": [
        "from pyspark.ml.functions import vector_to_array"
      ]
    },
    {
      "cell_type": "code",
      "execution_count": null,
      "metadata": {
        "colab": {
          "base_uri": "https://localhost:8080/"
        },
        "id": "6ngTwap42txB",
        "outputId": "f1058fc0-d2a4-46d2-d2b1-b1b5f167bbcf"
      },
      "outputs": [
        {
          "data": {
            "text/plain": [
              "Row(Airline='Endeavor Air Inc.', Origin='ABY', Dest='ATL', Cancelled=False, Diverted=False, DepDelay=-5.0, AirTime=38.0, CRSElapsedTime=62.0, ActualElapsedTime=59.0, Distance=145.0, Year=2018, Quarter=1, Month=1, DayofMonth=23, DayOfWeek=2, DOT_ID_Marketing_Airline=19790, Flight_Number_Marketing_Airline=3298, DOT_ID_Operating_Airline=20363, Flight_Number_Operating_Airline=3298, OriginAirportID=10146, OriginAirportSeqID=1014602, OriginCityMarketID=30146, OriginStateFips=13, OriginWac=34, DestAirportID=10397, DestAirportSeqID=1039707, DestCityMarketID=30397, DestStateFips=13, DestWac=34, TaxiOut=14.0, WheelsOff=1211.0, WheelsOn=1249.0, TaxiIn=7.0, DistanceGroup=1, DivAirportLandings=0.0, Airline_num=8.0, Origin_num=271.0, Dest_num=0.0, Airline_vec=SparseVector(27, {8: 1.0}), Origin_vec=SparseVector(387, {271: 1.0}), Dest_vec=SparseVector(387, {0: 1.0}))"
            ]
          },
          "execution_count": 52,
          "metadata": {},
          "output_type": "execute_result"
        }
      ],
      "source": [
        "df_transformed.first()"
      ]
    },
    {
      "cell_type": "code",
      "execution_count": null,
      "metadata": {
        "colab": {
          "base_uri": "https://localhost:8080/"
        },
        "id": "XsSMXtti2txB",
        "outputId": "b056f113-b76f-407d-8f4f-27e14ceb6f36"
      },
      "outputs": [
        {
          "name": "stdout",
          "output_type": "stream",
          "text": [
            "+-----------+\n",
            "|Airline_num|\n",
            "+-----------+\n",
            "|        0.0|\n",
            "+-----------+\n",
            "only showing top 1 row\n",
            "\n"
          ]
        }
      ],
      "source": [
        "df_transformed.select('Airline_num').filter(col('Airline_num') == 0).show(1)"
      ]
    },
    {
      "cell_type": "code",
      "execution_count": null,
      "metadata": {
        "colab": {
          "base_uri": "https://localhost:8080/"
        },
        "id": "KbF8jbnQ2txB",
        "outputId": "4c0a62dd-3e54-4655-d776-3beae85126ba"
      },
      "outputs": [
        {
          "data": {
            "text/plain": [
              "Row(Airline='Endeavor Air Inc.', Origin='ABY', Dest='ATL', Cancelled=False, Diverted=False, DepDelay=-5.0, AirTime=38.0, CRSElapsedTime=62.0, ActualElapsedTime=59.0, Distance=145.0, Year=2018, Quarter=1, Month=1, DayofMonth=23, DayOfWeek=2, DOT_ID_Marketing_Airline=19790, Flight_Number_Marketing_Airline=3298, DOT_ID_Operating_Airline=20363, Flight_Number_Operating_Airline=3298, OriginAirportID=10146, OriginAirportSeqID=1014602, OriginCityMarketID=30146, OriginStateFips=13, OriginWac=34, DestAirportID=10397, DestAirportSeqID=1039707, DestCityMarketID=30397, DestStateFips=13, DestWac=34, TaxiOut=14.0, WheelsOff=1211.0, WheelsOn=1249.0, TaxiIn=7.0, DistanceGroup=1, DivAirportLandings=0.0, Airline_num=8.0, Origin_num=271.0, Dest_num=0.0, Airline_vec=SparseVector(27, {8: 1.0}), Origin_vec=SparseVector(387, {271: 1.0}), Dest_vec=SparseVector(387, {0: 1.0}), airline_one_hot=[0.0, 0.0, 0.0, 0.0, 0.0, 0.0, 0.0, 0.0, 1.0, 0.0, 0.0, 0.0, 0.0, 0.0, 0.0, 0.0, 0.0, 0.0, 0.0, 0.0, 0.0, 0.0, 0.0, 0.0, 0.0, 0.0, 0.0], origin_one_hot=[0.0, 0.0, 0.0, 0.0, 0.0, 0.0, 0.0, 0.0, 0.0, 0.0, 0.0, 0.0, 0.0, 0.0, 0.0, 0.0, 0.0, 0.0, 0.0, 0.0, 0.0, 0.0, 0.0, 0.0, 0.0, 0.0, 0.0, 0.0, 0.0, 0.0, 0.0, 0.0, 0.0, 0.0, 0.0, 0.0, 0.0, 0.0, 0.0, 0.0, 0.0, 0.0, 0.0, 0.0, 0.0, 0.0, 0.0, 0.0, 0.0, 0.0, 0.0, 0.0, 0.0, 0.0, 0.0, 0.0, 0.0, 0.0, 0.0, 0.0, 0.0, 0.0, 0.0, 0.0, 0.0, 0.0, 0.0, 0.0, 0.0, 0.0, 0.0, 0.0, 0.0, 0.0, 0.0, 0.0, 0.0, 0.0, 0.0, 0.0, 0.0, 0.0, 0.0, 0.0, 0.0, 0.0, 0.0, 0.0, 0.0, 0.0, 0.0, 0.0, 0.0, 0.0, 0.0, 0.0, 0.0, 0.0, 0.0, 0.0, 0.0, 0.0, 0.0, 0.0, 0.0, 0.0, 0.0, 0.0, 0.0, 0.0, 0.0, 0.0, 0.0, 0.0, 0.0, 0.0, 0.0, 0.0, 0.0, 0.0, 0.0, 0.0, 0.0, 0.0, 0.0, 0.0, 0.0, 0.0, 0.0, 0.0, 0.0, 0.0, 0.0, 0.0, 0.0, 0.0, 0.0, 0.0, 0.0, 0.0, 0.0, 0.0, 0.0, 0.0, 0.0, 0.0, 0.0, 0.0, 0.0, 0.0, 0.0, 0.0, 0.0, 0.0, 0.0, 0.0, 0.0, 0.0, 0.0, 0.0, 0.0, 0.0, 0.0, 0.0, 0.0, 0.0, 0.0, 0.0, 0.0, 0.0, 0.0, 0.0, 0.0, 0.0, 0.0, 0.0, 0.0, 0.0, 0.0, 0.0, 0.0, 0.0, 0.0, 0.0, 0.0, 0.0, 0.0, 0.0, 0.0, 0.0, 0.0, 0.0, 0.0, 0.0, 0.0, 0.0, 0.0, 0.0, 0.0, 0.0, 0.0, 0.0, 0.0, 0.0, 0.0, 0.0, 0.0, 0.0, 0.0, 0.0, 0.0, 0.0, 0.0, 0.0, 0.0, 0.0, 0.0, 0.0, 0.0, 0.0, 0.0, 0.0, 0.0, 0.0, 0.0, 0.0, 0.0, 0.0, 0.0, 0.0, 0.0, 0.0, 0.0, 0.0, 0.0, 0.0, 0.0, 0.0, 0.0, 0.0, 0.0, 0.0, 0.0, 0.0, 0.0, 0.0, 0.0, 0.0, 0.0, 0.0, 0.0, 0.0, 0.0, 0.0, 0.0, 0.0, 0.0, 0.0, 0.0, 0.0, 0.0, 0.0, 0.0, 0.0, 0.0, 0.0, 0.0, 0.0, 0.0, 0.0, 0.0, 1.0, 0.0, 0.0, 0.0, 0.0, 0.0, 0.0, 0.0, 0.0, 0.0, 0.0, 0.0, 0.0, 0.0, 0.0, 0.0, 0.0, 0.0, 0.0, 0.0, 0.0, 0.0, 0.0, 0.0, 0.0, 0.0, 0.0, 0.0, 0.0, 0.0, 0.0, 0.0, 0.0, 0.0, 0.0, 0.0, 0.0, 0.0, 0.0, 0.0, 0.0, 0.0, 0.0, 0.0, 0.0, 0.0, 0.0, 0.0, 0.0, 0.0, 0.0, 0.0, 0.0, 0.0, 0.0, 0.0, 0.0, 0.0, 0.0, 0.0, 0.0, 0.0, 0.0, 0.0, 0.0, 0.0, 0.0, 0.0, 0.0, 0.0, 0.0, 0.0, 0.0, 0.0, 0.0, 0.0, 0.0, 0.0, 0.0, 0.0, 0.0, 0.0, 0.0, 0.0, 0.0, 0.0, 0.0, 0.0, 0.0, 0.0, 0.0, 0.0, 0.0, 0.0, 0.0, 0.0, 0.0, 0.0, 0.0, 0.0, 0.0, 0.0, 0.0, 0.0, 0.0, 0.0, 0.0, 0.0, 0.0, 0.0, 0.0, 0.0, 0.0, 0.0, 0.0, 0.0], dest_one_hot=[1.0, 0.0, 0.0, 0.0, 0.0, 0.0, 0.0, 0.0, 0.0, 0.0, 0.0, 0.0, 0.0, 0.0, 0.0, 0.0, 0.0, 0.0, 0.0, 0.0, 0.0, 0.0, 0.0, 0.0, 0.0, 0.0, 0.0, 0.0, 0.0, 0.0, 0.0, 0.0, 0.0, 0.0, 0.0, 0.0, 0.0, 0.0, 0.0, 0.0, 0.0, 0.0, 0.0, 0.0, 0.0, 0.0, 0.0, 0.0, 0.0, 0.0, 0.0, 0.0, 0.0, 0.0, 0.0, 0.0, 0.0, 0.0, 0.0, 0.0, 0.0, 0.0, 0.0, 0.0, 0.0, 0.0, 0.0, 0.0, 0.0, 0.0, 0.0, 0.0, 0.0, 0.0, 0.0, 0.0, 0.0, 0.0, 0.0, 0.0, 0.0, 0.0, 0.0, 0.0, 0.0, 0.0, 0.0, 0.0, 0.0, 0.0, 0.0, 0.0, 0.0, 0.0, 0.0, 0.0, 0.0, 0.0, 0.0, 0.0, 0.0, 0.0, 0.0, 0.0, 0.0, 0.0, 0.0, 0.0, 0.0, 0.0, 0.0, 0.0, 0.0, 0.0, 0.0, 0.0, 0.0, 0.0, 0.0, 0.0, 0.0, 0.0, 0.0, 0.0, 0.0, 0.0, 0.0, 0.0, 0.0, 0.0, 0.0, 0.0, 0.0, 0.0, 0.0, 0.0, 0.0, 0.0, 0.0, 0.0, 0.0, 0.0, 0.0, 0.0, 0.0, 0.0, 0.0, 0.0, 0.0, 0.0, 0.0, 0.0, 0.0, 0.0, 0.0, 0.0, 0.0, 0.0, 0.0, 0.0, 0.0, 0.0, 0.0, 0.0, 0.0, 0.0, 0.0, 0.0, 0.0, 0.0, 0.0, 0.0, 0.0, 0.0, 0.0, 0.0, 0.0, 0.0, 0.0, 0.0, 0.0, 0.0, 0.0, 0.0, 0.0, 0.0, 0.0, 0.0, 0.0, 0.0, 0.0, 0.0, 0.0, 0.0, 0.0, 0.0, 0.0, 0.0, 0.0, 0.0, 0.0, 0.0, 0.0, 0.0, 0.0, 0.0, 0.0, 0.0, 0.0, 0.0, 0.0, 0.0, 0.0, 0.0, 0.0, 0.0, 0.0, 0.0, 0.0, 0.0, 0.0, 0.0, 0.0, 0.0, 0.0, 0.0, 0.0, 0.0, 0.0, 0.0, 0.0, 0.0, 0.0, 0.0, 0.0, 0.0, 0.0, 0.0, 0.0, 0.0, 0.0, 0.0, 0.0, 0.0, 0.0, 0.0, 0.0, 0.0, 0.0, 0.0, 0.0, 0.0, 0.0, 0.0, 0.0, 0.0, 0.0, 0.0, 0.0, 0.0, 0.0, 0.0, 0.0, 0.0, 0.0, 0.0, 0.0, 0.0, 0.0, 0.0, 0.0, 0.0, 0.0, 0.0, 0.0, 0.0, 0.0, 0.0, 0.0, 0.0, 0.0, 0.0, 0.0, 0.0, 0.0, 0.0, 0.0, 0.0, 0.0, 0.0, 0.0, 0.0, 0.0, 0.0, 0.0, 0.0, 0.0, 0.0, 0.0, 0.0, 0.0, 0.0, 0.0, 0.0, 0.0, 0.0, 0.0, 0.0, 0.0, 0.0, 0.0, 0.0, 0.0, 0.0, 0.0, 0.0, 0.0, 0.0, 0.0, 0.0, 0.0, 0.0, 0.0, 0.0, 0.0, 0.0, 0.0, 0.0, 0.0, 0.0, 0.0, 0.0, 0.0, 0.0, 0.0, 0.0, 0.0, 0.0, 0.0, 0.0, 0.0, 0.0, 0.0, 0.0, 0.0, 0.0, 0.0, 0.0, 0.0, 0.0, 0.0, 0.0, 0.0, 0.0, 0.0, 0.0, 0.0, 0.0, 0.0, 0.0, 0.0, 0.0, 0.0, 0.0, 0.0, 0.0, 0.0, 0.0, 0.0, 0.0, 0.0, 0.0, 0.0, 0.0, 0.0, 0.0, 0.0, 0.0, 0.0, 0.0, 0.0, 0.0, 0.0, 0.0, 0.0, 0.0, 0.0])"
            ]
          },
          "execution_count": 54,
          "metadata": {},
          "output_type": "execute_result"
        }
      ],
      "source": [
        "df_col_onehot = df_transformed.select('*', vector_to_array('Airline_vec').alias('airline_one_hot'), vector_to_array('Origin_vec').alias('origin_one_hot'), vector_to_array('Dest_vec').alias('dest_one_hot'))\n",
        "df_col_onehot.first()"
      ]
    },
    {
      "cell_type": "code",
      "execution_count": null,
      "metadata": {
        "id": "RfFOafYz2txB"
      },
      "outputs": [],
      "source": [
        "# vecs_to_encode_lens = [len(df_col_onehot.first()[\"airline_one_hot\"]), len(df_col_onehot.first()[\"origin_one_hot\"]), len(df_col_onehot.first()[\"dest_one_hot\"])]\n",
        "vecs_to_encode= [\"airline_one_hot\", \"origin_one_hot\", \"dest_one_hot\"]\n",
        "cols_expanded = [(col(col_name)[i].alias(f'{col_name.split(\"_\")[0] + preprocess.stages[0].labelsArray[idx][i].replace(\" \", \"\").replace(\".\", \"\")}')) for idx, col_name in enumerate(vecs_to_encode) for i in range(len(df_col_onehot.first()[col_name]))]\n",
        "df_transformed =  df_col_onehot.select('*', *cols_expanded)\n",
        "df_transformed = df_transformed.drop(*vecs_to_encode + vector_out_names + cols_to_encode + indexed_out_names)"
      ]
    },
    {
      "cell_type": "code",
      "execution_count": null,
      "metadata": {
        "colab": {
          "base_uri": "https://localhost:8080/"
        },
        "id": "eEpMB9_V2txB",
        "outputId": "48d2b8e7-5198-45f4-bfd7-3c33f1546cb9"
      },
      "outputs": [
        {
          "name": "stdout",
          "output_type": "stream",
          "text": [
            "root\n",
            " |-- Cancelled: boolean (nullable = true)\n",
            " |-- Diverted: boolean (nullable = true)\n",
            " |-- DepDelay: double (nullable = true)\n",
            " |-- AirTime: double (nullable = true)\n",
            " |-- CRSElapsedTime: double (nullable = true)\n",
            " |-- ActualElapsedTime: double (nullable = true)\n",
            " |-- Distance: double (nullable = true)\n",
            " |-- Year: long (nullable = true)\n",
            " |-- Quarter: long (nullable = true)\n",
            " |-- Month: long (nullable = true)\n",
            " |-- DayofMonth: long (nullable = true)\n",
            " |-- DayOfWeek: long (nullable = true)\n",
            " |-- DOT_ID_Marketing_Airline: long (nullable = true)\n",
            " |-- Flight_Number_Marketing_Airline: long (nullable = true)\n",
            " |-- DOT_ID_Operating_Airline: long (nullable = true)\n",
            " |-- Flight_Number_Operating_Airline: long (nullable = true)\n",
            " |-- OriginAirportID: long (nullable = true)\n",
            " |-- OriginAirportSeqID: long (nullable = true)\n",
            " |-- OriginCityMarketID: long (nullable = true)\n",
            " |-- OriginStateFips: long (nullable = true)\n",
            " |-- OriginWac: long (nullable = true)\n",
            " |-- DestAirportID: long (nullable = true)\n",
            " |-- DestAirportSeqID: long (nullable = true)\n",
            " |-- DestCityMarketID: long (nullable = true)\n",
            " |-- DestStateFips: long (nullable = true)\n",
            " |-- DestWac: long (nullable = true)\n",
            " |-- TaxiOut: double (nullable = true)\n",
            " |-- WheelsOff: double (nullable = true)\n",
            " |-- WheelsOn: double (nullable = true)\n",
            " |-- TaxiIn: double (nullable = true)\n",
            " |-- DistanceGroup: long (nullable = true)\n",
            " |-- DivAirportLandings: double (nullable = true)\n",
            " |-- airlineSouthwestAirlinesCo: double (nullable = true)\n",
            " |-- airlineDeltaAirLinesInc: double (nullable = true)\n",
            " |-- airlineSkyWestAirlinesInc: double (nullable = true)\n",
            " |-- airlineAmericanAirlinesInc: double (nullable = true)\n",
            " |-- airlineUnitedAirLinesInc: double (nullable = true)\n",
            " |-- airlineRepublicAirlines: double (nullable = true)\n",
            " |-- airlineJetBlueAirways: double (nullable = true)\n",
            " |-- airlineEnvoyAir: double (nullable = true)\n",
            " |-- airlineEndeavorAirInc: double (nullable = true)\n",
            " |-- airlineComairInc: double (nullable = true)\n",
            " |-- airlineAlaskaAirlinesInc: double (nullable = true)\n",
            " |-- airlineSpiritAirLines: double (nullable = true)\n",
            " |-- airlineMesaAirlinesInc: double (nullable = true)\n",
            " |-- airlineFrontierAirlinesInc: double (nullable = true)\n",
            " |-- airlineAllegiantAir: double (nullable = true)\n",
            " |-- airlineHorizonAir: double (nullable = true)\n",
            " |-- airlineCapitalCargoInternational: double (nullable = true)\n",
            " |-- airlineAirWisconsinAirlinesCorp: double (nullable = true)\n",
            " |-- airlineExpressJetAirlinesInc: double (nullable = true)\n",
            " |-- airlineHawaiianAirlinesInc: double (nullable = true)\n",
            " |-- airlineGoJetAirlines,LLCd/b/aUnitedExpress: double (nullable = true)\n",
            " |-- airlineCommutairAkaChamplainEnterprises,Inc: double (nullable = true)\n",
            " |-- airlineTransStatesAirlines: double (nullable = true)\n",
            " |-- airlineCompassAirlines: double (nullable = true)\n",
            " |-- airlineVirginAmerica: double (nullable = true)\n",
            " |-- airlineEmpireAirlinesInc: double (nullable = true)\n",
            " |-- airlinePeninsulaAirwaysInc: double (nullable = true)\n",
            " |-- originATL: double (nullable = true)\n",
            " |-- originORD: double (nullable = true)\n",
            " |-- originDEN: double (nullable = true)\n",
            " |-- originDFW: double (nullable = true)\n",
            " |-- originCLT: double (nullable = true)\n",
            " |-- originLAX: double (nullable = true)\n",
            " |-- originSEA: double (nullable = true)\n",
            " |-- originIAH: double (nullable = true)\n",
            " |-- originPHX: double (nullable = true)\n",
            " |-- originLAS: double (nullable = true)\n",
            " |-- originSFO: double (nullable = true)\n",
            " |-- originDTW: double (nullable = true)\n",
            " |-- originMCO: double (nullable = true)\n",
            " |-- originEWR: double (nullable = true)\n",
            " |-- originMSP: double (nullable = true)\n",
            " |-- originLGA: double (nullable = true)\n",
            " |-- originBOS: double (nullable = true)\n",
            " |-- originPHL: double (nullable = true)\n",
            " |-- originSLC: double (nullable = true)\n",
            " |-- originDCA: double (nullable = true)\n",
            " |-- originJFK: double (nullable = true)\n",
            " |-- originBWI: double (nullable = true)\n",
            " |-- originFLL: double (nullable = true)\n",
            " |-- originIAD: double (nullable = true)\n",
            " |-- originSAN: double (nullable = true)\n",
            " |-- originMIA: double (nullable = true)\n",
            " |-- originMDW: double (nullable = true)\n",
            " |-- originBNA: double (nullable = true)\n",
            " |-- originTPA: double (nullable = true)\n",
            " |-- originPDX: double (nullable = true)\n",
            " |-- originDAL: double (nullable = true)\n",
            " |-- originAUS: double (nullable = true)\n",
            " |-- originSTL: double (nullable = true)\n",
            " |-- originHOU: double (nullable = true)\n",
            " |-- originSJC: double (nullable = true)\n",
            " |-- originRDU: double (nullable = true)\n",
            " |-- originHNL: double (nullable = true)\n",
            " |-- originSMF: double (nullable = true)\n",
            " |-- originMSY: double (nullable = true)\n",
            " |-- originOAK: double (nullable = true)\n",
            " |-- originMCI: double (nullable = true)\n",
            " |-- originIND: double (nullable = true)\n",
            " |-- originCLE: double (nullable = true)\n",
            " |-- originPIT: double (nullable = true)\n",
            " |-- originCVG: double (nullable = true)\n",
            " |-- originSNA: double (nullable = true)\n",
            " |-- originCMH: double (nullable = true)\n",
            " |-- originRSW: double (nullable = true)\n",
            " |-- originSAT: double (nullable = true)\n",
            " |-- originMKE: double (nullable = true)\n",
            " |-- originJAX: double (nullable = true)\n",
            " |-- originSJU: double (nullable = true)\n",
            " |-- originBUR: double (nullable = true)\n",
            " |-- originOGG: double (nullable = true)\n",
            " |-- originBOI: double (nullable = true)\n",
            " |-- originBDL: double (nullable = true)\n",
            " |-- originCHS: double (nullable = true)\n",
            " |-- originOMA: double (nullable = true)\n",
            " |-- originPBI: double (nullable = true)\n",
            " |-- originSDF: double (nullable = true)\n",
            " |-- originRIC: double (nullable = true)\n",
            " |-- originABQ: double (nullable = true)\n",
            " |-- originBUF: double (nullable = true)\n",
            " |-- originMEM: double (nullable = true)\n",
            " |-- originOKC: double (nullable = true)\n",
            " |-- originONT: double (nullable = true)\n",
            " |-- originORF: double (nullable = true)\n",
            " |-- originRNO: double (nullable = true)\n",
            " |-- originGEG: double (nullable = true)\n",
            " |-- originANC: double (nullable = true)\n",
            " |-- originGRR: double (nullable = true)\n",
            " |-- originTUS: double (nullable = true)\n",
            " |-- originTYS: double (nullable = true)\n",
            " |-- originSAV: double (nullable = true)\n",
            " |-- originELP: double (nullable = true)\n",
            " |-- originBHM: double (nullable = true)\n",
            " |-- originTUL: double (nullable = true)\n",
            " |-- originPVD: double (nullable = true)\n",
            " |-- originDSM: double (nullable = true)\n",
            " |-- originKOA: double (nullable = true)\n",
            " |-- originLGB: double (nullable = true)\n",
            " |-- originROC: double (nullable = true)\n",
            " |-- originGSP: double (nullable = true)\n",
            " |-- originALB: double (nullable = true)\n",
            " |-- originSYR: double (nullable = true)\n",
            " |-- originGSO: double (nullable = true)\n",
            " |-- originMYR: double (nullable = true)\n",
            " |-- originLIH: double (nullable = true)\n",
            " |-- originLIT: double (nullable = true)\n",
            " |-- originDAY: double (nullable = true)\n",
            " |-- originMSN: double (nullable = true)\n",
            " |-- originPSP: double (nullable = true)\n",
            " |-- originPNS: double (nullable = true)\n",
            " |-- originXNA: double (nullable = true)\n",
            " |-- originPWM: double (nullable = true)\n",
            " |-- originFAT: double (nullable = true)\n",
            " |-- originSRQ: double (nullable = true)\n",
            " |-- originCOS: double (nullable = true)\n",
            " |-- originICT: double (nullable = true)\n",
            " |-- originSFB: double (nullable = true)\n",
            " |-- originLEX: double (nullable = true)\n",
            " |-- originBZN: double (nullable = true)\n",
            " |-- originMDT: double (nullable = true)\n",
            " |-- originAVL: double (nullable = true)\n",
            " |-- originVPS: double (nullable = true)\n",
            " |-- originHPN: double (nullable = true)\n",
            " |-- originSGF: double (nullable = true)\n",
            " |-- originCID: double (nullable = true)\n",
            " |-- originHSV: double (nullable = true)\n",
            " |-- originBTV: double (nullable = true)\n",
            " |-- originCAE: double (nullable = true)\n",
            " |-- originMAF: double (nullable = true)\n",
            " |-- originEUG: double (nullable = true)\n",
            " |-- originMHT: double (nullable = true)\n",
            " |-- originMFR: double (nullable = true)\n",
            " |-- originRDM: double (nullable = true)\n",
            " |-- originPIE: double (nullable = true)\n",
            " |-- originFSD: double (nullable = true)\n",
            " |-- originCHA: double (nullable = true)\n",
            " |-- originECP: double (nullable = true)\n",
            " |-- originJAN: double (nullable = true)\n",
            " |-- originILM: double (nullable = true)\n",
            " |-- originSBA: double (nullable = true)\n",
            " |-- originEYW: double (nullable = true)\n",
            " |-- originFAR: double (nullable = true)\n",
            " |-- originFWA: double (nullable = true)\n",
            " |-- originSBN: double (nullable = true)\n",
            " |-- originLBB: double (nullable = true)\n",
            " |-- originATW: double (nullable = true)\n",
            " |-- originCHO: double (nullable = true)\n",
            " |-- originPGD: double (nullable = true)\n",
            " |-- originBTR: double (nullable = true)\n",
            " |-- originAZA: double (nullable = true)\n",
            " |-- originPSC: double (nullable = true)\n",
            " |-- originITO: double (nullable = true)\n",
            " |-- originASE: double (nullable = true)\n",
            " |-- originROA: double (nullable = true)\n",
            " |-- originISP: double (nullable = true)\n",
            " |-- originSHV: double (nullable = true)\n",
            " |-- originMSO: double (nullable = true)\n",
            " |-- originMOB: double (nullable = true)\n",
            " |-- originRAP: double (nullable = true)\n",
            " |-- originCAK: double (nullable = true)\n",
            " |-- originABE: double (nullable = true)\n",
            " |-- originGRB: double (nullable = true)\n",
            " |-- originCRP: double (nullable = true)\n",
            " |-- originTLH: double (nullable = true)\n",
            " |-- originMLI: double (nullable = true)\n",
            " |-- originAMA: double (nullable = true)\n",
            " |-- originBIL: double (nullable = true)\n",
            " |-- originJAC: double (nullable = true)\n",
            " |-- originFCA: double (nullable = true)\n",
            " |-- originTVC: double (nullable = true)\n",
            " |-- originSBP: double (nullable = true)\n",
            " |-- originBGR: double (nullable = true)\n",
            " |-- originMFE: double (nullable = true)\n",
            " |-- originLFT: double (nullable = true)\n",
            " |-- originPIA: double (nullable = true)\n",
            " |-- originSTT: double (nullable = true)\n",
            " |-- originAGS: double (nullable = true)\n",
            " |-- originGJT: double (nullable = true)\n",
            " |-- originBIS: double (nullable = true)\n",
            " |-- originFAI: double (nullable = true)\n",
            " |-- originEVV: double (nullable = true)\n",
            " |-- originJNU: double (nullable = true)\n",
            " |-- originHRL: double (nullable = true)\n",
            " |-- originCRW: double (nullable = true)\n",
            " |-- originGPT: double (nullable = true)\n",
            " |-- originMRY: double (nullable = true)\n",
            " |-- originFNT: double (nullable = true)\n",
            " |-- originAVP: double (nullable = true)\n",
            " |-- originGNV: double (nullable = true)\n",
            " |-- originDRO: double (nullable = true)\n",
            " |-- originSTS: double (nullable = true)\n",
            " |-- originSCE: double (nullable = true)\n",
            " |-- originMGM: double (nullable = true)\n",
            " |-- originTRI: double (nullable = true)\n",
            " |-- originFAY: double (nullable = true)\n",
            " |-- originPAE: double (nullable = true)\n",
            " |-- originIDA: double (nullable = true)\n",
            " |-- originACY: double (nullable = true)\n",
            " |-- originSGU: double (nullable = true)\n",
            " |-- originRST: double (nullable = true)\n",
            " |-- originDAB: double (nullable = true)\n",
            " |-- originBLI: double (nullable = true)\n",
            " |-- originLAN: double (nullable = true)\n",
            " |-- originGTF: double (nullable = true)\n",
            " |-- originMTJ: double (nullable = true)\n",
            " |-- originAEX: double (nullable = true)\n",
            " |-- originOAJ: double (nullable = true)\n",
            " |-- originLNK: double (nullable = true)\n",
            " |-- originGRK: double (nullable = true)\n",
            " |-- originAZO: double (nullable = true)\n",
            " |-- originCWA: double (nullable = true)\n",
            " |-- originDLH: double (nullable = true)\n",
            " |-- originMOT: double (nullable = true)\n",
            " |-- originPHF: double (nullable = true)\n",
            " |-- originBMI: double (nullable = true)\n",
            " |-- originMLU: double (nullable = true)\n",
            " |-- originEGE: double (nullable = true)\n",
            " |-- originBFL: double (nullable = true)\n",
            " |-- originBRO: double (nullable = true)\n",
            " |-- originTTN: double (nullable = true)\n",
            " |-- originHHH: double (nullable = true)\n",
            " |-- originMLB: double (nullable = true)\n",
            " |-- originMBS: double (nullable = true)\n",
            " |-- originSAF: double (nullable = true)\n",
            " |-- originLRD: double (nullable = true)\n",
            " |-- originCOU: double (nullable = true)\n",
            " |-- originKTN: double (nullable = true)\n",
            " |-- originHDN: double (nullable = true)\n",
            " |-- originFLG: double (nullable = true)\n",
            " |-- originCPR: double (nullable = true)\n",
            " |-- originCMI: double (nullable = true)\n",
            " |-- originITH: double (nullable = true)\n",
            " |-- originABI: double (nullable = true)\n",
            " |-- originHLN: double (nullable = true)\n",
            " |-- originCLL: double (nullable = true)\n",
            " |-- originERI: double (nullable = true)\n",
            " |-- originBQN: double (nullable = true)\n",
            " |-- originLSE: double (nullable = true)\n",
            " |-- originACV: double (nullable = true)\n",
            " |-- originLCH: double (nullable = true)\n",
            " |-- originEWN: double (nullable = true)\n",
            " |-- originELM: double (nullable = true)\n",
            " |-- originSUN: double (nullable = true)\n",
            " |-- originLYH: double (nullable = true)\n",
            " |-- originSWF: double (nullable = true)\n",
            " |-- originYUM: double (nullable = true)\n",
            " |-- originGFK: double (nullable = true)\n",
            " |-- originSJT: double (nullable = true)\n",
            " |-- originSPI: double (nullable = true)\n",
            " |-- originTOL: double (nullable = true)\n",
            " |-- originSBY: double (nullable = true)\n",
            " |-- originFSM: double (nullable = true)\n",
            " |-- originACT: double (nullable = true)\n",
            " |-- originMHK: double (nullable = true)\n",
            " |-- originACK: double (nullable = true)\n",
            " |-- originCSG: double (nullable = true)\n",
            " |-- originHTS: double (nullable = true)\n",
            " |-- originRDD: double (nullable = true)\n",
            " |-- originTYR: double (nullable = true)\n",
            " |-- originMQT: double (nullable = true)\n",
            " |-- originBLV: double (nullable = true)\n",
            " |-- originUSA: double (nullable = true)\n",
            " |-- originLCK: double (nullable = true)\n",
            " |-- originSIT: double (nullable = true)\n",
            " |-- originPUW: double (nullable = true)\n",
            " |-- originORH: double (nullable = true)\n",
            " |-- originDHN: double (nullable = true)\n",
            " |-- originPBG: double (nullable = true)\n",
            " |-- originROW: double (nullable = true)\n",
            " |-- originSTX: double (nullable = true)\n",
            " |-- originLBE: double (nullable = true)\n",
            " |-- originLAW: double (nullable = true)\n",
            " |-- originTXK: double (nullable = true)\n",
            " |-- originSPS: double (nullable = true)\n",
            " |-- originCOD: double (nullable = true)\n",
            " |-- originGTR: double (nullable = true)\n",
            " |-- originJMS: double (nullable = true)\n",
            " |-- originPGV: double (nullable = true)\n",
            " |-- originTWF: double (nullable = true)\n",
            " |-- originLWS: double (nullable = true)\n",
            " |-- originVLD: double (nullable = true)\n",
            " |-- originHYS: double (nullable = true)\n",
            " |-- originYKM: double (nullable = true)\n",
            " |-- originGRI: double (nullable = true)\n",
            " |-- originEAT: double (nullable = true)\n",
            " |-- originGUM: double (nullable = true)\n",
            " |-- originBQK: double (nullable = true)\n",
            " |-- originCKB: double (nullable = true)\n",
            " |-- originABY: double (nullable = true)\n",
            " |-- originSUX: double (nullable = true)\n",
            " |-- originPAH: double (nullable = true)\n",
            " |-- originPIH: double (nullable = true)\n",
            " |-- originGUC: double (nullable = true)\n",
            " |-- originJLN: double (nullable = true)\n",
            " |-- originPLN: double (nullable = true)\n",
            " |-- originFLO: double (nullable = true)\n",
            " |-- originPUB: double (nullable = true)\n",
            " |-- originBPT: double (nullable = true)\n",
            " |-- originPVU: double (nullable = true)\n",
            " |-- originSLN: double (nullable = true)\n",
            " |-- originSCK: double (nullable = true)\n",
            " |-- originLNY: double (nullable = true)\n",
            " |-- originRFD: double (nullable = true)\n",
            " |-- originALW: double (nullable = true)\n",
            " |-- originGGG: double (nullable = true)\n",
            " |-- originGCC: double (nullable = true)\n",
            " |-- originRHI: double (nullable = true)\n",
            " |-- originXWA: double (nullable = true)\n",
            " |-- originEAU: double (nullable = true)\n",
            " |-- originSHD: double (nullable = true)\n",
            " |-- originCMX: double (nullable = true)\n",
            " |-- originWRG: double (nullable = true)\n",
            " |-- originMEI: double (nullable = true)\n",
            " |-- originPSG: double (nullable = true)\n",
            " |-- originCDV: double (nullable = true)\n",
            " |-- originCGI: double (nullable = true)\n",
            " |-- originBET: double (nullable = true)\n",
            " |-- originISN: double (nullable = true)\n",
            " |-- originMKG: double (nullable = true)\n",
            " |-- originYAK: double (nullable = true)\n",
            " |-- originABR: double (nullable = true)\n",
            " |-- originADQ: double (nullable = true)\n",
            " |-- originSCC: double (nullable = true)\n",
            " |-- originBJI: double (nullable = true)\n",
            " |-- originPRC: double (nullable = true)\n",
            " |-- originEAR: double (nullable = true)\n",
            " |-- originBFF: double (nullable = true)\n",
            " |-- originIMT: double (nullable = true)\n",
            " |-- originCIU: double (nullable = true)\n",
            " |-- originLBF: double (nullable = true)\n",
            " |-- originDBQ: double (nullable = true)\n",
            " |-- originIAG: double (nullable = true)\n",
            " |-- originGCK: double (nullable = true)\n",
            " |-- originLWB: double (nullable = true)\n",
            " |-- originRKS: double (nullable = true)\n",
            " |-- originSWO: double (nullable = true)\n",
            " |-- originDVL: double (nullable = true)\n",
            " |-- originLAR: double (nullable = true)\n",
            " |-- originBTM: double (nullable = true)\n",
            " |-- originMVY: double (nullable = true)\n",
            " |-- originLBL: double (nullable = true)\n",
            " |-- originCNY: double (nullable = true)\n",
            " |-- originOME: double (nullable = true)\n",
            " |-- originESC: double (nullable = true)\n",
            " |-- originOTZ: double (nullable = true)\n",
            " |-- originPIB: double (nullable = true)\n",
            " |-- originDIK: double (nullable = true)\n",
            " |-- originHOB: double (nullable = true)\n",
            " |-- originBRD: double (nullable = true)\n",
            " |-- originART: double (nullable = true)\n",
            " |-- originHIB: double (nullable = true)\n",
            " |-- originINL: double (nullable = true)\n",
            " |-- originCDC: double (nullable = true)\n",
            " |-- originAPN: double (nullable = true)\n",
            " |-- originPSE: double (nullable = true)\n",
            " |-- originEKO: double (nullable = true)\n",
            " |-- originBGM: double (nullable = true)\n",
            " |-- originVEL: double (nullable = true)\n",
            " |-- originMKK: double (nullable = true)\n",
            " |-- originALO: double (nullable = true)\n",
            " |-- originDRT: double (nullable = true)\n",
            " |-- originBRW: double (nullable = true)\n",
            " |-- originSPN: double (nullable = true)\n",
            " |-- originPQI: double (nullable = true)\n",
            " |-- originOGS: double (nullable = true)\n",
            " |-- originHVN: double (nullable = true)\n",
            " |-- originPIR: double (nullable = true)\n",
            " |-- originJHM: double (nullable = true)\n",
            " |-- originATY: double (nullable = true)\n",
            " |-- originDEC: double (nullable = true)\n",
            " |-- originPSM: double (nullable = true)\n",
            " |-- originOTH: double (nullable = true)\n",
            " |-- originIPT: double (nullable = true)\n",
            " |-- originSHR: double (nullable = true)\n",
            " |-- originUIN: double (nullable = true)\n",
            " |-- originDDC: double (nullable = true)\n",
            " |-- originRIW: double (nullable = true)\n",
            " |-- originCYS: double (nullable = true)\n",
            " |-- originWYS: double (nullable = true)\n",
            " |-- originDUT: double (nullable = true)\n",
            " |-- originJST: double (nullable = true)\n",
            " |-- originAKN: double (nullable = true)\n",
            " |-- originMMH: double (nullable = true)\n",
            " |-- originVCT: double (nullable = true)\n",
            " |-- originDLG: double (nullable = true)\n",
            " |-- originALS: double (nullable = true)\n",
            " |-- originSMX: double (nullable = true)\n",
            " |-- originFOD: double (nullable = true)\n",
            " |-- originMCW: double (nullable = true)\n",
            " |-- originHGR: double (nullable = true)\n",
            " |-- originSTC: double (nullable = true)\n",
            " |-- originBKG: double (nullable = true)\n",
            " |-- originTBN: double (nullable = true)\n",
            " |-- originOWB: double (nullable = true)\n",
            " |-- originOGD: double (nullable = true)\n",
            " |-- originADK: double (nullable = true)\n",
            " |-- originHYA: double (nullable = true)\n",
            " |-- originGST: double (nullable = true)\n",
            " |-- originPPG: double (nullable = true)\n",
            " |-- originBIH: double (nullable = true)\n",
            " |-- originCDB: double (nullable = true)\n",
            " |-- originBFM: double (nullable = true)\n",
            " |-- originILG: double (nullable = true)\n",
            " |-- originROP: double (nullable = true)\n",
            " |-- destATL: double (nullable = true)\n",
            " |-- destORD: double (nullable = true)\n",
            " |-- destDEN: double (nullable = true)\n",
            " |-- destDFW: double (nullable = true)\n",
            " |-- destCLT: double (nullable = true)\n",
            " |-- destLAX: double (nullable = true)\n",
            " |-- destSEA: double (nullable = true)\n",
            " |-- destIAH: double (nullable = true)\n",
            " |-- destPHX: double (nullable = true)\n",
            " |-- destLAS: double (nullable = true)\n",
            " |-- destSFO: double (nullable = true)\n",
            " |-- destDTW: double (nullable = true)\n",
            " |-- destMCO: double (nullable = true)\n",
            " |-- destEWR: double (nullable = true)\n",
            " |-- destMSP: double (nullable = true)\n",
            " |-- destLGA: double (nullable = true)\n",
            " |-- destBOS: double (nullable = true)\n",
            " |-- destPHL: double (nullable = true)\n",
            " |-- destSLC: double (nullable = true)\n",
            " |-- destDCA: double (nullable = true)\n",
            " |-- destJFK: double (nullable = true)\n",
            " |-- destBWI: double (nullable = true)\n",
            " |-- destFLL: double (nullable = true)\n",
            " |-- destIAD: double (nullable = true)\n",
            " |-- destSAN: double (nullable = true)\n",
            " |-- destMIA: double (nullable = true)\n",
            " |-- destMDW: double (nullable = true)\n",
            " |-- destBNA: double (nullable = true)\n",
            " |-- destTPA: double (nullable = true)\n",
            " |-- destPDX: double (nullable = true)\n",
            " |-- destDAL: double (nullable = true)\n",
            " |-- destAUS: double (nullable = true)\n",
            " |-- destSTL: double (nullable = true)\n",
            " |-- destHOU: double (nullable = true)\n",
            " |-- destSJC: double (nullable = true)\n",
            " |-- destRDU: double (nullable = true)\n",
            " |-- destHNL: double (nullable = true)\n",
            " |-- destSMF: double (nullable = true)\n",
            " |-- destMSY: double (nullable = true)\n",
            " |-- destMCI: double (nullable = true)\n",
            " |-- destOAK: double (nullable = true)\n",
            " |-- destIND: double (nullable = true)\n",
            " |-- destCLE: double (nullable = true)\n",
            " |-- destPIT: double (nullable = true)\n",
            " |-- destCVG: double (nullable = true)\n",
            " |-- destSNA: double (nullable = true)\n",
            " |-- destCMH: double (nullable = true)\n",
            " |-- destRSW: double (nullable = true)\n",
            " |-- destSAT: double (nullable = true)\n",
            " |-- destMKE: double (nullable = true)\n",
            " |-- destJAX: double (nullable = true)\n",
            " |-- destSJU: double (nullable = true)\n",
            " |-- destBUR: double (nullable = true)\n",
            " |-- destOGG: double (nullable = true)\n",
            " |-- destBOI: double (nullable = true)\n",
            " |-- destBDL: double (nullable = true)\n",
            " |-- destCHS: double (nullable = true)\n",
            " |-- destOMA: double (nullable = true)\n",
            " |-- destPBI: double (nullable = true)\n",
            " |-- destSDF: double (nullable = true)\n",
            " |-- destRIC: double (nullable = true)\n",
            " |-- destABQ: double (nullable = true)\n",
            " |-- destBUF: double (nullable = true)\n",
            " |-- destMEM: double (nullable = true)\n",
            " |-- destOKC: double (nullable = true)\n",
            " |-- destONT: double (nullable = true)\n",
            " |-- destORF: double (nullable = true)\n",
            " |-- destRNO: double (nullable = true)\n",
            " |-- destGEG: double (nullable = true)\n",
            " |-- destANC: double (nullable = true)\n",
            " |-- destGRR: double (nullable = true)\n",
            " |-- destTUS: double (nullable = true)\n",
            " |-- destTYS: double (nullable = true)\n",
            " |-- destSAV: double (nullable = true)\n",
            " |-- destELP: double (nullable = true)\n",
            " |-- destBHM: double (nullable = true)\n",
            " |-- destTUL: double (nullable = true)\n",
            " |-- destPVD: double (nullable = true)\n",
            " |-- destDSM: double (nullable = true)\n",
            " |-- destKOA: double (nullable = true)\n",
            " |-- destLGB: double (nullable = true)\n",
            " |-- destROC: double (nullable = true)\n",
            " |-- destGSP: double (nullable = true)\n",
            " |-- destALB: double (nullable = true)\n",
            " |-- destSYR: double (nullable = true)\n",
            " |-- destGSO: double (nullable = true)\n",
            " |-- destMYR: double (nullable = true)\n",
            " |-- destLIH: double (nullable = true)\n",
            " |-- destLIT: double (nullable = true)\n",
            " |-- destDAY: double (nullable = true)\n",
            " |-- destMSN: double (nullable = true)\n",
            " |-- destPSP: double (nullable = true)\n",
            " |-- destPNS: double (nullable = true)\n",
            " |-- destXNA: double (nullable = true)\n",
            " |-- destPWM: double (nullable = true)\n",
            " |-- destFAT: double (nullable = true)\n",
            " |-- destSRQ: double (nullable = true)\n",
            " |-- destCOS: double (nullable = true)\n",
            " |-- destICT: double (nullable = true)\n",
            " |-- destSFB: double (nullable = true)\n",
            " |-- destLEX: double (nullable = true)\n",
            " |-- destBZN: double (nullable = true)\n",
            " |-- destMDT: double (nullable = true)\n",
            " |-- destAVL: double (nullable = true)\n",
            " |-- destVPS: double (nullable = true)\n",
            " |-- destSGF: double (nullable = true)\n",
            " |-- destCID: double (nullable = true)\n",
            " |-- destHPN: double (nullable = true)\n",
            " |-- destHSV: double (nullable = true)\n",
            " |-- destBTV: double (nullable = true)\n",
            " |-- destCAE: double (nullable = true)\n",
            " |-- destMAF: double (nullable = true)\n",
            " |-- destMHT: double (nullable = true)\n",
            " |-- destEUG: double (nullable = true)\n",
            " |-- destMFR: double (nullable = true)\n",
            " |-- destRDM: double (nullable = true)\n",
            " |-- destPIE: double (nullable = true)\n",
            " |-- destFSD: double (nullable = true)\n",
            " |-- destECP: double (nullable = true)\n",
            " |-- destCHA: double (nullable = true)\n",
            " |-- destJAN: double (nullable = true)\n",
            " |-- destILM: double (nullable = true)\n",
            " |-- destSBA: double (nullable = true)\n",
            " |-- destEYW: double (nullable = true)\n",
            " |-- destFAR: double (nullable = true)\n",
            " |-- destFWA: double (nullable = true)\n",
            " |-- destSBN: double (nullable = true)\n",
            " |-- destLBB: double (nullable = true)\n",
            " |-- destATW: double (nullable = true)\n",
            " |-- destCHO: double (nullable = true)\n",
            " |-- destPGD: double (nullable = true)\n",
            " |-- destBTR: double (nullable = true)\n",
            " |-- destAZA: double (nullable = true)\n",
            " |-- destITO: double (nullable = true)\n",
            " |-- destPSC: double (nullable = true)\n",
            " |-- destASE: double (nullable = true)\n",
            " |-- destROA: double (nullable = true)\n",
            " |-- destISP: double (nullable = true)\n",
            " |-- destSHV: double (nullable = true)\n",
            " |-- destMSO: double (nullable = true)\n",
            " |-- destMOB: double (nullable = true)\n",
            " |-- destRAP: double (nullable = true)\n",
            " |-- destCAK: double (nullable = true)\n",
            " |-- destABE: double (nullable = true)\n",
            " |-- destGRB: double (nullable = true)\n",
            " |-- destCRP: double (nullable = true)\n",
            " |-- destTLH: double (nullable = true)\n",
            " |-- destMLI: double (nullable = true)\n",
            " |-- destAMA: double (nullable = true)\n",
            " |-- destBIL: double (nullable = true)\n",
            " |-- destJAC: double (nullable = true)\n",
            " |-- destFCA: double (nullable = true)\n",
            " |-- destTVC: double (nullable = true)\n",
            " |-- destSBP: double (nullable = true)\n",
            " |-- destBGR: double (nullable = true)\n",
            " |-- destMFE: double (nullable = true)\n",
            " |-- destSTT: double (nullable = true)\n",
            " |-- destLFT: double (nullable = true)\n",
            " |-- destPIA: double (nullable = true)\n",
            " |-- destAGS: double (nullable = true)\n",
            " |-- destGJT: double (nullable = true)\n",
            " |-- destBIS: double (nullable = true)\n",
            " |-- destFAI: double (nullable = true)\n",
            " |-- destEVV: double (nullable = true)\n",
            " |-- destJNU: double (nullable = true)\n",
            " |-- destHRL: double (nullable = true)\n",
            " |-- destCRW: double (nullable = true)\n",
            " |-- destGPT: double (nullable = true)\n",
            " |-- destMRY: double (nullable = true)\n",
            " |-- destAVP: double (nullable = true)\n",
            " |-- destFNT: double (nullable = true)\n",
            " |-- destGNV: double (nullable = true)\n",
            " |-- destDRO: double (nullable = true)\n",
            " |-- destSTS: double (nullable = true)\n",
            " |-- destMGM: double (nullable = true)\n",
            " |-- destSCE: double (nullable = true)\n",
            " |-- destTRI: double (nullable = true)\n",
            " |-- destFAY: double (nullable = true)\n",
            " |-- destPAE: double (nullable = true)\n",
            " |-- destIDA: double (nullable = true)\n",
            " |-- destACY: double (nullable = true)\n",
            " |-- destSGU: double (nullable = true)\n",
            " |-- destRST: double (nullable = true)\n",
            " |-- destDAB: double (nullable = true)\n",
            " |-- destBLI: double (nullable = true)\n",
            " |-- destLAN: double (nullable = true)\n",
            " |-- destMTJ: double (nullable = true)\n",
            " |-- destGTF: double (nullable = true)\n",
            " |-- destAEX: double (nullable = true)\n",
            " |-- destOAJ: double (nullable = true)\n",
            " |-- destLNK: double (nullable = true)\n",
            " |-- destGRK: double (nullable = true)\n",
            " |-- destAZO: double (nullable = true)\n",
            " |-- destCWA: double (nullable = true)\n",
            " |-- destDLH: double (nullable = true)\n",
            " |-- destMOT: double (nullable = true)\n",
            " |-- destPHF: double (nullable = true)\n",
            " |-- destBMI: double (nullable = true)\n",
            " |-- destMLU: double (nullable = true)\n",
            " |-- destEGE: double (nullable = true)\n",
            " |-- destBFL: double (nullable = true)\n",
            " |-- destBRO: double (nullable = true)\n",
            " |-- destTTN: double (nullable = true)\n",
            " |-- destHHH: double (nullable = true)\n",
            " |-- destMLB: double (nullable = true)\n",
            " |-- destMBS: double (nullable = true)\n",
            " |-- destSAF: double (nullable = true)\n",
            " |-- destLRD: double (nullable = true)\n",
            " |-- destCOU: double (nullable = true)\n",
            " |-- destKTN: double (nullable = true)\n",
            " |-- destHDN: double (nullable = true)\n",
            " |-- destFLG: double (nullable = true)\n",
            " |-- destCPR: double (nullable = true)\n",
            " |-- destCMI: double (nullable = true)\n",
            " |-- destITH: double (nullable = true)\n",
            " |-- destABI: double (nullable = true)\n",
            " |-- destHLN: double (nullable = true)\n",
            " |-- destCLL: double (nullable = true)\n",
            " |-- destERI: double (nullable = true)\n",
            " |-- destBQN: double (nullable = true)\n",
            " |-- destLSE: double (nullable = true)\n",
            " |-- destACV: double (nullable = true)\n",
            " |-- destLCH: double (nullable = true)\n",
            " |-- destEWN: double (nullable = true)\n",
            " |-- destELM: double (nullable = true)\n",
            " |-- destSUN: double (nullable = true)\n",
            " |-- destLYH: double (nullable = true)\n",
            " |-- destSWF: double (nullable = true)\n",
            " |-- destYUM: double (nullable = true)\n",
            " |-- destGFK: double (nullable = true)\n",
            " |-- destSJT: double (nullable = true)\n",
            " |-- destSPI: double (nullable = true)\n",
            " |-- destTOL: double (nullable = true)\n",
            " |-- destSBY: double (nullable = true)\n",
            " |-- destFSM: double (nullable = true)\n",
            " |-- destACT: double (nullable = true)\n",
            " |-- destMHK: double (nullable = true)\n",
            " |-- destACK: double (nullable = true)\n",
            " |-- destHTS: double (nullable = true)\n",
            " |-- destRDD: double (nullable = true)\n",
            " |-- destCSG: double (nullable = true)\n",
            " |-- destTYR: double (nullable = true)\n",
            " |-- destMQT: double (nullable = true)\n",
            " |-- destBLV: double (nullable = true)\n",
            " |-- destUSA: double (nullable = true)\n",
            " |-- destSIT: double (nullable = true)\n",
            " |-- destLCK: double (nullable = true)\n",
            " |-- destPUW: double (nullable = true)\n",
            " |-- destORH: double (nullable = true)\n",
            " |-- destDHN: double (nullable = true)\n",
            " |-- destPBG: double (nullable = true)\n",
            " |-- destROW: double (nullable = true)\n",
            " |-- destSTX: double (nullable = true)\n",
            " |-- destLBE: double (nullable = true)\n",
            " |-- destLAW: double (nullable = true)\n",
            " |-- destTXK: double (nullable = true)\n",
            " |-- destSPS: double (nullable = true)\n",
            " |-- destCOD: double (nullable = true)\n",
            " |-- destJMS: double (nullable = true)\n",
            " |-- destGTR: double (nullable = true)\n",
            " |-- destPGV: double (nullable = true)\n",
            " |-- destLWS: double (nullable = true)\n",
            " |-- destVLD: double (nullable = true)\n",
            " |-- destHYS: double (nullable = true)\n",
            " |-- destYKM: double (nullable = true)\n",
            " |-- destGRI: double (nullable = true)\n",
            " |-- destEAT: double (nullable = true)\n",
            " |-- destGUM: double (nullable = true)\n",
            " |-- destBQK: double (nullable = true)\n",
            " |-- destCKB: double (nullable = true)\n",
            " |-- destABY: double (nullable = true)\n",
            " |-- destSUX: double (nullable = true)\n",
            " |-- destTWF: double (nullable = true)\n",
            " |-- destPAH: double (nullable = true)\n",
            " |-- destPIH: double (nullable = true)\n",
            " |-- destGUC: double (nullable = true)\n",
            " |-- destJLN: double (nullable = true)\n",
            " |-- destPLN: double (nullable = true)\n",
            " |-- destFLO: double (nullable = true)\n",
            " |-- destPUB: double (nullable = true)\n",
            " |-- destBPT: double (nullable = true)\n",
            " |-- destPVU: double (nullable = true)\n",
            " |-- destSLN: double (nullable = true)\n",
            " |-- destSCK: double (nullable = true)\n",
            " |-- destLNY: double (nullable = true)\n",
            " |-- destRFD: double (nullable = true)\n",
            " |-- destALW: double (nullable = true)\n",
            " |-- destGGG: double (nullable = true)\n",
            " |-- destGCC: double (nullable = true)\n",
            " |-- destRHI: double (nullable = true)\n",
            " |-- destXWA: double (nullable = true)\n",
            " |-- destSHD: double (nullable = true)\n",
            " |-- destEAU: double (nullable = true)\n",
            " |-- destPSG: double (nullable = true)\n",
            " |-- destWRG: double (nullable = true)\n",
            " |-- destMEI: double (nullable = true)\n",
            " |-- destCMX: double (nullable = true)\n",
            " |-- destCDV: double (nullable = true)\n",
            " |-- destISN: double (nullable = true)\n",
            " |-- destCGI: double (nullable = true)\n",
            " |-- destBET: double (nullable = true)\n",
            " |-- destMKG: double (nullable = true)\n",
            " |-- destYAK: double (nullable = true)\n",
            " |-- destSCC: double (nullable = true)\n",
            " |-- destABR: double (nullable = true)\n",
            " |-- destADQ: double (nullable = true)\n",
            " |-- destBJI: double (nullable = true)\n",
            " |-- destPRC: double (nullable = true)\n",
            " |-- destBFF: double (nullable = true)\n",
            " |-- destEAR: double (nullable = true)\n",
            " |-- destLBF: double (nullable = true)\n",
            " |-- destIMT: double (nullable = true)\n",
            " |-- destCIU: double (nullable = true)\n",
            " |-- destDBQ: double (nullable = true)\n",
            " |-- destLWB: double (nullable = true)\n",
            " |-- destGCK: double (nullable = true)\n",
            " |-- destIAG: double (nullable = true)\n",
            " |-- destDVL: double (nullable = true)\n",
            " |-- destRKS: double (nullable = true)\n",
            " |-- destLAR: double (nullable = true)\n",
            " |-- destSWO: double (nullable = true)\n",
            " |-- destMVY: double (nullable = true)\n",
            " |-- destBTM: double (nullable = true)\n",
            " |-- destLBL: double (nullable = true)\n",
            " |-- destCNY: double (nullable = true)\n",
            " |-- destOTZ: double (nullable = true)\n",
            " |-- destOME: double (nullable = true)\n",
            " |-- destESC: double (nullable = true)\n",
            " |-- destHOB: double (nullable = true)\n",
            " |-- destPIB: double (nullable = true)\n",
            " |-- destBRD: double (nullable = true)\n",
            " |-- destDIK: double (nullable = true)\n",
            " |-- destART: double (nullable = true)\n",
            " |-- destHIB: double (nullable = true)\n",
            " |-- destINL: double (nullable = true)\n",
            " |-- destCDC: double (nullable = true)\n",
            " |-- destAPN: double (nullable = true)\n",
            " |-- destPSE: double (nullable = true)\n",
            " |-- destEKO: double (nullable = true)\n",
            " |-- destVEL: double (nullable = true)\n",
            " |-- destBGM: double (nullable = true)\n",
            " |-- destMKK: double (nullable = true)\n",
            " |-- destALO: double (nullable = true)\n",
            " |-- destDRT: double (nullable = true)\n",
            " |-- destBRW: double (nullable = true)\n",
            " |-- destSPN: double (nullable = true)\n",
            " |-- destPQI: double (nullable = true)\n",
            " |-- destOGS: double (nullable = true)\n",
            " |-- destHVN: double (nullable = true)\n",
            " |-- destPIR: double (nullable = true)\n",
            " |-- destJHM: double (nullable = true)\n",
            " |-- destATY: double (nullable = true)\n",
            " |-- destDEC: double (nullable = true)\n",
            " |-- destPSM: double (nullable = true)\n",
            " |-- destIPT: double (nullable = true)\n",
            " |-- destOTH: double (nullable = true)\n",
            " |-- destSHR: double (nullable = true)\n",
            " |-- destUIN: double (nullable = true)\n",
            " |-- destDDC: double (nullable = true)\n",
            " |-- destRIW: double (nullable = true)\n",
            " |-- destCYS: double (nullable = true)\n",
            " |-- destWYS: double (nullable = true)\n",
            " |-- destDUT: double (nullable = true)\n",
            " |-- destJST: double (nullable = true)\n",
            " |-- destAKN: double (nullable = true)\n",
            " |-- destMMH: double (nullable = true)\n",
            " |-- destVCT: double (nullable = true)\n",
            " |-- destDLG: double (nullable = true)\n",
            " |-- destALS: double (nullable = true)\n",
            " |-- destSMX: double (nullable = true)\n",
            " |-- destFOD: double (nullable = true)\n",
            " |-- destMCW: double (nullable = true)\n",
            " |-- destHGR: double (nullable = true)\n",
            " |-- destSTC: double (nullable = true)\n",
            " |-- destBKG: double (nullable = true)\n",
            " |-- destTBN: double (nullable = true)\n",
            " |-- destOWB: double (nullable = true)\n",
            " |-- destOGD: double (nullable = true)\n",
            " |-- destADK: double (nullable = true)\n",
            " |-- destHYA: double (nullable = true)\n",
            " |-- destGST: double (nullable = true)\n",
            " |-- destPPG: double (nullable = true)\n",
            " |-- destBIH: double (nullable = true)\n",
            " |-- destCDB: double (nullable = true)\n",
            " |-- destBFM: double (nullable = true)\n",
            " |-- destILG: double (nullable = true)\n",
            " |-- destROP: double (nullable = true)\n",
            "\n"
          ]
        }
      ],
      "source": [
        "df_transformed.printSchema()"
      ]
    },
    {
      "cell_type": "code",
      "execution_count": null,
      "metadata": {
        "colab": {
          "base_uri": "https://localhost:8080/"
        },
        "id": "CNR-5qz92txB",
        "outputId": "ed7c6953-2cd2-4f50-c663-85f0d6f89f55"
      },
      "outputs": [
        {
          "data": {
            "text/plain": [
              "[('double', 811), ('bigint', 20), ('boolean', 2)]"
            ]
          },
          "execution_count": 57,
          "metadata": {},
          "output_type": "execute_result"
        }
      ],
      "source": [
        "count_dtypes(df_transformed)"
      ]
    },
    {
      "cell_type": "markdown",
      "metadata": {
        "id": "GagFFq8m2txB"
      },
      "source": [
        "## Generate feature vector from columns"
      ]
    },
    {
      "cell_type": "code",
      "execution_count": null,
      "metadata": {},
      "outputs": [
        {
          "data": {
            "text/plain": [
              "['destBKG',\n",
              " 'originPIT',\n",
              " 'destRFD',\n",
              " 'destHOB',\n",
              " 'destCAK',\n",
              " 'originDLG',\n",
              " 'originGJT',\n",
              " 'destORF',\n",
              " 'destLCK',\n",
              " 'destPNS',\n",
              " 'destJNU',\n",
              " 'destXNA',\n",
              " 'destPBI',\n",
              " 'originTWF',\n",
              " 'destMSO',\n",
              " 'originVLD',\n",
              " 'destATY',\n",
              " 'originILM',\n",
              " 'originPSG',\n",
              " 'destRST',\n",
              " 'destSRQ',\n",
              " 'destXWA',\n",
              " 'destEWR',\n",
              " 'destCNY',\n",
              " 'originMFR',\n",
              " 'originBDL',\n",
              " 'originTTN',\n",
              " 'originALO',\n",
              " 'destIAG',\n",
              " 'originCDV',\n",
              " 'destITO',\n",
              " 'originSFB',\n",
              " 'destMOB',\n",
              " 'originPVD',\n",
              " 'destMKG',\n",
              " 'originATW',\n",
              " 'destCIU',\n",
              " 'originDIK',\n",
              " 'originGRR',\n",
              " 'DestAirportSeqID',\n",
              " 'destJLN',\n",
              " 'originCID',\n",
              " 'Year',\n",
              " 'originBMI',\n",
              " 'destBZN',\n",
              " 'destHVN',\n",
              " 'destTLH',\n",
              " 'originPQI',\n",
              " 'originABI',\n",
              " 'originBJI',\n",
              " 'originLYH',\n",
              " 'destTRI',\n",
              " 'airlineExpressJetAirlinesInc',\n",
              " 'originMSP',\n",
              " 'originSTS',\n",
              " 'TaxiOut',\n",
              " 'originBQN',\n",
              " 'originMCW',\n",
              " 'destFNT',\n",
              " 'originBIS',\n",
              " 'destPQI',\n",
              " 'airlineMesaAirlinesInc',\n",
              " 'destMMH',\n",
              " 'destPIT',\n",
              " 'airlineAirWisconsinAirlinesCorp',\n",
              " 'originOAJ',\n",
              " 'destOKC',\n",
              " 'destOTZ',\n",
              " 'destRDU',\n",
              " 'destPSG',\n",
              " 'originMIA',\n",
              " 'originLEX',\n",
              " 'airlineCapitalCargoInternational',\n",
              " 'destSCC',\n",
              " 'destDBQ',\n",
              " 'originVPS',\n",
              " 'originBET',\n",
              " 'originTPA',\n",
              " 'originISP',\n",
              " 'originTRI',\n",
              " 'originDUT',\n",
              " 'originROP',\n",
              " 'destECP',\n",
              " 'destPUW',\n",
              " 'airlineTransStatesAirlines',\n",
              " 'destANC',\n",
              " 'destPUB',\n",
              " 'originCPR',\n",
              " 'destJST',\n",
              " 'originLIH',\n",
              " 'Quarter',\n",
              " 'originPSC',\n",
              " 'destPSP',\n",
              " 'destMLB',\n",
              " 'destLFT',\n",
              " 'originKTN',\n",
              " 'destDFW',\n",
              " 'destCDC',\n",
              " 'originYUM',\n",
              " 'destIAH',\n",
              " 'originCOD',\n",
              " 'destFAY',\n",
              " 'destLBL',\n",
              " 'originCRP',\n",
              " 'destGFK',\n",
              " 'originMOB',\n",
              " 'destDSM',\n",
              " 'destALB',\n",
              " 'originSTX',\n",
              " 'originLBB',\n",
              " 'originSWO',\n",
              " 'originAMA',\n",
              " 'originELM',\n",
              " 'originEAU',\n",
              " 'destACV',\n",
              " 'destVEL',\n",
              " 'originACT',\n",
              " 'destRIW',\n",
              " 'originELP',\n",
              " 'originCKB',\n",
              " 'destGRI',\n",
              " 'destOWB',\n",
              " 'originMDW',\n",
              " 'OriginAirportID',\n",
              " 'destHGR',\n",
              " 'originLNK',\n",
              " 'destINL',\n",
              " 'destPAE',\n",
              " 'originCMH',\n",
              " 'originPUW',\n",
              " 'destMAF',\n",
              " 'originSAF',\n",
              " 'originMSN',\n",
              " 'originFLO',\n",
              " 'originCOS',\n",
              " 'originLRD',\n",
              " 'destJAN',\n",
              " 'destMYR',\n",
              " 'originGEG',\n",
              " 'destJFK',\n",
              " 'originSBY',\n",
              " 'destTUS',\n",
              " 'destAZO',\n",
              " 'destCGI',\n",
              " 'originCGI',\n",
              " 'originPAH',\n",
              " 'originMSY',\n",
              " 'originSUX',\n",
              " 'originABR',\n",
              " 'destMDW',\n",
              " 'destERI',\n",
              " 'destOGG',\n",
              " 'originBRD',\n",
              " 'destONT',\n",
              " 'DestCityMarketID',\n",
              " 'Flight_Number_Operating_Airline',\n",
              " 'originADK',\n",
              " 'AirTime',\n",
              " 'destDHN',\n",
              " 'destSJC',\n",
              " 'destMKE',\n",
              " 'destLGB',\n",
              " 'destDAY',\n",
              " 'originGSO',\n",
              " 'originSLN',\n",
              " 'originBWI',\n",
              " 'destCLL',\n",
              " 'originMHT',\n",
              " 'originOME',\n",
              " 'destFAR',\n",
              " 'originHHH',\n",
              " 'destLRD',\n",
              " 'airlineAllegiantAir',\n",
              " 'originDVL',\n",
              " 'destBPT',\n",
              " 'destCMH',\n",
              " 'destDRT',\n",
              " 'DepDelay',\n",
              " 'originHTS',\n",
              " 'airlinePeninsulaAirwaysInc',\n",
              " 'destALW',\n",
              " 'originUIN',\n",
              " 'destBQN',\n",
              " 'destLBE',\n",
              " 'destSMX',\n",
              " 'TaxiIn',\n",
              " 'destHYA',\n",
              " 'destPRC',\n",
              " 'originSPI',\n",
              " 'destMLU',\n",
              " 'originCVG',\n",
              " 'originALB',\n",
              " 'originPVU',\n",
              " 'originGRB',\n",
              " 'originGGG',\n",
              " 'destLSE',\n",
              " 'originOGD',\n",
              " 'airlineAlaskaAirlinesInc',\n",
              " 'destBGR',\n",
              " 'destFLG',\n",
              " 'destMVY',\n",
              " 'originIMT',\n",
              " 'originHYA',\n",
              " 'originLBF',\n",
              " 'destFAT',\n",
              " 'destSYR',\n",
              " 'airlineSkyWestAirlinesInc',\n",
              " 'originSFO',\n",
              " 'originYAK',\n",
              " 'destJMS',\n",
              " 'destBET',\n",
              " 'originEUG',\n",
              " 'destBFL',\n",
              " 'destSWO',\n",
              " 'originSCC',\n",
              " 'destCMI',\n",
              " 'destGNV',\n",
              " 'airlineDeltaAirLinesInc',\n",
              " 'destSBP',\n",
              " 'originROC',\n",
              " 'destSFO',\n",
              " 'originDCA',\n",
              " 'originSPS',\n",
              " 'originMKG',\n",
              " 'originSTC',\n",
              " 'airlineCommutairAkaChamplainEnterprises,Inc',\n",
              " 'destRIC',\n",
              " 'destFLL',\n",
              " 'originORH',\n",
              " 'originCOU',\n",
              " 'originBFL',\n",
              " 'destILG',\n",
              " 'destGUC',\n",
              " 'airlineJetBlueAirways',\n",
              " 'destELP',\n",
              " 'originMGM',\n",
              " 'originLAW',\n",
              " 'destABI',\n",
              " 'destSLN',\n",
              " 'destDLG',\n",
              " 'originBIL',\n",
              " 'destPIB',\n",
              " 'originBNA',\n",
              " 'originLWB',\n",
              " 'originGCK',\n",
              " 'originTUL',\n",
              " 'destFSM',\n",
              " 'originSGU',\n",
              " 'originALW',\n",
              " 'destBDL',\n",
              " 'destGRR',\n",
              " 'destMSP',\n",
              " 'originPBG',\n",
              " 'destRDM',\n",
              " 'originHNL',\n",
              " 'originRDD',\n",
              " 'destPHX',\n",
              " 'originBTM',\n",
              " 'originAZA',\n",
              " 'destHLN',\n",
              " 'destCSG',\n",
              " 'originGFK',\n",
              " 'airlineRepublicAirlines',\n",
              " 'destTPA',\n",
              " 'originTLH',\n",
              " 'destACY',\n",
              " 'destBRO',\n",
              " 'airlineGoJetAirlines,LLCd/b/aUnitedExpress',\n",
              " 'destSNA',\n",
              " 'originSBP',\n",
              " 'destVLD',\n",
              " 'destCYS',\n",
              " 'destKOA',\n",
              " 'originLWS',\n",
              " 'originYKM',\n",
              " 'originIAH',\n",
              " 'originSDF',\n",
              " 'originDAL',\n",
              " 'destPLN',\n",
              " 'destGCC',\n",
              " 'destPIR',\n",
              " 'destCHA',\n",
              " 'originRDM',\n",
              " 'originRKS',\n",
              " 'originBRO',\n",
              " 'originSAV',\n",
              " 'DOT_ID_Marketing_Airline',\n",
              " 'originBLV',\n",
              " 'destAEX',\n",
              " 'destORD',\n",
              " 'destSTC',\n",
              " 'destCRP',\n",
              " 'destEKO',\n",
              " 'originTUS',\n",
              " 'destBHM',\n",
              " 'destASE',\n",
              " 'destOTH',\n",
              " 'originPDX',\n",
              " 'originEGE',\n",
              " 'destEVV',\n",
              " 'destPHF',\n",
              " 'originABE',\n",
              " 'originDDC',\n",
              " 'originESC',\n",
              " 'originCLL',\n",
              " 'destABQ',\n",
              " 'originSAN',\n",
              " 'originRIC',\n",
              " 'originSCK',\n",
              " 'destPHL',\n",
              " 'originMEM',\n",
              " 'destSJU',\n",
              " 'originHYS',\n",
              " 'destBIL',\n",
              " 'originASE',\n",
              " 'CRSElapsedTime',\n",
              " 'originFSD',\n",
              " 'originDRO',\n",
              " 'destABR',\n",
              " 'originSJC',\n",
              " 'destYKM',\n",
              " 'DayOfWeek',\n",
              " 'Cancelled',\n",
              " 'destMIA',\n",
              " 'originSEA',\n",
              " 'destTVC',\n",
              " 'originHOU',\n",
              " 'destCMX',\n",
              " 'originCDB',\n",
              " 'destSWF',\n",
              " 'destBOS',\n",
              " 'originGUM',\n",
              " 'originGUC',\n",
              " 'destLGA',\n",
              " 'destDAB',\n",
              " 'originBGR',\n",
              " 'destBUR',\n",
              " 'destSUN',\n",
              " 'originAZO',\n",
              " 'originMHK',\n",
              " 'destLYH',\n",
              " 'originWYS',\n",
              " 'originOTH',\n",
              " 'originCYS',\n",
              " 'originDBQ',\n",
              " 'destSCE',\n",
              " 'originILG',\n",
              " 'destLIH',\n",
              " 'destSAN',\n",
              " 'originMVY',\n",
              " 'originGTF',\n",
              " 'destPAH',\n",
              " 'originMSO',\n",
              " 'originJHM',\n",
              " 'airlineEmpireAirlinesInc',\n",
              " 'destRDD',\n",
              " 'destSHV',\n",
              " 'destPGD',\n",
              " 'originALS',\n",
              " 'destADQ',\n",
              " 'originDRT',\n",
              " 'originMQT',\n",
              " 'destBQK',\n",
              " 'destSPI',\n",
              " 'originEVV',\n",
              " 'originPLN',\n",
              " 'originGNV',\n",
              " 'WheelsOn',\n",
              " 'originINL',\n",
              " 'airlineAmericanAirlinesInc',\n",
              " 'originDSM',\n",
              " 'destRSW',\n",
              " 'destSTL',\n",
              " 'originLFT',\n",
              " 'destEUG',\n",
              " 'originBKG',\n",
              " 'destOAK',\n",
              " 'destPDX',\n",
              " 'originHIB',\n",
              " 'destROC',\n",
              " 'destMBS',\n",
              " 'originROW',\n",
              " 'originHRL',\n",
              " 'destPGV',\n",
              " 'destBRW',\n",
              " 'originIPT',\n",
              " 'destTBN',\n",
              " 'originFAR',\n",
              " 'originPPG',\n",
              " 'originMMH',\n",
              " 'originGCC',\n",
              " 'destPSM',\n",
              " 'Flight_Number_Marketing_Airline',\n",
              " 'originCRW',\n",
              " 'destDLH',\n",
              " 'originDFW',\n",
              " 'destSPS',\n",
              " 'destAVP',\n",
              " 'originSTL',\n",
              " 'destDAL',\n",
              " 'destBFM',\n",
              " 'destLIT',\n",
              " 'destCOD',\n",
              " 'originCHS',\n",
              " 'destGSP',\n",
              " 'originSRQ',\n",
              " 'originHSV',\n",
              " 'originFCA',\n",
              " 'originONT',\n",
              " 'originXNA',\n",
              " 'destSAT',\n",
              " 'destSHR',\n",
              " 'destSAF',\n",
              " 'Diverted',\n",
              " 'originTBN',\n",
              " 'destBNA',\n",
              " 'DOT_ID_Operating_Airline',\n",
              " 'originLAN',\n",
              " 'airlineSouthwestAirlinesCo',\n",
              " 'originACV',\n",
              " 'destDEC',\n",
              " 'originIAD',\n",
              " 'destMFE',\n",
              " 'originBOI',\n",
              " 'originAEX',\n",
              " 'destMLI',\n",
              " 'destMDT',\n",
              " 'destSTT',\n",
              " 'originRNO',\n",
              " 'originPIB',\n",
              " 'originHVN',\n",
              " 'originJLN',\n",
              " 'destSJT',\n",
              " 'originJAC',\n",
              " 'originBRW',\n",
              " 'destSGF',\n",
              " 'destLBB',\n",
              " 'destUSA',\n",
              " 'airlineFrontierAirlinesInc',\n",
              " 'originSIT',\n",
              " 'destBIS',\n",
              " 'destMCO',\n",
              " 'Month',\n",
              " 'originAVP',\n",
              " 'originBGM',\n",
              " 'originANC',\n",
              " 'destLNY',\n",
              " 'destPSE',\n",
              " 'destMFR',\n",
              " 'destPIE',\n",
              " 'originKOA',\n",
              " 'airlineEndeavorAirInc',\n",
              " 'originIAG',\n",
              " 'destBUF',\n",
              " 'destCOU',\n",
              " 'destCDV',\n",
              " 'originUSA',\n",
              " 'originPSE',\n",
              " 'destVPS',\n",
              " 'originLCH',\n",
              " 'destHTS',\n",
              " 'originERI',\n",
              " 'originGTR',\n",
              " 'destROW',\n",
              " 'destCKB',\n",
              " 'originPHX',\n",
              " 'destDUT',\n",
              " 'originJST',\n",
              " 'originAPN',\n",
              " 'destSUX',\n",
              " 'OriginAirportSeqID',\n",
              " 'originBIH',\n",
              " 'destFOD',\n",
              " 'destRNO',\n",
              " 'destMSY',\n",
              " 'destROP',\n",
              " 'destMTJ',\n",
              " 'originRHI',\n",
              " 'destMHT',\n",
              " 'destABE',\n",
              " 'destHOU',\n",
              " 'destAPN',\n",
              " 'originSTT',\n",
              " 'originCWA',\n",
              " 'originDEC',\n",
              " 'destJAC',\n",
              " 'originRFD',\n",
              " 'destSHD',\n",
              " 'originPSP',\n",
              " 'destIMT',\n",
              " 'destDRO',\n",
              " 'destCLE',\n",
              " 'originDHN',\n",
              " 'originFLG',\n",
              " 'destSMF',\n",
              " 'originHDN',\n",
              " 'originSMX',\n",
              " 'originSHR',\n",
              " 'originMCO',\n",
              " 'Distance',\n",
              " 'originSPN',\n",
              " 'originLSE',\n",
              " 'destMCI',\n",
              " 'originSWF',\n",
              " 'destGJT',\n",
              " 'destSBY',\n",
              " 'originHPN',\n",
              " 'originJNU',\n",
              " 'originDAB',\n",
              " 'destBWI',\n",
              " 'originSHD',\n",
              " 'originART',\n",
              " 'destGCK',\n",
              " 'OriginStateFips',\n",
              " 'destSBA',\n",
              " 'destCWA',\n",
              " 'destART',\n",
              " 'originBOS',\n",
              " 'destRKS',\n",
              " 'destAGS',\n",
              " 'destISP',\n",
              " 'destLAN',\n",
              " 'originORD',\n",
              " 'destGST',\n",
              " 'originFAT',\n",
              " 'originMAF',\n",
              " 'destSTS',\n",
              " 'destABY',\n",
              " 'originLBE',\n",
              " 'originPAE',\n",
              " 'destRAP',\n",
              " 'DestWac',\n",
              " 'originTVC',\n",
              " 'originTXK',\n",
              " 'destEGE',\n",
              " 'originSAT',\n",
              " 'destSGU',\n",
              " 'destMOT',\n",
              " 'destPVD',\n",
              " 'originLNY',\n",
              " 'originBHM',\n",
              " 'originLAR',\n",
              " 'destSTX',\n",
              " 'destMSN',\n",
              " 'originTYS',\n",
              " 'destESC',\n",
              " 'destCVG',\n",
              " 'destEYW',\n",
              " 'WheelsOff',\n",
              " 'originOWB',\n",
              " 'destJAX',\n",
              " 'originBUR',\n",
              " 'originPBI',\n",
              " 'destSCK',\n",
              " 'destMGM',\n",
              " 'destWRG',\n",
              " 'originCDC',\n",
              " 'destLAS',\n",
              " 'destPSC',\n",
              " 'destMCW',\n",
              " 'originMEI',\n",
              " 'destLAR',\n",
              " 'destGGG',\n",
              " 'originMLU',\n",
              " 'originLAX',\n",
              " 'destOGD',\n",
              " 'destALO',\n",
              " 'originPWM',\n",
              " 'destHNL',\n",
              " 'destEAR',\n",
              " 'destGUM',\n",
              " 'destCID',\n",
              " 'originMFE',\n",
              " 'destAZA',\n",
              " 'destAMA',\n",
              " 'originEYW',\n",
              " 'originMTJ',\n",
              " 'originHLN',\n",
              " 'destBFF',\n",
              " 'originPRC',\n",
              " 'airlineSpiritAirLines',\n",
              " 'originBLI',\n",
              " 'airlineEnvoyAir',\n",
              " 'originTOL',\n",
              " 'destPBG',\n",
              " 'originBFF',\n",
              " 'destDVL',\n",
              " 'airlineComairInc',\n",
              " 'originRSW',\n",
              " 'destDTW',\n",
              " 'destILM',\n",
              " 'originLAS',\n",
              " 'originROA',\n",
              " 'originOTZ',\n",
              " 'originAUS',\n",
              " 'originOAK',\n",
              " 'destDEN',\n",
              " 'originCNY',\n",
              " 'destSFB',\n",
              " 'destHYS',\n",
              " 'destDIK',\n",
              " 'destSBN',\n",
              " 'destITH',\n",
              " 'originDLH',\n",
              " 'originMYR',\n",
              " 'destGSO',\n",
              " 'destHSV',\n",
              " 'destATL',\n",
              " 'originPIR',\n",
              " 'destPIH',\n",
              " 'originATL',\n",
              " 'destHIB',\n",
              " 'originPIA',\n",
              " 'destACK',\n",
              " 'originBTR',\n",
              " 'originGRI',\n",
              " 'destGRB',\n",
              " 'destTYS',\n",
              " 'originICT',\n",
              " 'originABY',\n",
              " 'destICT',\n",
              " 'originCAE',\n",
              " 'destROA',\n",
              " 'destMEM',\n",
              " 'originCHA',\n",
              " 'originORF',\n",
              " 'destMRY',\n",
              " 'originMBS',\n",
              " 'destIND',\n",
              " 'destBGM',\n",
              " 'OriginWac',\n",
              " 'airlineCompassAirlines',\n",
              " 'destJHM',\n",
              " 'destCRW',\n",
              " 'originCHO',\n",
              " 'destUIN',\n",
              " 'destHHH',\n",
              " 'airlineHawaiianAirlinesInc',\n",
              " 'originDAY',\n",
              " 'originBZN',\n",
              " 'originCIU',\n",
              " 'originSYR',\n",
              " 'originFOD',\n",
              " 'destSDF',\n",
              " 'destLAW',\n",
              " 'originCLE',\n",
              " 'originJMS',\n",
              " 'originBTV',\n",
              " 'originSUN',\n",
              " 'originCLT',\n",
              " 'originEWN',\n",
              " 'destSAV',\n",
              " 'destSIT',\n",
              " 'originITO',\n",
              " 'originCMI',\n",
              " 'originMKE',\n",
              " 'destAVL',\n",
              " 'originOKC',\n",
              " 'originRIW',\n",
              " 'originITH',\n",
              " 'destPWM',\n",
              " 'originMLB',\n",
              " 'originGPT',\n",
              " 'originMDT',\n",
              " 'originHOB',\n",
              " 'originFAI',\n",
              " 'destOGS',\n",
              " 'DivAirportLandings',\n",
              " 'originRDU',\n",
              " 'destPPG',\n",
              " 'destLAX',\n",
              " 'originSNA',\n",
              " 'originFLL',\n",
              " 'destCDB',\n",
              " 'destBOI',\n",
              " 'originEAR',\n",
              " 'originSMF',\n",
              " 'destPVU',\n",
              " 'originSJU',\n",
              " 'originBQK',\n",
              " 'originABQ',\n",
              " 'originCSG',\n",
              " 'originGST',\n",
              " 'destCLT',\n",
              " 'destGRK',\n",
              " 'destLWS',\n",
              " 'OriginCityMarketID',\n",
              " 'destCHO',\n",
              " 'originWRG',\n",
              " 'destIDA',\n",
              " 'originRST',\n",
              " 'destCOS',\n",
              " 'originMOT',\n",
              " 'destSLC',\n",
              " 'destACT',\n",
              " 'DayofMonth',\n",
              " 'destOMA',\n",
              " 'destBIH',\n",
              " 'originPGD',\n",
              " 'destCHS',\n",
              " 'destTYR',\n",
              " 'destTXK',\n",
              " 'originIND',\n",
              " 'originLGB',\n",
              " 'originECP',\n",
              " 'airlineUnitedAirLinesInc',\n",
              " 'originVEL',\n",
              " 'DistanceGroup',\n",
              " 'destSEA',\n",
              " 'originAGS',\n",
              " 'destMHK',\n",
              " 'destLWB',\n",
              " 'originLBL',\n",
              " 'originIDA',\n",
              " 'originLCK',\n",
              " 'destTUL',\n",
              " 'originAVL',\n",
              " 'destALS',\n",
              " 'destBLI',\n",
              " 'originSJT',\n",
              " 'destLBF',\n",
              " 'destLNK',\n",
              " 'destYAK',\n",
              " 'originSCE',\n",
              " 'destTWF',\n",
              " 'originEKO',\n",
              " 'destIAD',\n",
              " 'destGTR',\n",
              " 'destELM',\n",
              " 'destKTN',\n",
              " 'destOME',\n",
              " 'originSLC',\n",
              " 'originFWA',\n",
              " 'destFAI',\n",
              " 'destYUM',\n",
              " 'originPHF',\n",
              " 'destMEI',\n",
              " 'destLCH',\n",
              " 'originPUB',\n",
              " 'destFSD',\n",
              " 'originDEN',\n",
              " 'destLEX',\n",
              " 'destEWN',\n",
              " 'originRAP',\n",
              " 'destDDC',\n",
              " 'originPIE',\n",
              " 'destISN',\n",
              " 'destGEG',\n",
              " 'originSGF',\n",
              " 'airlineHorizonAir',\n",
              " 'originLGA',\n",
              " 'destBTV',\n",
              " 'originPIH',\n",
              " 'destTOL',\n",
              " 'DestAirportID',\n",
              " 'originMCI',\n",
              " 'originBUF',\n",
              " 'originEAT',\n",
              " 'destTTN',\n",
              " 'destFLO',\n",
              " 'destAKN',\n",
              " 'originAKN',\n",
              " 'destGTF',\n",
              " 'originCAK',\n",
              " 'originEWR',\n",
              " 'originBFM',\n",
              " 'destFWA',\n",
              " 'destDCA',\n",
              " 'originXWA',\n",
              " 'airlineVirginAmerica',\n",
              " 'destBTR',\n",
              " 'originFNT',\n",
              " 'destOAJ',\n",
              " 'DestStateFips',\n",
              " 'ActualElapsedTime',\n",
              " 'destVCT',\n",
              " 'destPIA',\n",
              " 'originVCT',\n",
              " 'originTYR',\n",
              " 'destORH',\n",
              " 'originDTW',\n",
              " 'destEAU',\n",
              " 'originPSM',\n",
              " 'destBRD',\n",
              " 'destHDN',\n",
              " 'destEAT',\n",
              " 'originADQ',\n",
              " 'destRHI',\n",
              " 'originOGS',\n",
              " 'destMQT',\n",
              " 'destWYS',\n",
              " 'originSBN',\n",
              " 'destCAE',\n",
              " 'destATW',\n",
              " 'destBMI',\n",
              " 'destIPT',\n",
              " 'originSBA',\n",
              " 'originMLI',\n",
              " 'originJAN',\n",
              " 'originPHL',\n",
              " 'destMKK',\n",
              " 'originISN',\n",
              " 'destGPT',\n",
              " 'originGRK',\n",
              " 'originFSM',\n",
              " 'destCPR',\n",
              " 'originMKK',\n",
              " 'destADK',\n",
              " 'destBTM',\n",
              " 'destBLV',\n",
              " 'originMRY',\n",
              " 'destFCA',\n",
              " 'destHRL',\n",
              " 'originPGV',\n",
              " 'destHPN',\n",
              " 'originACK',\n",
              " 'originLIT',\n",
              " 'originATY',\n",
              " 'destSPN',\n",
              " 'originACY',\n",
              " 'originFAY',\n",
              " 'originPNS',\n",
              " 'originBPT',\n",
              " 'originOMA',\n",
              " 'originSHV',\n",
              " 'originOGG',\n",
              " 'originJAX',\n",
              " 'originGSP',\n",
              " 'destAUS',\n",
              " 'originJFK',\n",
              " 'originHGR',\n",
              " 'destBJI',\n",
              " 'originCMX']"
            ]
          },
          "execution_count": 58,
          "metadata": {},
          "output_type": "execute_result"
        }
      ],
      "source": [
        "all_columns = list(set(df_transformed.columns).difference(idxer.getOutputCols()))\n",
        "all_columns"
      ]
    },
    {
      "cell_type": "code",
      "execution_count": null,
      "metadata": {
        "colab": {
          "base_uri": "https://localhost:8080/"
        },
        "id": "QpgL92rc2txB",
        "outputId": "8d1b1605-66bd-4f48-b44c-a083c041f4ae"
      },
      "outputs": [
        {
          "name": "stdout",
          "output_type": "stream",
          "text": [
            "root\n",
            " |-- Cancelled: boolean (nullable = true)\n",
            " |-- Diverted: boolean (nullable = true)\n",
            " |-- DepDelay: double (nullable = true)\n",
            " |-- AirTime: double (nullable = true)\n",
            " |-- CRSElapsedTime: double (nullable = true)\n",
            " |-- ActualElapsedTime: double (nullable = true)\n",
            " |-- Distance: double (nullable = true)\n",
            " |-- Year: long (nullable = true)\n",
            " |-- Quarter: long (nullable = true)\n",
            " |-- Month: long (nullable = true)\n",
            " |-- DayofMonth: long (nullable = true)\n",
            " |-- DayOfWeek: long (nullable = true)\n",
            " |-- DOT_ID_Marketing_Airline: long (nullable = true)\n",
            " |-- Flight_Number_Marketing_Airline: long (nullable = true)\n",
            " |-- DOT_ID_Operating_Airline: long (nullable = true)\n",
            " |-- Flight_Number_Operating_Airline: long (nullable = true)\n",
            " |-- OriginAirportID: long (nullable = true)\n",
            " |-- OriginAirportSeqID: long (nullable = true)\n",
            " |-- OriginCityMarketID: long (nullable = true)\n",
            " |-- OriginStateFips: long (nullable = true)\n",
            " |-- OriginWac: long (nullable = true)\n",
            " |-- DestAirportID: long (nullable = true)\n",
            " |-- DestAirportSeqID: long (nullable = true)\n",
            " |-- DestCityMarketID: long (nullable = true)\n",
            " |-- DestStateFips: long (nullable = true)\n",
            " |-- DestWac: long (nullable = true)\n",
            " |-- TaxiOut: double (nullable = true)\n",
            " |-- WheelsOff: double (nullable = true)\n",
            " |-- WheelsOn: double (nullable = true)\n",
            " |-- TaxiIn: double (nullable = true)\n",
            " |-- DistanceGroup: long (nullable = true)\n",
            " |-- DivAirportLandings: double (nullable = true)\n",
            " |-- airlineSouthwestAirlinesCo: double (nullable = true)\n",
            " |-- airlineDeltaAirLinesInc: double (nullable = true)\n",
            " |-- airlineSkyWestAirlinesInc: double (nullable = true)\n",
            " |-- airlineAmericanAirlinesInc: double (nullable = true)\n",
            " |-- airlineUnitedAirLinesInc: double (nullable = true)\n",
            " |-- airlineRepublicAirlines: double (nullable = true)\n",
            " |-- airlineJetBlueAirways: double (nullable = true)\n",
            " |-- airlineEnvoyAir: double (nullable = true)\n",
            " |-- airlineEndeavorAirInc: double (nullable = true)\n",
            " |-- airlineComairInc: double (nullable = true)\n",
            " |-- airlineAlaskaAirlinesInc: double (nullable = true)\n",
            " |-- airlineSpiritAirLines: double (nullable = true)\n",
            " |-- airlineMesaAirlinesInc: double (nullable = true)\n",
            " |-- airlineFrontierAirlinesInc: double (nullable = true)\n",
            " |-- airlineAllegiantAir: double (nullable = true)\n",
            " |-- airlineHorizonAir: double (nullable = true)\n",
            " |-- airlineCapitalCargoInternational: double (nullable = true)\n",
            " |-- airlineAirWisconsinAirlinesCorp: double (nullable = true)\n",
            " |-- airlineExpressJetAirlinesInc: double (nullable = true)\n",
            " |-- airlineHawaiianAirlinesInc: double (nullable = true)\n",
            " |-- airlineGoJetAirlines,LLCd/b/aUnitedExpress: double (nullable = true)\n",
            " |-- airlineCommutairAkaChamplainEnterprises,Inc: double (nullable = true)\n",
            " |-- airlineTransStatesAirlines: double (nullable = true)\n",
            " |-- airlineCompassAirlines: double (nullable = true)\n",
            " |-- airlineVirginAmerica: double (nullable = true)\n",
            " |-- airlineEmpireAirlinesInc: double (nullable = true)\n",
            " |-- airlinePeninsulaAirwaysInc: double (nullable = true)\n",
            " |-- originATL: double (nullable = true)\n",
            " |-- originORD: double (nullable = true)\n",
            " |-- originDEN: double (nullable = true)\n",
            " |-- originDFW: double (nullable = true)\n",
            " |-- originCLT: double (nullable = true)\n",
            " |-- originLAX: double (nullable = true)\n",
            " |-- originSEA: double (nullable = true)\n",
            " |-- originIAH: double (nullable = true)\n",
            " |-- originPHX: double (nullable = true)\n",
            " |-- originLAS: double (nullable = true)\n",
            " |-- originSFO: double (nullable = true)\n",
            " |-- originDTW: double (nullable = true)\n",
            " |-- originMCO: double (nullable = true)\n",
            " |-- originEWR: double (nullable = true)\n",
            " |-- originMSP: double (nullable = true)\n",
            " |-- originLGA: double (nullable = true)\n",
            " |-- originBOS: double (nullable = true)\n",
            " |-- originPHL: double (nullable = true)\n",
            " |-- originSLC: double (nullable = true)\n",
            " |-- originDCA: double (nullable = true)\n",
            " |-- originJFK: double (nullable = true)\n",
            " |-- originBWI: double (nullable = true)\n",
            " |-- originFLL: double (nullable = true)\n",
            " |-- originIAD: double (nullable = true)\n",
            " |-- originSAN: double (nullable = true)\n",
            " |-- originMIA: double (nullable = true)\n",
            " |-- originMDW: double (nullable = true)\n",
            " |-- originBNA: double (nullable = true)\n",
            " |-- originTPA: double (nullable = true)\n",
            " |-- originPDX: double (nullable = true)\n",
            " |-- originDAL: double (nullable = true)\n",
            " |-- originAUS: double (nullable = true)\n",
            " |-- originSTL: double (nullable = true)\n",
            " |-- originHOU: double (nullable = true)\n",
            " |-- originSJC: double (nullable = true)\n",
            " |-- originRDU: double (nullable = true)\n",
            " |-- originHNL: double (nullable = true)\n",
            " |-- originSMF: double (nullable = true)\n",
            " |-- originMSY: double (nullable = true)\n",
            " |-- originOAK: double (nullable = true)\n",
            " |-- originMCI: double (nullable = true)\n",
            " |-- originIND: double (nullable = true)\n",
            " |-- originCLE: double (nullable = true)\n",
            " |-- originPIT: double (nullable = true)\n",
            " |-- originCVG: double (nullable = true)\n",
            " |-- originSNA: double (nullable = true)\n",
            " |-- originCMH: double (nullable = true)\n",
            " |-- originRSW: double (nullable = true)\n",
            " |-- originSAT: double (nullable = true)\n",
            " |-- originMKE: double (nullable = true)\n",
            " |-- originJAX: double (nullable = true)\n",
            " |-- originSJU: double (nullable = true)\n",
            " |-- originBUR: double (nullable = true)\n",
            " |-- originOGG: double (nullable = true)\n",
            " |-- originBOI: double (nullable = true)\n",
            " |-- originBDL: double (nullable = true)\n",
            " |-- originCHS: double (nullable = true)\n",
            " |-- originOMA: double (nullable = true)\n",
            " |-- originPBI: double (nullable = true)\n",
            " |-- originSDF: double (nullable = true)\n",
            " |-- originRIC: double (nullable = true)\n",
            " |-- originABQ: double (nullable = true)\n",
            " |-- originBUF: double (nullable = true)\n",
            " |-- originMEM: double (nullable = true)\n",
            " |-- originOKC: double (nullable = true)\n",
            " |-- originONT: double (nullable = true)\n",
            " |-- originORF: double (nullable = true)\n",
            " |-- originRNO: double (nullable = true)\n",
            " |-- originGEG: double (nullable = true)\n",
            " |-- originANC: double (nullable = true)\n",
            " |-- originGRR: double (nullable = true)\n",
            " |-- originTUS: double (nullable = true)\n",
            " |-- originTYS: double (nullable = true)\n",
            " |-- originSAV: double (nullable = true)\n",
            " |-- originELP: double (nullable = true)\n",
            " |-- originBHM: double (nullable = true)\n",
            " |-- originTUL: double (nullable = true)\n",
            " |-- originPVD: double (nullable = true)\n",
            " |-- originDSM: double (nullable = true)\n",
            " |-- originKOA: double (nullable = true)\n",
            " |-- originLGB: double (nullable = true)\n",
            " |-- originROC: double (nullable = true)\n",
            " |-- originGSP: double (nullable = true)\n",
            " |-- originALB: double (nullable = true)\n",
            " |-- originSYR: double (nullable = true)\n",
            " |-- originGSO: double (nullable = true)\n",
            " |-- originMYR: double (nullable = true)\n",
            " |-- originLIH: double (nullable = true)\n",
            " |-- originLIT: double (nullable = true)\n",
            " |-- originDAY: double (nullable = true)\n",
            " |-- originMSN: double (nullable = true)\n",
            " |-- originPSP: double (nullable = true)\n",
            " |-- originPNS: double (nullable = true)\n",
            " |-- originXNA: double (nullable = true)\n",
            " |-- originPWM: double (nullable = true)\n",
            " |-- originFAT: double (nullable = true)\n",
            " |-- originSRQ: double (nullable = true)\n",
            " |-- originCOS: double (nullable = true)\n",
            " |-- originICT: double (nullable = true)\n",
            " |-- originSFB: double (nullable = true)\n",
            " |-- originLEX: double (nullable = true)\n",
            " |-- originBZN: double (nullable = true)\n",
            " |-- originMDT: double (nullable = true)\n",
            " |-- originAVL: double (nullable = true)\n",
            " |-- originVPS: double (nullable = true)\n",
            " |-- originHPN: double (nullable = true)\n",
            " |-- originSGF: double (nullable = true)\n",
            " |-- originCID: double (nullable = true)\n",
            " |-- originHSV: double (nullable = true)\n",
            " |-- originBTV: double (nullable = true)\n",
            " |-- originCAE: double (nullable = true)\n",
            " |-- originMAF: double (nullable = true)\n",
            " |-- originEUG: double (nullable = true)\n",
            " |-- originMHT: double (nullable = true)\n",
            " |-- originMFR: double (nullable = true)\n",
            " |-- originRDM: double (nullable = true)\n",
            " |-- originPIE: double (nullable = true)\n",
            " |-- originFSD: double (nullable = true)\n",
            " |-- originCHA: double (nullable = true)\n",
            " |-- originECP: double (nullable = true)\n",
            " |-- originJAN: double (nullable = true)\n",
            " |-- originILM: double (nullable = true)\n",
            " |-- originSBA: double (nullable = true)\n",
            " |-- originEYW: double (nullable = true)\n",
            " |-- originFAR: double (nullable = true)\n",
            " |-- originFWA: double (nullable = true)\n",
            " |-- originSBN: double (nullable = true)\n",
            " |-- originLBB: double (nullable = true)\n",
            " |-- originATW: double (nullable = true)\n",
            " |-- originCHO: double (nullable = true)\n",
            " |-- originPGD: double (nullable = true)\n",
            " |-- originBTR: double (nullable = true)\n",
            " |-- originAZA: double (nullable = true)\n",
            " |-- originPSC: double (nullable = true)\n",
            " |-- originITO: double (nullable = true)\n",
            " |-- originASE: double (nullable = true)\n",
            " |-- originROA: double (nullable = true)\n",
            " |-- originISP: double (nullable = true)\n",
            " |-- originSHV: double (nullable = true)\n",
            " |-- originMSO: double (nullable = true)\n",
            " |-- originMOB: double (nullable = true)\n",
            " |-- originRAP: double (nullable = true)\n",
            " |-- originCAK: double (nullable = true)\n",
            " |-- originABE: double (nullable = true)\n",
            " |-- originGRB: double (nullable = true)\n",
            " |-- originCRP: double (nullable = true)\n",
            " |-- originTLH: double (nullable = true)\n",
            " |-- originMLI: double (nullable = true)\n",
            " |-- originAMA: double (nullable = true)\n",
            " |-- originBIL: double (nullable = true)\n",
            " |-- originJAC: double (nullable = true)\n",
            " |-- originFCA: double (nullable = true)\n",
            " |-- originTVC: double (nullable = true)\n",
            " |-- originSBP: double (nullable = true)\n",
            " |-- originBGR: double (nullable = true)\n",
            " |-- originMFE: double (nullable = true)\n",
            " |-- originLFT: double (nullable = true)\n",
            " |-- originPIA: double (nullable = true)\n",
            " |-- originSTT: double (nullable = true)\n",
            " |-- originAGS: double (nullable = true)\n",
            " |-- originGJT: double (nullable = true)\n",
            " |-- originBIS: double (nullable = true)\n",
            " |-- originFAI: double (nullable = true)\n",
            " |-- originEVV: double (nullable = true)\n",
            " |-- originJNU: double (nullable = true)\n",
            " |-- originHRL: double (nullable = true)\n",
            " |-- originCRW: double (nullable = true)\n",
            " |-- originGPT: double (nullable = true)\n",
            " |-- originMRY: double (nullable = true)\n",
            " |-- originFNT: double (nullable = true)\n",
            " |-- originAVP: double (nullable = true)\n",
            " |-- originGNV: double (nullable = true)\n",
            " |-- originDRO: double (nullable = true)\n",
            " |-- originSTS: double (nullable = true)\n",
            " |-- originSCE: double (nullable = true)\n",
            " |-- originMGM: double (nullable = true)\n",
            " |-- originTRI: double (nullable = true)\n",
            " |-- originFAY: double (nullable = true)\n",
            " |-- originPAE: double (nullable = true)\n",
            " |-- originIDA: double (nullable = true)\n",
            " |-- originACY: double (nullable = true)\n",
            " |-- originSGU: double (nullable = true)\n",
            " |-- originRST: double (nullable = true)\n",
            " |-- originDAB: double (nullable = true)\n",
            " |-- originBLI: double (nullable = true)\n",
            " |-- originLAN: double (nullable = true)\n",
            " |-- originGTF: double (nullable = true)\n",
            " |-- originMTJ: double (nullable = true)\n",
            " |-- originAEX: double (nullable = true)\n",
            " |-- originOAJ: double (nullable = true)\n",
            " |-- originLNK: double (nullable = true)\n",
            " |-- originGRK: double (nullable = true)\n",
            " |-- originAZO: double (nullable = true)\n",
            " |-- originCWA: double (nullable = true)\n",
            " |-- originDLH: double (nullable = true)\n",
            " |-- originMOT: double (nullable = true)\n",
            " |-- originPHF: double (nullable = true)\n",
            " |-- originBMI: double (nullable = true)\n",
            " |-- originMLU: double (nullable = true)\n",
            " |-- originEGE: double (nullable = true)\n",
            " |-- originBFL: double (nullable = true)\n",
            " |-- originBRO: double (nullable = true)\n",
            " |-- originTTN: double (nullable = true)\n",
            " |-- originHHH: double (nullable = true)\n",
            " |-- originMLB: double (nullable = true)\n",
            " |-- originMBS: double (nullable = true)\n",
            " |-- originSAF: double (nullable = true)\n",
            " |-- originLRD: double (nullable = true)\n",
            " |-- originCOU: double (nullable = true)\n",
            " |-- originKTN: double (nullable = true)\n",
            " |-- originHDN: double (nullable = true)\n",
            " |-- originFLG: double (nullable = true)\n",
            " |-- originCPR: double (nullable = true)\n",
            " |-- originCMI: double (nullable = true)\n",
            " |-- originITH: double (nullable = true)\n",
            " |-- originABI: double (nullable = true)\n",
            " |-- originHLN: double (nullable = true)\n",
            " |-- originCLL: double (nullable = true)\n",
            " |-- originERI: double (nullable = true)\n",
            " |-- originBQN: double (nullable = true)\n",
            " |-- originLSE: double (nullable = true)\n",
            " |-- originACV: double (nullable = true)\n",
            " |-- originLCH: double (nullable = true)\n",
            " |-- originEWN: double (nullable = true)\n",
            " |-- originELM: double (nullable = true)\n",
            " |-- originSUN: double (nullable = true)\n",
            " |-- originLYH: double (nullable = true)\n",
            " |-- originSWF: double (nullable = true)\n",
            " |-- originYUM: double (nullable = true)\n",
            " |-- originGFK: double (nullable = true)\n",
            " |-- originSJT: double (nullable = true)\n",
            " |-- originSPI: double (nullable = true)\n",
            " |-- originTOL: double (nullable = true)\n",
            " |-- originSBY: double (nullable = true)\n",
            " |-- originFSM: double (nullable = true)\n",
            " |-- originACT: double (nullable = true)\n",
            " |-- originMHK: double (nullable = true)\n",
            " |-- originACK: double (nullable = true)\n",
            " |-- originCSG: double (nullable = true)\n",
            " |-- originHTS: double (nullable = true)\n",
            " |-- originRDD: double (nullable = true)\n",
            " |-- originTYR: double (nullable = true)\n",
            " |-- originMQT: double (nullable = true)\n",
            " |-- originBLV: double (nullable = true)\n",
            " |-- originUSA: double (nullable = true)\n",
            " |-- originLCK: double (nullable = true)\n",
            " |-- originSIT: double (nullable = true)\n",
            " |-- originPUW: double (nullable = true)\n",
            " |-- originORH: double (nullable = true)\n",
            " |-- originDHN: double (nullable = true)\n",
            " |-- originPBG: double (nullable = true)\n",
            " |-- originROW: double (nullable = true)\n",
            " |-- originSTX: double (nullable = true)\n",
            " |-- originLBE: double (nullable = true)\n",
            " |-- originLAW: double (nullable = true)\n",
            " |-- originTXK: double (nullable = true)\n",
            " |-- originSPS: double (nullable = true)\n",
            " |-- originCOD: double (nullable = true)\n",
            " |-- originGTR: double (nullable = true)\n",
            " |-- originJMS: double (nullable = true)\n",
            " |-- originPGV: double (nullable = true)\n",
            " |-- originTWF: double (nullable = true)\n",
            " |-- originLWS: double (nullable = true)\n",
            " |-- originVLD: double (nullable = true)\n",
            " |-- originHYS: double (nullable = true)\n",
            " |-- originYKM: double (nullable = true)\n",
            " |-- originGRI: double (nullable = true)\n",
            " |-- originEAT: double (nullable = true)\n",
            " |-- originGUM: double (nullable = true)\n",
            " |-- originBQK: double (nullable = true)\n",
            " |-- originCKB: double (nullable = true)\n",
            " |-- originABY: double (nullable = true)\n",
            " |-- originSUX: double (nullable = true)\n",
            " |-- originPAH: double (nullable = true)\n",
            " |-- originPIH: double (nullable = true)\n",
            " |-- originGUC: double (nullable = true)\n",
            " |-- originJLN: double (nullable = true)\n",
            " |-- originPLN: double (nullable = true)\n",
            " |-- originFLO: double (nullable = true)\n",
            " |-- originPUB: double (nullable = true)\n",
            " |-- originBPT: double (nullable = true)\n",
            " |-- originPVU: double (nullable = true)\n",
            " |-- originSLN: double (nullable = true)\n",
            " |-- originSCK: double (nullable = true)\n",
            " |-- originLNY: double (nullable = true)\n",
            " |-- originRFD: double (nullable = true)\n",
            " |-- originALW: double (nullable = true)\n",
            " |-- originGGG: double (nullable = true)\n",
            " |-- originGCC: double (nullable = true)\n",
            " |-- originRHI: double (nullable = true)\n",
            " |-- originXWA: double (nullable = true)\n",
            " |-- originEAU: double (nullable = true)\n",
            " |-- originSHD: double (nullable = true)\n",
            " |-- originCMX: double (nullable = true)\n",
            " |-- originWRG: double (nullable = true)\n",
            " |-- originMEI: double (nullable = true)\n",
            " |-- originPSG: double (nullable = true)\n",
            " |-- originCDV: double (nullable = true)\n",
            " |-- originCGI: double (nullable = true)\n",
            " |-- originBET: double (nullable = true)\n",
            " |-- originISN: double (nullable = true)\n",
            " |-- originMKG: double (nullable = true)\n",
            " |-- originYAK: double (nullable = true)\n",
            " |-- originABR: double (nullable = true)\n",
            " |-- originADQ: double (nullable = true)\n",
            " |-- originSCC: double (nullable = true)\n",
            " |-- originBJI: double (nullable = true)\n",
            " |-- originPRC: double (nullable = true)\n",
            " |-- originEAR: double (nullable = true)\n",
            " |-- originBFF: double (nullable = true)\n",
            " |-- originIMT: double (nullable = true)\n",
            " |-- originCIU: double (nullable = true)\n",
            " |-- originLBF: double (nullable = true)\n",
            " |-- originDBQ: double (nullable = true)\n",
            " |-- originIAG: double (nullable = true)\n",
            " |-- originGCK: double (nullable = true)\n",
            " |-- originLWB: double (nullable = true)\n",
            " |-- originRKS: double (nullable = true)\n",
            " |-- originSWO: double (nullable = true)\n",
            " |-- originDVL: double (nullable = true)\n",
            " |-- originLAR: double (nullable = true)\n",
            " |-- originBTM: double (nullable = true)\n",
            " |-- originMVY: double (nullable = true)\n",
            " |-- originLBL: double (nullable = true)\n",
            " |-- originCNY: double (nullable = true)\n",
            " |-- originOME: double (nullable = true)\n",
            " |-- originESC: double (nullable = true)\n",
            " |-- originOTZ: double (nullable = true)\n",
            " |-- originPIB: double (nullable = true)\n",
            " |-- originDIK: double (nullable = true)\n",
            " |-- originHOB: double (nullable = true)\n",
            " |-- originBRD: double (nullable = true)\n",
            " |-- originART: double (nullable = true)\n",
            " |-- originHIB: double (nullable = true)\n",
            " |-- originINL: double (nullable = true)\n",
            " |-- originCDC: double (nullable = true)\n",
            " |-- originAPN: double (nullable = true)\n",
            " |-- originPSE: double (nullable = true)\n",
            " |-- originEKO: double (nullable = true)\n",
            " |-- originBGM: double (nullable = true)\n",
            " |-- originVEL: double (nullable = true)\n",
            " |-- originMKK: double (nullable = true)\n",
            " |-- originALO: double (nullable = true)\n",
            " |-- originDRT: double (nullable = true)\n",
            " |-- originBRW: double (nullable = true)\n",
            " |-- originSPN: double (nullable = true)\n",
            " |-- originPQI: double (nullable = true)\n",
            " |-- originOGS: double (nullable = true)\n",
            " |-- originHVN: double (nullable = true)\n",
            " |-- originPIR: double (nullable = true)\n",
            " |-- originJHM: double (nullable = true)\n",
            " |-- originATY: double (nullable = true)\n",
            " |-- originDEC: double (nullable = true)\n",
            " |-- originPSM: double (nullable = true)\n",
            " |-- originOTH: double (nullable = true)\n",
            " |-- originIPT: double (nullable = true)\n",
            " |-- originSHR: double (nullable = true)\n",
            " |-- originUIN: double (nullable = true)\n",
            " |-- originDDC: double (nullable = true)\n",
            " |-- originRIW: double (nullable = true)\n",
            " |-- originCYS: double (nullable = true)\n",
            " |-- originWYS: double (nullable = true)\n",
            " |-- originDUT: double (nullable = true)\n",
            " |-- originJST: double (nullable = true)\n",
            " |-- originAKN: double (nullable = true)\n",
            " |-- originMMH: double (nullable = true)\n",
            " |-- originVCT: double (nullable = true)\n",
            " |-- originDLG: double (nullable = true)\n",
            " |-- originALS: double (nullable = true)\n",
            " |-- originSMX: double (nullable = true)\n",
            " |-- originFOD: double (nullable = true)\n",
            " |-- originMCW: double (nullable = true)\n",
            " |-- originHGR: double (nullable = true)\n",
            " |-- originSTC: double (nullable = true)\n",
            " |-- originBKG: double (nullable = true)\n",
            " |-- originTBN: double (nullable = true)\n",
            " |-- originOWB: double (nullable = true)\n",
            " |-- originOGD: double (nullable = true)\n",
            " |-- originADK: double (nullable = true)\n",
            " |-- originHYA: double (nullable = true)\n",
            " |-- originGST: double (nullable = true)\n",
            " |-- originPPG: double (nullable = true)\n",
            " |-- originBIH: double (nullable = true)\n",
            " |-- originCDB: double (nullable = true)\n",
            " |-- originBFM: double (nullable = true)\n",
            " |-- originILG: double (nullable = true)\n",
            " |-- originROP: double (nullable = true)\n",
            " |-- destATL: double (nullable = true)\n",
            " |-- destORD: double (nullable = true)\n",
            " |-- destDEN: double (nullable = true)\n",
            " |-- destDFW: double (nullable = true)\n",
            " |-- destCLT: double (nullable = true)\n",
            " |-- destLAX: double (nullable = true)\n",
            " |-- destSEA: double (nullable = true)\n",
            " |-- destIAH: double (nullable = true)\n",
            " |-- destPHX: double (nullable = true)\n",
            " |-- destLAS: double (nullable = true)\n",
            " |-- destSFO: double (nullable = true)\n",
            " |-- destDTW: double (nullable = true)\n",
            " |-- destMCO: double (nullable = true)\n",
            " |-- destEWR: double (nullable = true)\n",
            " |-- destMSP: double (nullable = true)\n",
            " |-- destLGA: double (nullable = true)\n",
            " |-- destBOS: double (nullable = true)\n",
            " |-- destPHL: double (nullable = true)\n",
            " |-- destSLC: double (nullable = true)\n",
            " |-- destDCA: double (nullable = true)\n",
            " |-- destJFK: double (nullable = true)\n",
            " |-- destBWI: double (nullable = true)\n",
            " |-- destFLL: double (nullable = true)\n",
            " |-- destIAD: double (nullable = true)\n",
            " |-- destSAN: double (nullable = true)\n",
            " |-- destMIA: double (nullable = true)\n",
            " |-- destMDW: double (nullable = true)\n",
            " |-- destBNA: double (nullable = true)\n",
            " |-- destTPA: double (nullable = true)\n",
            " |-- destPDX: double (nullable = true)\n",
            " |-- destDAL: double (nullable = true)\n",
            " |-- destAUS: double (nullable = true)\n",
            " |-- destSTL: double (nullable = true)\n",
            " |-- destHOU: double (nullable = true)\n",
            " |-- destSJC: double (nullable = true)\n",
            " |-- destRDU: double (nullable = true)\n",
            " |-- destHNL: double (nullable = true)\n",
            " |-- destSMF: double (nullable = true)\n",
            " |-- destMSY: double (nullable = true)\n",
            " |-- destMCI: double (nullable = true)\n",
            " |-- destOAK: double (nullable = true)\n",
            " |-- destIND: double (nullable = true)\n",
            " |-- destCLE: double (nullable = true)\n",
            " |-- destPIT: double (nullable = true)\n",
            " |-- destCVG: double (nullable = true)\n",
            " |-- destSNA: double (nullable = true)\n",
            " |-- destCMH: double (nullable = true)\n",
            " |-- destRSW: double (nullable = true)\n",
            " |-- destSAT: double (nullable = true)\n",
            " |-- destMKE: double (nullable = true)\n",
            " |-- destJAX: double (nullable = true)\n",
            " |-- destSJU: double (nullable = true)\n",
            " |-- destBUR: double (nullable = true)\n",
            " |-- destOGG: double (nullable = true)\n",
            " |-- destBOI: double (nullable = true)\n",
            " |-- destBDL: double (nullable = true)\n",
            " |-- destCHS: double (nullable = true)\n",
            " |-- destOMA: double (nullable = true)\n",
            " |-- destPBI: double (nullable = true)\n",
            " |-- destSDF: double (nullable = true)\n",
            " |-- destRIC: double (nullable = true)\n",
            " |-- destABQ: double (nullable = true)\n",
            " |-- destBUF: double (nullable = true)\n",
            " |-- destMEM: double (nullable = true)\n",
            " |-- destOKC: double (nullable = true)\n",
            " |-- destONT: double (nullable = true)\n",
            " |-- destORF: double (nullable = true)\n",
            " |-- destRNO: double (nullable = true)\n",
            " |-- destGEG: double (nullable = true)\n",
            " |-- destANC: double (nullable = true)\n",
            " |-- destGRR: double (nullable = true)\n",
            " |-- destTUS: double (nullable = true)\n",
            " |-- destTYS: double (nullable = true)\n",
            " |-- destSAV: double (nullable = true)\n",
            " |-- destELP: double (nullable = true)\n",
            " |-- destBHM: double (nullable = true)\n",
            " |-- destTUL: double (nullable = true)\n",
            " |-- destPVD: double (nullable = true)\n",
            " |-- destDSM: double (nullable = true)\n",
            " |-- destKOA: double (nullable = true)\n",
            " |-- destLGB: double (nullable = true)\n",
            " |-- destROC: double (nullable = true)\n",
            " |-- destGSP: double (nullable = true)\n",
            " |-- destALB: double (nullable = true)\n",
            " |-- destSYR: double (nullable = true)\n",
            " |-- destGSO: double (nullable = true)\n",
            " |-- destMYR: double (nullable = true)\n",
            " |-- destLIH: double (nullable = true)\n",
            " |-- destLIT: double (nullable = true)\n",
            " |-- destDAY: double (nullable = true)\n",
            " |-- destMSN: double (nullable = true)\n",
            " |-- destPSP: double (nullable = true)\n",
            " |-- destPNS: double (nullable = true)\n",
            " |-- destXNA: double (nullable = true)\n",
            " |-- destPWM: double (nullable = true)\n",
            " |-- destFAT: double (nullable = true)\n",
            " |-- destSRQ: double (nullable = true)\n",
            " |-- destCOS: double (nullable = true)\n",
            " |-- destICT: double (nullable = true)\n",
            " |-- destSFB: double (nullable = true)\n",
            " |-- destLEX: double (nullable = true)\n",
            " |-- destBZN: double (nullable = true)\n",
            " |-- destMDT: double (nullable = true)\n",
            " |-- destAVL: double (nullable = true)\n",
            " |-- destVPS: double (nullable = true)\n",
            " |-- destSGF: double (nullable = true)\n",
            " |-- destCID: double (nullable = true)\n",
            " |-- destHPN: double (nullable = true)\n",
            " |-- destHSV: double (nullable = true)\n",
            " |-- destBTV: double (nullable = true)\n",
            " |-- destCAE: double (nullable = true)\n",
            " |-- destMAF: double (nullable = true)\n",
            " |-- destMHT: double (nullable = true)\n",
            " |-- destEUG: double (nullable = true)\n",
            " |-- destMFR: double (nullable = true)\n",
            " |-- destRDM: double (nullable = true)\n",
            " |-- destPIE: double (nullable = true)\n",
            " |-- destFSD: double (nullable = true)\n",
            " |-- destECP: double (nullable = true)\n",
            " |-- destCHA: double (nullable = true)\n",
            " |-- destJAN: double (nullable = true)\n",
            " |-- destILM: double (nullable = true)\n",
            " |-- destSBA: double (nullable = true)\n",
            " |-- destEYW: double (nullable = true)\n",
            " |-- destFAR: double (nullable = true)\n",
            " |-- destFWA: double (nullable = true)\n",
            " |-- destSBN: double (nullable = true)\n",
            " |-- destLBB: double (nullable = true)\n",
            " |-- destATW: double (nullable = true)\n",
            " |-- destCHO: double (nullable = true)\n",
            " |-- destPGD: double (nullable = true)\n",
            " |-- destBTR: double (nullable = true)\n",
            " |-- destAZA: double (nullable = true)\n",
            " |-- destITO: double (nullable = true)\n",
            " |-- destPSC: double (nullable = true)\n",
            " |-- destASE: double (nullable = true)\n",
            " |-- destROA: double (nullable = true)\n",
            " |-- destISP: double (nullable = true)\n",
            " |-- destSHV: double (nullable = true)\n",
            " |-- destMSO: double (nullable = true)\n",
            " |-- destMOB: double (nullable = true)\n",
            " |-- destRAP: double (nullable = true)\n",
            " |-- destCAK: double (nullable = true)\n",
            " |-- destABE: double (nullable = true)\n",
            " |-- destGRB: double (nullable = true)\n",
            " |-- destCRP: double (nullable = true)\n",
            " |-- destTLH: double (nullable = true)\n",
            " |-- destMLI: double (nullable = true)\n",
            " |-- destAMA: double (nullable = true)\n",
            " |-- destBIL: double (nullable = true)\n",
            " |-- destJAC: double (nullable = true)\n",
            " |-- destFCA: double (nullable = true)\n",
            " |-- destTVC: double (nullable = true)\n",
            " |-- destSBP: double (nullable = true)\n",
            " |-- destBGR: double (nullable = true)\n",
            " |-- destMFE: double (nullable = true)\n",
            " |-- destSTT: double (nullable = true)\n",
            " |-- destLFT: double (nullable = true)\n",
            " |-- destPIA: double (nullable = true)\n",
            " |-- destAGS: double (nullable = true)\n",
            " |-- destGJT: double (nullable = true)\n",
            " |-- destBIS: double (nullable = true)\n",
            " |-- destFAI: double (nullable = true)\n",
            " |-- destEVV: double (nullable = true)\n",
            " |-- destJNU: double (nullable = true)\n",
            " |-- destHRL: double (nullable = true)\n",
            " |-- destCRW: double (nullable = true)\n",
            " |-- destGPT: double (nullable = true)\n",
            " |-- destMRY: double (nullable = true)\n",
            " |-- destAVP: double (nullable = true)\n",
            " |-- destFNT: double (nullable = true)\n",
            " |-- destGNV: double (nullable = true)\n",
            " |-- destDRO: double (nullable = true)\n",
            " |-- destSTS: double (nullable = true)\n",
            " |-- destMGM: double (nullable = true)\n",
            " |-- destSCE: double (nullable = true)\n",
            " |-- destTRI: double (nullable = true)\n",
            " |-- destFAY: double (nullable = true)\n",
            " |-- destPAE: double (nullable = true)\n",
            " |-- destIDA: double (nullable = true)\n",
            " |-- destACY: double (nullable = true)\n",
            " |-- destSGU: double (nullable = true)\n",
            " |-- destRST: double (nullable = true)\n",
            " |-- destDAB: double (nullable = true)\n",
            " |-- destBLI: double (nullable = true)\n",
            " |-- destLAN: double (nullable = true)\n",
            " |-- destMTJ: double (nullable = true)\n",
            " |-- destGTF: double (nullable = true)\n",
            " |-- destAEX: double (nullable = true)\n",
            " |-- destOAJ: double (nullable = true)\n",
            " |-- destLNK: double (nullable = true)\n",
            " |-- destGRK: double (nullable = true)\n",
            " |-- destAZO: double (nullable = true)\n",
            " |-- destCWA: double (nullable = true)\n",
            " |-- destDLH: double (nullable = true)\n",
            " |-- destMOT: double (nullable = true)\n",
            " |-- destPHF: double (nullable = true)\n",
            " |-- destBMI: double (nullable = true)\n",
            " |-- destMLU: double (nullable = true)\n",
            " |-- destEGE: double (nullable = true)\n",
            " |-- destBFL: double (nullable = true)\n",
            " |-- destBRO: double (nullable = true)\n",
            " |-- destTTN: double (nullable = true)\n",
            " |-- destHHH: double (nullable = true)\n",
            " |-- destMLB: double (nullable = true)\n",
            " |-- destMBS: double (nullable = true)\n",
            " |-- destSAF: double (nullable = true)\n",
            " |-- destLRD: double (nullable = true)\n",
            " |-- destCOU: double (nullable = true)\n",
            " |-- destKTN: double (nullable = true)\n",
            " |-- destHDN: double (nullable = true)\n",
            " |-- destFLG: double (nullable = true)\n",
            " |-- destCPR: double (nullable = true)\n",
            " |-- destCMI: double (nullable = true)\n",
            " |-- destITH: double (nullable = true)\n",
            " |-- destABI: double (nullable = true)\n",
            " |-- destHLN: double (nullable = true)\n",
            " |-- destCLL: double (nullable = true)\n",
            " |-- destERI: double (nullable = true)\n",
            " |-- destBQN: double (nullable = true)\n",
            " |-- destLSE: double (nullable = true)\n",
            " |-- destACV: double (nullable = true)\n",
            " |-- destLCH: double (nullable = true)\n",
            " |-- destEWN: double (nullable = true)\n",
            " |-- destELM: double (nullable = true)\n",
            " |-- destSUN: double (nullable = true)\n",
            " |-- destLYH: double (nullable = true)\n",
            " |-- destSWF: double (nullable = true)\n",
            " |-- destYUM: double (nullable = true)\n",
            " |-- destGFK: double (nullable = true)\n",
            " |-- destSJT: double (nullable = true)\n",
            " |-- destSPI: double (nullable = true)\n",
            " |-- destTOL: double (nullable = true)\n",
            " |-- destSBY: double (nullable = true)\n",
            " |-- destFSM: double (nullable = true)\n",
            " |-- destACT: double (nullable = true)\n",
            " |-- destMHK: double (nullable = true)\n",
            " |-- destACK: double (nullable = true)\n",
            " |-- destHTS: double (nullable = true)\n",
            " |-- destRDD: double (nullable = true)\n",
            " |-- destCSG: double (nullable = true)\n",
            " |-- destTYR: double (nullable = true)\n",
            " |-- destMQT: double (nullable = true)\n",
            " |-- destBLV: double (nullable = true)\n",
            " |-- destUSA: double (nullable = true)\n",
            " |-- destSIT: double (nullable = true)\n",
            " |-- destLCK: double (nullable = true)\n",
            " |-- destPUW: double (nullable = true)\n",
            " |-- destORH: double (nullable = true)\n",
            " |-- destDHN: double (nullable = true)\n",
            " |-- destPBG: double (nullable = true)\n",
            " |-- destROW: double (nullable = true)\n",
            " |-- destSTX: double (nullable = true)\n",
            " |-- destLBE: double (nullable = true)\n",
            " |-- destLAW: double (nullable = true)\n",
            " |-- destTXK: double (nullable = true)\n",
            " |-- destSPS: double (nullable = true)\n",
            " |-- destCOD: double (nullable = true)\n",
            " |-- destJMS: double (nullable = true)\n",
            " |-- destGTR: double (nullable = true)\n",
            " |-- destPGV: double (nullable = true)\n",
            " |-- destLWS: double (nullable = true)\n",
            " |-- destVLD: double (nullable = true)\n",
            " |-- destHYS: double (nullable = true)\n",
            " |-- destYKM: double (nullable = true)\n",
            " |-- destGRI: double (nullable = true)\n",
            " |-- destEAT: double (nullable = true)\n",
            " |-- destGUM: double (nullable = true)\n",
            " |-- destBQK: double (nullable = true)\n",
            " |-- destCKB: double (nullable = true)\n",
            " |-- destABY: double (nullable = true)\n",
            " |-- destSUX: double (nullable = true)\n",
            " |-- destTWF: double (nullable = true)\n",
            " |-- destPAH: double (nullable = true)\n",
            " |-- destPIH: double (nullable = true)\n",
            " |-- destGUC: double (nullable = true)\n",
            " |-- destJLN: double (nullable = true)\n",
            " |-- destPLN: double (nullable = true)\n",
            " |-- destFLO: double (nullable = true)\n",
            " |-- destPUB: double (nullable = true)\n",
            " |-- destBPT: double (nullable = true)\n",
            " |-- destPVU: double (nullable = true)\n",
            " |-- destSLN: double (nullable = true)\n",
            " |-- destSCK: double (nullable = true)\n",
            " |-- destLNY: double (nullable = true)\n",
            " |-- destRFD: double (nullable = true)\n",
            " |-- destALW: double (nullable = true)\n",
            " |-- destGGG: double (nullable = true)\n",
            " |-- destGCC: double (nullable = true)\n",
            " |-- destRHI: double (nullable = true)\n",
            " |-- destXWA: double (nullable = true)\n",
            " |-- destSHD: double (nullable = true)\n",
            " |-- destEAU: double (nullable = true)\n",
            " |-- destPSG: double (nullable = true)\n",
            " |-- destWRG: double (nullable = true)\n",
            " |-- destMEI: double (nullable = true)\n",
            " |-- destCMX: double (nullable = true)\n",
            " |-- destCDV: double (nullable = true)\n",
            " |-- destISN: double (nullable = true)\n",
            " |-- destCGI: double (nullable = true)\n",
            " |-- destBET: double (nullable = true)\n",
            " |-- destMKG: double (nullable = true)\n",
            " |-- destYAK: double (nullable = true)\n",
            " |-- destSCC: double (nullable = true)\n",
            " |-- destABR: double (nullable = true)\n",
            " |-- destADQ: double (nullable = true)\n",
            " |-- destBJI: double (nullable = true)\n",
            " |-- destPRC: double (nullable = true)\n",
            " |-- destBFF: double (nullable = true)\n",
            " |-- destEAR: double (nullable = true)\n",
            " |-- destLBF: double (nullable = true)\n",
            " |-- destIMT: double (nullable = true)\n",
            " |-- destCIU: double (nullable = true)\n",
            " |-- destDBQ: double (nullable = true)\n",
            " |-- destLWB: double (nullable = true)\n",
            " |-- destGCK: double (nullable = true)\n",
            " |-- destIAG: double (nullable = true)\n",
            " |-- destDVL: double (nullable = true)\n",
            " |-- destRKS: double (nullable = true)\n",
            " |-- destLAR: double (nullable = true)\n",
            " |-- destSWO: double (nullable = true)\n",
            " |-- destMVY: double (nullable = true)\n",
            " |-- destBTM: double (nullable = true)\n",
            " |-- destLBL: double (nullable = true)\n",
            " |-- destCNY: double (nullable = true)\n",
            " |-- destOTZ: double (nullable = true)\n",
            " |-- destOME: double (nullable = true)\n",
            " |-- destESC: double (nullable = true)\n",
            " |-- destHOB: double (nullable = true)\n",
            " |-- destPIB: double (nullable = true)\n",
            " |-- destBRD: double (nullable = true)\n",
            " |-- destDIK: double (nullable = true)\n",
            " |-- destART: double (nullable = true)\n",
            " |-- destHIB: double (nullable = true)\n",
            " |-- destINL: double (nullable = true)\n",
            " |-- destCDC: double (nullable = true)\n",
            " |-- destAPN: double (nullable = true)\n",
            " |-- destPSE: double (nullable = true)\n",
            " |-- destEKO: double (nullable = true)\n",
            " |-- destVEL: double (nullable = true)\n",
            " |-- destBGM: double (nullable = true)\n",
            " |-- destMKK: double (nullable = true)\n",
            " |-- destALO: double (nullable = true)\n",
            " |-- destDRT: double (nullable = true)\n",
            " |-- destBRW: double (nullable = true)\n",
            " |-- destSPN: double (nullable = true)\n",
            " |-- destPQI: double (nullable = true)\n",
            " |-- destOGS: double (nullable = true)\n",
            " |-- destHVN: double (nullable = true)\n",
            " |-- destPIR: double (nullable = true)\n",
            " |-- destJHM: double (nullable = true)\n",
            " |-- destATY: double (nullable = true)\n",
            " |-- destDEC: double (nullable = true)\n",
            " |-- destPSM: double (nullable = true)\n",
            " |-- destIPT: double (nullable = true)\n",
            " |-- destOTH: double (nullable = true)\n",
            " |-- destSHR: double (nullable = true)\n",
            " |-- destUIN: double (nullable = true)\n",
            " |-- destDDC: double (nullable = true)\n",
            " |-- destRIW: double (nullable = true)\n",
            " |-- destCYS: double (nullable = true)\n",
            " |-- destWYS: double (nullable = true)\n",
            " |-- destDUT: double (nullable = true)\n",
            " |-- destJST: double (nullable = true)\n",
            " |-- destAKN: double (nullable = true)\n",
            " |-- destMMH: double (nullable = true)\n",
            " |-- destVCT: double (nullable = true)\n",
            " |-- destDLG: double (nullable = true)\n",
            " |-- destALS: double (nullable = true)\n",
            " |-- destSMX: double (nullable = true)\n",
            " |-- destFOD: double (nullable = true)\n",
            " |-- destMCW: double (nullable = true)\n",
            " |-- destHGR: double (nullable = true)\n",
            " |-- destSTC: double (nullable = true)\n",
            " |-- destBKG: double (nullable = true)\n",
            " |-- destTBN: double (nullable = true)\n",
            " |-- destOWB: double (nullable = true)\n",
            " |-- destOGD: double (nullable = true)\n",
            " |-- destADK: double (nullable = true)\n",
            " |-- destHYA: double (nullable = true)\n",
            " |-- destGST: double (nullable = true)\n",
            " |-- destPPG: double (nullable = true)\n",
            " |-- destBIH: double (nullable = true)\n",
            " |-- destCDB: double (nullable = true)\n",
            " |-- destBFM: double (nullable = true)\n",
            " |-- destILG: double (nullable = true)\n",
            " |-- destROP: double (nullable = true)\n",
            " |-- features: vector (nullable = true)\n",
            "\n"
          ]
        }
      ],
      "source": [
        "all_columns = list(set(df_transformed.columns).difference(idxer.getOutputCols()))\n",
        "vectorizer = VectorAssembler(inputCols=df_transformed.columns, outputCol='features').transform(df_transformed)\n",
        "vectorizer.printSchema()"
      ]
    },
    {
      "cell_type": "code",
      "execution_count": null,
      "metadata": {
        "colab": {
          "base_uri": "https://localhost:8080/"
        },
        "id": "Qvukveyl2txB",
        "outputId": "e90321ea-9f37-42e7-cb01-70031081ac7a"
      },
      "outputs": [
        {
          "name": "stdout",
          "output_type": "stream",
          "text": [
            "+--------------------+--------+\n",
            "|            features|DepDelay|\n",
            "+--------------------+--------+\n",
            "|(833,[2,3,4,5,6,7...|    -5.0|\n",
            "+--------------------+--------+\n",
            "only showing top 1 row\n",
            "\n"
          ]
        }
      ],
      "source": [
        "# all_columns.append('features')\n",
        "vectorizer.select('features', 'DepDelay').show(1)"
      ]
    },
    {
      "cell_type": "markdown",
      "metadata": {
        "id": "bWFymoNF2txB"
      },
      "source": [
        "## Data preparation"
      ]
    },
    {
      "cell_type": "code",
      "execution_count": null,
      "metadata": {},
      "outputs": [],
      "source": [
        "# vector to array\n",
        "array_features = vectorizer.select(vector_to_array('features'))"
      ]
    },
    {
      "cell_type": "code",
      "execution_count": null,
      "metadata": {},
      "outputs": [
        {
          "ename": "Py4JJavaError",
          "evalue": "An error occurred while calling o4741.collectToPython.\n: java.lang.IllegalStateException: Cannot call methods on a stopped SparkContext.\nThis stopped SparkContext was created at:\n\norg.apache.spark.api.java.JavaSparkContext.<init>(JavaSparkContext.scala:58)\njava.base/jdk.internal.reflect.DirectConstructorHandleAccessor.newInstance(DirectConstructorHandleAccessor.java:67)\njava.base/java.lang.reflect.Constructor.newInstanceWithCaller(Constructor.java:500)\njava.base/java.lang.reflect.Constructor.newInstance(Constructor.java:484)\npy4j.reflection.MethodInvoker.invoke(MethodInvoker.java:247)\npy4j.reflection.ReflectionEngine.invoke(ReflectionEngine.java:357)\npy4j.Gateway.invoke(Gateway.java:238)\npy4j.commands.ConstructorCommand.invokeConstructor(ConstructorCommand.java:80)\npy4j.commands.ConstructorCommand.execute(ConstructorCommand.java:69)\npy4j.ClientServerConnection.waitForCommands(ClientServerConnection.java:182)\npy4j.ClientServerConnection.run(ClientServerConnection.java:106)\njava.base/java.lang.Thread.run(Thread.java:1589)\n\nThe currently active SparkContext was created at:\n\n(No active SparkContext.)\n         \r\n\tat org.apache.spark.SparkContext.assertNotStopped(SparkContext.scala:120)\r\n\tat org.apache.spark.SparkContext.broadcast(SparkContext.scala:1526)\r\n\tat org.apache.spark.sql.execution.datasources.parquet.ParquetFileFormat.buildReaderWithPartitionValues(ParquetFileFormat.scala:235)\r\n\tat org.apache.spark.sql.execution.FileSourceScanExec.inputRDD$lzycompute(DataSourceScanExec.scala:457)\r\n\tat org.apache.spark.sql.execution.FileSourceScanExec.inputRDD(DataSourceScanExec.scala:448)\r\n\tat org.apache.spark.sql.execution.FileSourceScanExec.doExecuteColumnar(DataSourceScanExec.scala:547)\r\n\tat org.apache.spark.sql.execution.SparkPlan.$anonfun$executeColumnar$1(SparkPlan.scala:221)\r\n\tat org.apache.spark.sql.execution.SparkPlan.$anonfun$executeQuery$1(SparkPlan.scala:232)\r\n\tat org.apache.spark.rdd.RDDOperationScope$.withScope(RDDOperationScope.scala:151)\r\n\tat org.apache.spark.sql.execution.SparkPlan.executeQuery(SparkPlan.scala:229)\r\n\tat org.apache.spark.sql.execution.SparkPlan.executeColumnar(SparkPlan.scala:217)\r\n\tat org.apache.spark.sql.execution.InputAdapter.doExecuteColumnar(WholeStageCodegenExec.scala:521)\r\n\tat org.apache.spark.sql.execution.SparkPlan.$anonfun$executeColumnar$1(SparkPlan.scala:221)\r\n\tat org.apache.spark.sql.execution.SparkPlan.$anonfun$executeQuery$1(SparkPlan.scala:232)\r\n\tat org.apache.spark.rdd.RDDOperationScope$.withScope(RDDOperationScope.scala:151)\r\n\tat org.apache.spark.sql.execution.SparkPlan.executeQuery(SparkPlan.scala:229)\r\n\tat org.apache.spark.sql.execution.SparkPlan.executeColumnar(SparkPlan.scala:217)\r\n\tat org.apache.spark.sql.execution.ColumnarToRowExec.inputRDDs(Columnar.scala:205)\r\n\tat org.apache.spark.sql.execution.FilterExec.inputRDDs(basicPhysicalOperators.scala:238)\r\n\tat org.apache.spark.sql.execution.ProjectExec.inputRDDs(basicPhysicalOperators.scala:51)\r\n\tat org.apache.spark.sql.execution.WholeStageCodegenExec.doExecute(WholeStageCodegenExec.scala:751)\r\n\tat org.apache.spark.sql.execution.SparkPlan.$anonfun$execute$1(SparkPlan.scala:194)\r\n\tat org.apache.spark.sql.execution.SparkPlan.$anonfun$executeQuery$1(SparkPlan.scala:232)\r\n\tat org.apache.spark.rdd.RDDOperationScope$.withScope(RDDOperationScope.scala:151)\r\n\tat org.apache.spark.sql.execution.SparkPlan.executeQuery(SparkPlan.scala:229)\r\n\tat org.apache.spark.sql.execution.SparkPlan.execute(SparkPlan.scala:190)\r\n\tat org.apache.spark.sql.execution.UnionExec.$anonfun$doExecute$5(basicPhysicalOperators.scala:699)\r\n\tat scala.collection.TraversableLike.$anonfun$map$1(TraversableLike.scala:286)\r\n\tat scala.collection.mutable.ResizableArray.foreach(ResizableArray.scala:62)\r\n\tat scala.collection.mutable.ResizableArray.foreach$(ResizableArray.scala:55)\r\n\tat scala.collection.mutable.ArrayBuffer.foreach(ArrayBuffer.scala:49)\r\n\tat scala.collection.TraversableLike.map(TraversableLike.scala:286)\r\n\tat scala.collection.TraversableLike.map$(TraversableLike.scala:279)\r\n\tat scala.collection.AbstractTraversable.map(Traversable.scala:108)\r\n\tat org.apache.spark.sql.execution.UnionExec.doExecute(basicPhysicalOperators.scala:699)\r\n\tat org.apache.spark.sql.execution.SparkPlan.$anonfun$execute$1(SparkPlan.scala:194)\r\n\tat org.apache.spark.sql.execution.SparkPlan.$anonfun$executeQuery$1(SparkPlan.scala:232)\r\n\tat org.apache.spark.rdd.RDDOperationScope$.withScope(RDDOperationScope.scala:151)\r\n\tat org.apache.spark.sql.execution.SparkPlan.executeQuery(SparkPlan.scala:229)\r\n\tat org.apache.spark.sql.execution.SparkPlan.execute(SparkPlan.scala:190)\r\n\tat org.apache.spark.sql.execution.InputAdapter.doExecute(WholeStageCodegenExec.scala:513)\r\n\tat org.apache.spark.sql.execution.SparkPlan.$anonfun$execute$1(SparkPlan.scala:194)\r\n\tat org.apache.spark.sql.execution.SparkPlan.$anonfun$executeQuery$1(SparkPlan.scala:232)\r\n\tat org.apache.spark.rdd.RDDOperationScope$.withScope(RDDOperationScope.scala:151)\r\n\tat org.apache.spark.sql.execution.SparkPlan.executeQuery(SparkPlan.scala:229)\r\n\tat org.apache.spark.sql.execution.SparkPlan.execute(SparkPlan.scala:190)\r\n\tat org.apache.spark.sql.execution.ProjectExec.doExecute(basicPhysicalOperators.scala:94)\r\n\tat org.apache.spark.sql.execution.SparkPlan.$anonfun$execute$1(SparkPlan.scala:194)\r\n\tat org.apache.spark.sql.execution.SparkPlan.$anonfun$executeQuery$1(SparkPlan.scala:232)\r\n\tat org.apache.spark.rdd.RDDOperationScope$.withScope(RDDOperationScope.scala:151)\r\n\tat org.apache.spark.sql.execution.SparkPlan.executeQuery(SparkPlan.scala:229)\r\n\tat org.apache.spark.sql.execution.SparkPlan.execute(SparkPlan.scala:190)\r\n\tat org.apache.spark.sql.execution.ProjectExec.doExecute(basicPhysicalOperators.scala:94)\r\n\tat org.apache.spark.sql.execution.SparkPlan.$anonfun$execute$1(SparkPlan.scala:194)\r\n\tat org.apache.spark.sql.execution.SparkPlan.$anonfun$executeQuery$1(SparkPlan.scala:232)\r\n\tat org.apache.spark.rdd.RDDOperationScope$.withScope(RDDOperationScope.scala:151)\r\n\tat org.apache.spark.sql.execution.SparkPlan.executeQuery(SparkPlan.scala:229)\r\n\tat org.apache.spark.sql.execution.SparkPlan.execute(SparkPlan.scala:190)\r\n\tat org.apache.spark.sql.execution.ProjectExec.doExecute(basicPhysicalOperators.scala:94)\r\n\tat org.apache.spark.sql.execution.SparkPlan.$anonfun$execute$1(SparkPlan.scala:194)\r\n\tat org.apache.spark.sql.execution.SparkPlan.$anonfun$executeQuery$1(SparkPlan.scala:232)\r\n\tat org.apache.spark.rdd.RDDOperationScope$.withScope(RDDOperationScope.scala:151)\r\n\tat org.apache.spark.sql.execution.SparkPlan.executeQuery(SparkPlan.scala:229)\r\n\tat org.apache.spark.sql.execution.SparkPlan.execute(SparkPlan.scala:190)\r\n\tat org.apache.spark.sql.execution.ProjectExec.doExecute(basicPhysicalOperators.scala:94)\r\n\tat org.apache.spark.sql.execution.SparkPlan.$anonfun$execute$1(SparkPlan.scala:194)\r\n\tat org.apache.spark.sql.execution.SparkPlan.$anonfun$executeQuery$1(SparkPlan.scala:232)\r\n\tat org.apache.spark.rdd.RDDOperationScope$.withScope(RDDOperationScope.scala:151)\r\n\tat org.apache.spark.sql.execution.SparkPlan.executeQuery(SparkPlan.scala:229)\r\n\tat org.apache.spark.sql.execution.SparkPlan.execute(SparkPlan.scala:190)\r\n\tat org.apache.spark.sql.execution.WholeStageCodegenExec.liftedTree1$1(WholeStageCodegenExec.scala:731)\r\n\tat org.apache.spark.sql.execution.WholeStageCodegenExec.doExecute(WholeStageCodegenExec.scala:725)\r\n\tat org.apache.spark.sql.execution.SparkPlan.$anonfun$execute$1(SparkPlan.scala:194)\r\n\tat org.apache.spark.sql.execution.SparkPlan.$anonfun$executeQuery$1(SparkPlan.scala:232)\r\n\tat org.apache.spark.rdd.RDDOperationScope$.withScope(RDDOperationScope.scala:151)\r\n\tat org.apache.spark.sql.execution.SparkPlan.executeQuery(SparkPlan.scala:229)\r\n\tat org.apache.spark.sql.execution.SparkPlan.execute(SparkPlan.scala:190)\r\n\tat org.apache.spark.sql.execution.SparkPlan.getByteArrayRdd(SparkPlan.scala:340)\r\n\tat org.apache.spark.sql.execution.SparkPlan.executeTake(SparkPlan.scala:473)\r\n\tat org.apache.spark.sql.execution.SparkPlan.executeTake(SparkPlan.scala:459)\r\n\tat org.apache.spark.sql.execution.CollectLimitExec.executeCollect(limit.scala:48)\r\n\tat org.apache.spark.sql.Dataset.$anonfun$collectToPython$1(Dataset.scala:3688)\r\n\tat org.apache.spark.sql.Dataset.$anonfun$withAction$2(Dataset.scala:3858)\r\n\tat org.apache.spark.sql.execution.QueryExecution$.withInternalError(QueryExecution.scala:510)\r\n\tat org.apache.spark.sql.Dataset.$anonfun$withAction$1(Dataset.scala:3856)\r\n\tat org.apache.spark.sql.execution.SQLExecution$.$anonfun$withNewExecutionId$6(SQLExecution.scala:109)\r\n\tat org.apache.spark.sql.execution.SQLExecution$.withSQLConfPropagated(SQLExecution.scala:169)\r\n\tat org.apache.spark.sql.execution.SQLExecution$.$anonfun$withNewExecutionId$1(SQLExecution.scala:95)\r\n\tat org.apache.spark.sql.SparkSession.withActive(SparkSession.scala:779)\r\n\tat org.apache.spark.sql.execution.SQLExecution$.withNewExecutionId(SQLExecution.scala:64)\r\n\tat org.apache.spark.sql.Dataset.withAction(Dataset.scala:3856)\r\n\tat org.apache.spark.sql.Dataset.collectToPython(Dataset.scala:3685)\r\n\tat java.base/jdk.internal.reflect.DirectMethodHandleAccessor.invoke(DirectMethodHandleAccessor.java:104)\r\n\tat java.base/java.lang.reflect.Method.invoke(Method.java:578)\r\n\tat py4j.reflection.MethodInvoker.invoke(MethodInvoker.java:244)\r\n\tat py4j.reflection.ReflectionEngine.invoke(ReflectionEngine.java:357)\r\n\tat py4j.Gateway.invoke(Gateway.java:282)\r\n\tat py4j.commands.AbstractCommand.invokeMethod(AbstractCommand.java:132)\r\n\tat py4j.commands.CallCommand.execute(CallCommand.java:79)\r\n\tat py4j.ClientServerConnection.waitForCommands(ClientServerConnection.java:182)\r\n\tat py4j.ClientServerConnection.run(ClientServerConnection.java:106)\r\n\tat java.base/java.lang.Thread.run(Thread.java:1589)\r\n",
          "output_type": "error",
          "traceback": [
            "\u001b[1;31m---------------------------------------------------------------------------\u001b[0m",
            "\u001b[1;31mPy4JJavaError\u001b[0m                             Traceback (most recent call last)",
            "\u001b[1;32mc:\\Users\\luigi\\projects\\ml-predict-flight-delays\\notebooks\\pyspark_flight_prediction.ipynb Cell 79\u001b[0m in \u001b[0;36m<cell line: 1>\u001b[1;34m()\u001b[0m\n\u001b[1;32m----> <a href='vscode-notebook-cell:/c%3A/Users/luigi/projects/ml-predict-flight-delays/notebooks/pyspark_flight_prediction.ipynb#Y214sZmlsZQ%3D%3D?line=0'>1</a>\u001b[0m array_features\u001b[39m.\u001b[39;49mfirst()\n",
            "File \u001b[1;32mc:\\Users\\luigi\\miniconda3\\envs\\pytorch\\lib\\site-packages\\pyspark\\sql\\dataframe.py:1938\u001b[0m, in \u001b[0;36mDataFrame.first\u001b[1;34m(self)\u001b[0m\n\u001b[0;32m   1928\u001b[0m \u001b[39mdef\u001b[39;00m \u001b[39mfirst\u001b[39m(\u001b[39mself\u001b[39m) \u001b[39m-\u001b[39m\u001b[39m>\u001b[39m Optional[Row]:\n\u001b[0;32m   1929\u001b[0m     \u001b[39m\"\"\"Returns the first row as a :class:`Row`.\u001b[39;00m\n\u001b[0;32m   1930\u001b[0m \n\u001b[0;32m   1931\u001b[0m \u001b[39m    .. versionadded:: 1.3.0\u001b[39;00m\n\u001b[1;32m   (...)\u001b[0m\n\u001b[0;32m   1936\u001b[0m \u001b[39m    Row(age=2, name='Alice')\u001b[39;00m\n\u001b[0;32m   1937\u001b[0m \u001b[39m    \"\"\"\u001b[39;00m\n\u001b[1;32m-> 1938\u001b[0m     \u001b[39mreturn\u001b[39;00m \u001b[39mself\u001b[39;49m\u001b[39m.\u001b[39;49mhead()\n",
            "File \u001b[1;32mc:\\Users\\luigi\\miniconda3\\envs\\pytorch\\lib\\site-packages\\pyspark\\sql\\dataframe.py:1924\u001b[0m, in \u001b[0;36mDataFrame.head\u001b[1;34m(self, n)\u001b[0m\n\u001b[0;32m   1897\u001b[0m \u001b[39m\"\"\"Returns the first ``n`` rows.\u001b[39;00m\n\u001b[0;32m   1898\u001b[0m \n\u001b[0;32m   1899\u001b[0m \u001b[39m.. versionadded:: 1.3.0\u001b[39;00m\n\u001b[1;32m   (...)\u001b[0m\n\u001b[0;32m   1921\u001b[0m \u001b[39m[Row(age=2, name='Alice')]\u001b[39;00m\n\u001b[0;32m   1922\u001b[0m \u001b[39m\"\"\"\u001b[39;00m\n\u001b[0;32m   1923\u001b[0m \u001b[39mif\u001b[39;00m n \u001b[39mis\u001b[39;00m \u001b[39mNone\u001b[39;00m:\n\u001b[1;32m-> 1924\u001b[0m     rs \u001b[39m=\u001b[39m \u001b[39mself\u001b[39;49m\u001b[39m.\u001b[39;49mhead(\u001b[39m1\u001b[39;49m)\n\u001b[0;32m   1925\u001b[0m     \u001b[39mreturn\u001b[39;00m rs[\u001b[39m0\u001b[39m] \u001b[39mif\u001b[39;00m rs \u001b[39melse\u001b[39;00m \u001b[39mNone\u001b[39;00m\n\u001b[0;32m   1926\u001b[0m \u001b[39mreturn\u001b[39;00m \u001b[39mself\u001b[39m\u001b[39m.\u001b[39mtake(n)\n",
            "File \u001b[1;32mc:\\Users\\luigi\\miniconda3\\envs\\pytorch\\lib\\site-packages\\pyspark\\sql\\dataframe.py:1926\u001b[0m, in \u001b[0;36mDataFrame.head\u001b[1;34m(self, n)\u001b[0m\n\u001b[0;32m   1924\u001b[0m     rs \u001b[39m=\u001b[39m \u001b[39mself\u001b[39m\u001b[39m.\u001b[39mhead(\u001b[39m1\u001b[39m)\n\u001b[0;32m   1925\u001b[0m     \u001b[39mreturn\u001b[39;00m rs[\u001b[39m0\u001b[39m] \u001b[39mif\u001b[39;00m rs \u001b[39melse\u001b[39;00m \u001b[39mNone\u001b[39;00m\n\u001b[1;32m-> 1926\u001b[0m \u001b[39mreturn\u001b[39;00m \u001b[39mself\u001b[39;49m\u001b[39m.\u001b[39;49mtake(n)\n",
            "File \u001b[1;32mc:\\Users\\luigi\\miniconda3\\envs\\pytorch\\lib\\site-packages\\pyspark\\sql\\dataframe.py:868\u001b[0m, in \u001b[0;36mDataFrame.take\u001b[1;34m(self, num)\u001b[0m\n\u001b[0;32m    858\u001b[0m \u001b[39mdef\u001b[39;00m \u001b[39mtake\u001b[39m(\u001b[39mself\u001b[39m, num: \u001b[39mint\u001b[39m) \u001b[39m-\u001b[39m\u001b[39m>\u001b[39m List[Row]:\n\u001b[0;32m    859\u001b[0m     \u001b[39m\"\"\"Returns the first ``num`` rows as a :class:`list` of :class:`Row`.\u001b[39;00m\n\u001b[0;32m    860\u001b[0m \n\u001b[0;32m    861\u001b[0m \u001b[39m    .. versionadded:: 1.3.0\u001b[39;00m\n\u001b[1;32m   (...)\u001b[0m\n\u001b[0;32m    866\u001b[0m \u001b[39m    [Row(age=2, name='Alice'), Row(age=5, name='Bob')]\u001b[39;00m\n\u001b[0;32m    867\u001b[0m \u001b[39m    \"\"\"\u001b[39;00m\n\u001b[1;32m--> 868\u001b[0m     \u001b[39mreturn\u001b[39;00m \u001b[39mself\u001b[39;49m\u001b[39m.\u001b[39;49mlimit(num)\u001b[39m.\u001b[39;49mcollect()\n",
            "File \u001b[1;32mc:\\Users\\luigi\\miniconda3\\envs\\pytorch\\lib\\site-packages\\pyspark\\sql\\dataframe.py:817\u001b[0m, in \u001b[0;36mDataFrame.collect\u001b[1;34m(self)\u001b[0m\n\u001b[0;32m    807\u001b[0m \u001b[39m\"\"\"Returns all the records as a list of :class:`Row`.\u001b[39;00m\n\u001b[0;32m    808\u001b[0m \n\u001b[0;32m    809\u001b[0m \u001b[39m.. versionadded:: 1.3.0\u001b[39;00m\n\u001b[1;32m   (...)\u001b[0m\n\u001b[0;32m    814\u001b[0m \u001b[39m[Row(age=2, name='Alice'), Row(age=5, name='Bob')]\u001b[39;00m\n\u001b[0;32m    815\u001b[0m \u001b[39m\"\"\"\u001b[39;00m\n\u001b[0;32m    816\u001b[0m \u001b[39mwith\u001b[39;00m SCCallSiteSync(\u001b[39mself\u001b[39m\u001b[39m.\u001b[39m_sc):\n\u001b[1;32m--> 817\u001b[0m     sock_info \u001b[39m=\u001b[39m \u001b[39mself\u001b[39;49m\u001b[39m.\u001b[39;49m_jdf\u001b[39m.\u001b[39;49mcollectToPython()\n\u001b[0;32m    818\u001b[0m \u001b[39mreturn\u001b[39;00m \u001b[39mlist\u001b[39m(_load_from_socket(sock_info, BatchedSerializer(CPickleSerializer())))\n",
            "File \u001b[1;32mc:\\Users\\luigi\\miniconda3\\envs\\pytorch\\lib\\site-packages\\py4j\\java_gateway.py:1321\u001b[0m, in \u001b[0;36mJavaMember.__call__\u001b[1;34m(self, *args)\u001b[0m\n\u001b[0;32m   1315\u001b[0m command \u001b[39m=\u001b[39m proto\u001b[39m.\u001b[39mCALL_COMMAND_NAME \u001b[39m+\u001b[39m\\\n\u001b[0;32m   1316\u001b[0m     \u001b[39mself\u001b[39m\u001b[39m.\u001b[39mcommand_header \u001b[39m+\u001b[39m\\\n\u001b[0;32m   1317\u001b[0m     args_command \u001b[39m+\u001b[39m\\\n\u001b[0;32m   1318\u001b[0m     proto\u001b[39m.\u001b[39mEND_COMMAND_PART\n\u001b[0;32m   1320\u001b[0m answer \u001b[39m=\u001b[39m \u001b[39mself\u001b[39m\u001b[39m.\u001b[39mgateway_client\u001b[39m.\u001b[39msend_command(command)\n\u001b[1;32m-> 1321\u001b[0m return_value \u001b[39m=\u001b[39m get_return_value(\n\u001b[0;32m   1322\u001b[0m     answer, \u001b[39mself\u001b[39;49m\u001b[39m.\u001b[39;49mgateway_client, \u001b[39mself\u001b[39;49m\u001b[39m.\u001b[39;49mtarget_id, \u001b[39mself\u001b[39;49m\u001b[39m.\u001b[39;49mname)\n\u001b[0;32m   1324\u001b[0m \u001b[39mfor\u001b[39;00m temp_arg \u001b[39min\u001b[39;00m temp_args:\n\u001b[0;32m   1325\u001b[0m     temp_arg\u001b[39m.\u001b[39m_detach()\n",
            "File \u001b[1;32mc:\\Users\\luigi\\miniconda3\\envs\\pytorch\\lib\\site-packages\\pyspark\\sql\\utils.py:190\u001b[0m, in \u001b[0;36mcapture_sql_exception.<locals>.deco\u001b[1;34m(*a, **kw)\u001b[0m\n\u001b[0;32m    188\u001b[0m \u001b[39mdef\u001b[39;00m \u001b[39mdeco\u001b[39m(\u001b[39m*\u001b[39ma: Any, \u001b[39m*\u001b[39m\u001b[39m*\u001b[39mkw: Any) \u001b[39m-\u001b[39m\u001b[39m>\u001b[39m Any:\n\u001b[0;32m    189\u001b[0m     \u001b[39mtry\u001b[39;00m:\n\u001b[1;32m--> 190\u001b[0m         \u001b[39mreturn\u001b[39;00m f(\u001b[39m*\u001b[39ma, \u001b[39m*\u001b[39m\u001b[39m*\u001b[39mkw)\n\u001b[0;32m    191\u001b[0m     \u001b[39mexcept\u001b[39;00m Py4JJavaError \u001b[39mas\u001b[39;00m e:\n\u001b[0;32m    192\u001b[0m         converted \u001b[39m=\u001b[39m convert_exception(e\u001b[39m.\u001b[39mjava_exception)\n",
            "File \u001b[1;32mc:\\Users\\luigi\\miniconda3\\envs\\pytorch\\lib\\site-packages\\py4j\\protocol.py:326\u001b[0m, in \u001b[0;36mget_return_value\u001b[1;34m(answer, gateway_client, target_id, name)\u001b[0m\n\u001b[0;32m    324\u001b[0m value \u001b[39m=\u001b[39m OUTPUT_CONVERTER[\u001b[39mtype\u001b[39m](answer[\u001b[39m2\u001b[39m:], gateway_client)\n\u001b[0;32m    325\u001b[0m \u001b[39mif\u001b[39;00m answer[\u001b[39m1\u001b[39m] \u001b[39m==\u001b[39m REFERENCE_TYPE:\n\u001b[1;32m--> 326\u001b[0m     \u001b[39mraise\u001b[39;00m Py4JJavaError(\n\u001b[0;32m    327\u001b[0m         \u001b[39m\"\u001b[39m\u001b[39mAn error occurred while calling \u001b[39m\u001b[39m{0}\u001b[39;00m\u001b[39m{1}\u001b[39;00m\u001b[39m{2}\u001b[39;00m\u001b[39m.\u001b[39m\u001b[39m\\n\u001b[39;00m\u001b[39m\"\u001b[39m\u001b[39m.\u001b[39m\n\u001b[0;32m    328\u001b[0m         \u001b[39mformat\u001b[39m(target_id, \u001b[39m\"\u001b[39m\u001b[39m.\u001b[39m\u001b[39m\"\u001b[39m, name), value)\n\u001b[0;32m    329\u001b[0m \u001b[39melse\u001b[39;00m:\n\u001b[0;32m    330\u001b[0m     \u001b[39mraise\u001b[39;00m Py4JError(\n\u001b[0;32m    331\u001b[0m         \u001b[39m\"\u001b[39m\u001b[39mAn error occurred while calling \u001b[39m\u001b[39m{0}\u001b[39;00m\u001b[39m{1}\u001b[39;00m\u001b[39m{2}\u001b[39;00m\u001b[39m. Trace:\u001b[39m\u001b[39m\\n\u001b[39;00m\u001b[39m{3}\u001b[39;00m\u001b[39m\\n\u001b[39;00m\u001b[39m\"\u001b[39m\u001b[39m.\u001b[39m\n\u001b[0;32m    332\u001b[0m         \u001b[39mformat\u001b[39m(target_id, \u001b[39m\"\u001b[39m\u001b[39m.\u001b[39m\u001b[39m\"\u001b[39m, name, value))\n",
            "\u001b[1;31mPy4JJavaError\u001b[0m: An error occurred while calling o4741.collectToPython.\n: java.lang.IllegalStateException: Cannot call methods on a stopped SparkContext.\nThis stopped SparkContext was created at:\n\norg.apache.spark.api.java.JavaSparkContext.<init>(JavaSparkContext.scala:58)\njava.base/jdk.internal.reflect.DirectConstructorHandleAccessor.newInstance(DirectConstructorHandleAccessor.java:67)\njava.base/java.lang.reflect.Constructor.newInstanceWithCaller(Constructor.java:500)\njava.base/java.lang.reflect.Constructor.newInstance(Constructor.java:484)\npy4j.reflection.MethodInvoker.invoke(MethodInvoker.java:247)\npy4j.reflection.ReflectionEngine.invoke(ReflectionEngine.java:357)\npy4j.Gateway.invoke(Gateway.java:238)\npy4j.commands.ConstructorCommand.invokeConstructor(ConstructorCommand.java:80)\npy4j.commands.ConstructorCommand.execute(ConstructorCommand.java:69)\npy4j.ClientServerConnection.waitForCommands(ClientServerConnection.java:182)\npy4j.ClientServerConnection.run(ClientServerConnection.java:106)\njava.base/java.lang.Thread.run(Thread.java:1589)\n\nThe currently active SparkContext was created at:\n\n(No active SparkContext.)\n         \r\n\tat org.apache.spark.SparkContext.assertNotStopped(SparkContext.scala:120)\r\n\tat org.apache.spark.SparkContext.broadcast(SparkContext.scala:1526)\r\n\tat org.apache.spark.sql.execution.datasources.parquet.ParquetFileFormat.buildReaderWithPartitionValues(ParquetFileFormat.scala:235)\r\n\tat org.apache.spark.sql.execution.FileSourceScanExec.inputRDD$lzycompute(DataSourceScanExec.scala:457)\r\n\tat org.apache.spark.sql.execution.FileSourceScanExec.inputRDD(DataSourceScanExec.scala:448)\r\n\tat org.apache.spark.sql.execution.FileSourceScanExec.doExecuteColumnar(DataSourceScanExec.scala:547)\r\n\tat org.apache.spark.sql.execution.SparkPlan.$anonfun$executeColumnar$1(SparkPlan.scala:221)\r\n\tat org.apache.spark.sql.execution.SparkPlan.$anonfun$executeQuery$1(SparkPlan.scala:232)\r\n\tat org.apache.spark.rdd.RDDOperationScope$.withScope(RDDOperationScope.scala:151)\r\n\tat org.apache.spark.sql.execution.SparkPlan.executeQuery(SparkPlan.scala:229)\r\n\tat org.apache.spark.sql.execution.SparkPlan.executeColumnar(SparkPlan.scala:217)\r\n\tat org.apache.spark.sql.execution.InputAdapter.doExecuteColumnar(WholeStageCodegenExec.scala:521)\r\n\tat org.apache.spark.sql.execution.SparkPlan.$anonfun$executeColumnar$1(SparkPlan.scala:221)\r\n\tat org.apache.spark.sql.execution.SparkPlan.$anonfun$executeQuery$1(SparkPlan.scala:232)\r\n\tat org.apache.spark.rdd.RDDOperationScope$.withScope(RDDOperationScope.scala:151)\r\n\tat org.apache.spark.sql.execution.SparkPlan.executeQuery(SparkPlan.scala:229)\r\n\tat org.apache.spark.sql.execution.SparkPlan.executeColumnar(SparkPlan.scala:217)\r\n\tat org.apache.spark.sql.execution.ColumnarToRowExec.inputRDDs(Columnar.scala:205)\r\n\tat org.apache.spark.sql.execution.FilterExec.inputRDDs(basicPhysicalOperators.scala:238)\r\n\tat org.apache.spark.sql.execution.ProjectExec.inputRDDs(basicPhysicalOperators.scala:51)\r\n\tat org.apache.spark.sql.execution.WholeStageCodegenExec.doExecute(WholeStageCodegenExec.scala:751)\r\n\tat org.apache.spark.sql.execution.SparkPlan.$anonfun$execute$1(SparkPlan.scala:194)\r\n\tat org.apache.spark.sql.execution.SparkPlan.$anonfun$executeQuery$1(SparkPlan.scala:232)\r\n\tat org.apache.spark.rdd.RDDOperationScope$.withScope(RDDOperationScope.scala:151)\r\n\tat org.apache.spark.sql.execution.SparkPlan.executeQuery(SparkPlan.scala:229)\r\n\tat org.apache.spark.sql.execution.SparkPlan.execute(SparkPlan.scala:190)\r\n\tat org.apache.spark.sql.execution.UnionExec.$anonfun$doExecute$5(basicPhysicalOperators.scala:699)\r\n\tat scala.collection.TraversableLike.$anonfun$map$1(TraversableLike.scala:286)\r\n\tat scala.collection.mutable.ResizableArray.foreach(ResizableArray.scala:62)\r\n\tat scala.collection.mutable.ResizableArray.foreach$(ResizableArray.scala:55)\r\n\tat scala.collection.mutable.ArrayBuffer.foreach(ArrayBuffer.scala:49)\r\n\tat scala.collection.TraversableLike.map(TraversableLike.scala:286)\r\n\tat scala.collection.TraversableLike.map$(TraversableLike.scala:279)\r\n\tat scala.collection.AbstractTraversable.map(Traversable.scala:108)\r\n\tat org.apache.spark.sql.execution.UnionExec.doExecute(basicPhysicalOperators.scala:699)\r\n\tat org.apache.spark.sql.execution.SparkPlan.$anonfun$execute$1(SparkPlan.scala:194)\r\n\tat org.apache.spark.sql.execution.SparkPlan.$anonfun$executeQuery$1(SparkPlan.scala:232)\r\n\tat org.apache.spark.rdd.RDDOperationScope$.withScope(RDDOperationScope.scala:151)\r\n\tat org.apache.spark.sql.execution.SparkPlan.executeQuery(SparkPlan.scala:229)\r\n\tat org.apache.spark.sql.execution.SparkPlan.execute(SparkPlan.scala:190)\r\n\tat org.apache.spark.sql.execution.InputAdapter.doExecute(WholeStageCodegenExec.scala:513)\r\n\tat org.apache.spark.sql.execution.SparkPlan.$anonfun$execute$1(SparkPlan.scala:194)\r\n\tat org.apache.spark.sql.execution.SparkPlan.$anonfun$executeQuery$1(SparkPlan.scala:232)\r\n\tat org.apache.spark.rdd.RDDOperationScope$.withScope(RDDOperationScope.scala:151)\r\n\tat org.apache.spark.sql.execution.SparkPlan.executeQuery(SparkPlan.scala:229)\r\n\tat org.apache.spark.sql.execution.SparkPlan.execute(SparkPlan.scala:190)\r\n\tat org.apache.spark.sql.execution.ProjectExec.doExecute(basicPhysicalOperators.scala:94)\r\n\tat org.apache.spark.sql.execution.SparkPlan.$anonfun$execute$1(SparkPlan.scala:194)\r\n\tat org.apache.spark.sql.execution.SparkPlan.$anonfun$executeQuery$1(SparkPlan.scala:232)\r\n\tat org.apache.spark.rdd.RDDOperationScope$.withScope(RDDOperationScope.scala:151)\r\n\tat org.apache.spark.sql.execution.SparkPlan.executeQuery(SparkPlan.scala:229)\r\n\tat org.apache.spark.sql.execution.SparkPlan.execute(SparkPlan.scala:190)\r\n\tat org.apache.spark.sql.execution.ProjectExec.doExecute(basicPhysicalOperators.scala:94)\r\n\tat org.apache.spark.sql.execution.SparkPlan.$anonfun$execute$1(SparkPlan.scala:194)\r\n\tat org.apache.spark.sql.execution.SparkPlan.$anonfun$executeQuery$1(SparkPlan.scala:232)\r\n\tat org.apache.spark.rdd.RDDOperationScope$.withScope(RDDOperationScope.scala:151)\r\n\tat org.apache.spark.sql.execution.SparkPlan.executeQuery(SparkPlan.scala:229)\r\n\tat org.apache.spark.sql.execution.SparkPlan.execute(SparkPlan.scala:190)\r\n\tat org.apache.spark.sql.execution.ProjectExec.doExecute(basicPhysicalOperators.scala:94)\r\n\tat org.apache.spark.sql.execution.SparkPlan.$anonfun$execute$1(SparkPlan.scala:194)\r\n\tat org.apache.spark.sql.execution.SparkPlan.$anonfun$executeQuery$1(SparkPlan.scala:232)\r\n\tat org.apache.spark.rdd.RDDOperationScope$.withScope(RDDOperationScope.scala:151)\r\n\tat org.apache.spark.sql.execution.SparkPlan.executeQuery(SparkPlan.scala:229)\r\n\tat org.apache.spark.sql.execution.SparkPlan.execute(SparkPlan.scala:190)\r\n\tat org.apache.spark.sql.execution.ProjectExec.doExecute(basicPhysicalOperators.scala:94)\r\n\tat org.apache.spark.sql.execution.SparkPlan.$anonfun$execute$1(SparkPlan.scala:194)\r\n\tat org.apache.spark.sql.execution.SparkPlan.$anonfun$executeQuery$1(SparkPlan.scala:232)\r\n\tat org.apache.spark.rdd.RDDOperationScope$.withScope(RDDOperationScope.scala:151)\r\n\tat org.apache.spark.sql.execution.SparkPlan.executeQuery(SparkPlan.scala:229)\r\n\tat org.apache.spark.sql.execution.SparkPlan.execute(SparkPlan.scala:190)\r\n\tat org.apache.spark.sql.execution.WholeStageCodegenExec.liftedTree1$1(WholeStageCodegenExec.scala:731)\r\n\tat org.apache.spark.sql.execution.WholeStageCodegenExec.doExecute(WholeStageCodegenExec.scala:725)\r\n\tat org.apache.spark.sql.execution.SparkPlan.$anonfun$execute$1(SparkPlan.scala:194)\r\n\tat org.apache.spark.sql.execution.SparkPlan.$anonfun$executeQuery$1(SparkPlan.scala:232)\r\n\tat org.apache.spark.rdd.RDDOperationScope$.withScope(RDDOperationScope.scala:151)\r\n\tat org.apache.spark.sql.execution.SparkPlan.executeQuery(SparkPlan.scala:229)\r\n\tat org.apache.spark.sql.execution.SparkPlan.execute(SparkPlan.scala:190)\r\n\tat org.apache.spark.sql.execution.SparkPlan.getByteArrayRdd(SparkPlan.scala:340)\r\n\tat org.apache.spark.sql.execution.SparkPlan.executeTake(SparkPlan.scala:473)\r\n\tat org.apache.spark.sql.execution.SparkPlan.executeTake(SparkPlan.scala:459)\r\n\tat org.apache.spark.sql.execution.CollectLimitExec.executeCollect(limit.scala:48)\r\n\tat org.apache.spark.sql.Dataset.$anonfun$collectToPython$1(Dataset.scala:3688)\r\n\tat org.apache.spark.sql.Dataset.$anonfun$withAction$2(Dataset.scala:3858)\r\n\tat org.apache.spark.sql.execution.QueryExecution$.withInternalError(QueryExecution.scala:510)\r\n\tat org.apache.spark.sql.Dataset.$anonfun$withAction$1(Dataset.scala:3856)\r\n\tat org.apache.spark.sql.execution.SQLExecution$.$anonfun$withNewExecutionId$6(SQLExecution.scala:109)\r\n\tat org.apache.spark.sql.execution.SQLExecution$.withSQLConfPropagated(SQLExecution.scala:169)\r\n\tat org.apache.spark.sql.execution.SQLExecution$.$anonfun$withNewExecutionId$1(SQLExecution.scala:95)\r\n\tat org.apache.spark.sql.SparkSession.withActive(SparkSession.scala:779)\r\n\tat org.apache.spark.sql.execution.SQLExecution$.withNewExecutionId(SQLExecution.scala:64)\r\n\tat org.apache.spark.sql.Dataset.withAction(Dataset.scala:3856)\r\n\tat org.apache.spark.sql.Dataset.collectToPython(Dataset.scala:3685)\r\n\tat java.base/jdk.internal.reflect.DirectMethodHandleAccessor.invoke(DirectMethodHandleAccessor.java:104)\r\n\tat java.base/java.lang.reflect.Method.invoke(Method.java:578)\r\n\tat py4j.reflection.MethodInvoker.invoke(MethodInvoker.java:244)\r\n\tat py4j.reflection.ReflectionEngine.invoke(ReflectionEngine.java:357)\r\n\tat py4j.Gateway.invoke(Gateway.java:282)\r\n\tat py4j.commands.AbstractCommand.invokeMethod(AbstractCommand.java:132)\r\n\tat py4j.commands.CallCommand.execute(CallCommand.java:79)\r\n\tat py4j.ClientServerConnection.waitForCommands(ClientServerConnection.java:182)\r\n\tat py4j.ClientServerConnection.run(ClientServerConnection.java:106)\r\n\tat java.base/java.lang.Thread.run(Thread.java:1589)\r\n"
          ]
        }
      ],
      "source": [
        "array_features.first()"
      ]
    },
    {
      "cell_type": "code",
      "execution_count": null,
      "metadata": {},
      "outputs": [
        {
          "ename": "Py4JJavaError",
          "evalue": "An error occurred while calling o4715.collectToPython.\n: java.lang.OutOfMemoryError: Java heap space\r\n\tat org.apache.spark.sql.execution.SparkPlan$$anon$1._next(SparkPlan.scala:391)\r\n\tat org.apache.spark.sql.execution.SparkPlan$$anon$1.getNext(SparkPlan.scala:402)\r\n\tat org.apache.spark.sql.execution.SparkPlan$$anon$1.getNext(SparkPlan.scala:388)\r\n\tat org.apache.spark.util.NextIterator.hasNext(NextIterator.scala:73)\r\n\tat scala.collection.Iterator.foreach(Iterator.scala:943)\r\n\tat scala.collection.Iterator.foreach$(Iterator.scala:943)\r\n\tat org.apache.spark.util.NextIterator.foreach(NextIterator.scala:21)\r\n\tat org.apache.spark.sql.execution.SparkPlan.$anonfun$executeCollect$1(SparkPlan.scala:425)\r\n\tat org.apache.spark.sql.execution.SparkPlan.$anonfun$executeCollect$1$adapted(SparkPlan.scala:424)\r\n\tat org.apache.spark.sql.execution.SparkPlan$$Lambda$3161/0x0000000801ea83c8.apply(Unknown Source)\r\n\tat scala.collection.IndexedSeqOptimized.foreach(IndexedSeqOptimized.scala:36)\r\n\tat scala.collection.IndexedSeqOptimized.foreach$(IndexedSeqOptimized.scala:33)\r\n\tat scala.collection.mutable.ArrayOps$ofRef.foreach(ArrayOps.scala:198)\r\n\tat org.apache.spark.sql.execution.SparkPlan.executeCollect(SparkPlan.scala:424)\r\n\tat org.apache.spark.sql.Dataset.$anonfun$collectToPython$1(Dataset.scala:3688)\r\n\tat org.apache.spark.sql.Dataset$$Lambda$3358/0x0000000801f3aaf0.apply(Unknown Source)\r\n\tat org.apache.spark.sql.Dataset.$anonfun$withAction$2(Dataset.scala:3858)\r\n\tat org.apache.spark.sql.Dataset$$Lambda$2696/0x0000000801d67408.apply(Unknown Source)\r\n\tat org.apache.spark.sql.execution.QueryExecution$.withInternalError(QueryExecution.scala:510)\r\n\tat org.apache.spark.sql.Dataset.$anonfun$withAction$1(Dataset.scala:3856)\r\n\tat org.apache.spark.sql.Dataset$$Lambda$2324/0x0000000801c70000.apply(Unknown Source)\r\n\tat org.apache.spark.sql.execution.SQLExecution$.$anonfun$withNewExecutionId$6(SQLExecution.scala:109)\r\n\tat org.apache.spark.sql.execution.SQLExecution$$$Lambda$2332/0x0000000801c72b28.apply(Unknown Source)\r\n\tat org.apache.spark.sql.execution.SQLExecution$.withSQLConfPropagated(SQLExecution.scala:169)\r\n\tat org.apache.spark.sql.execution.SQLExecution$.$anonfun$withNewExecutionId$1(SQLExecution.scala:95)\r\n\tat org.apache.spark.sql.execution.SQLExecution$$$Lambda$2325/0x0000000801c702b8.apply(Unknown Source)\r\n\tat org.apache.spark.sql.SparkSession.withActive(SparkSession.scala:779)\r\n\tat org.apache.spark.sql.execution.SQLExecution$.withNewExecutionId(SQLExecution.scala:64)\r\n\tat org.apache.spark.sql.Dataset.withAction(Dataset.scala:3856)\r\n\tat org.apache.spark.sql.Dataset.collectToPython(Dataset.scala:3685)\r\n\tat java.base/java.lang.invoke.DirectMethodHandle$Holder.invokeVirtual(DirectMethodHandle$Holder)\r\n\tat java.base/java.lang.invoke.LambdaForm$MH/0x0000000801160400.invoke(LambdaForm$MH)\r\n",
          "output_type": "error",
          "traceback": [
            "\u001b[1;31m---------------------------------------------------------------------------\u001b[0m",
            "\u001b[1;31mPy4JJavaError\u001b[0m                             Traceback (most recent call last)",
            "\u001b[1;32mc:\\Users\\luigi\\projects\\ml-predict-flight-delays\\notebooks\\pyspark_flight_prediction.ipynb Cell 79\u001b[0m in \u001b[0;36m<cell line: 1>\u001b[1;34m()\u001b[0m\n\u001b[1;32m----> <a href='vscode-notebook-cell:/c%3A/Users/luigi/projects/ml-predict-flight-delays/notebooks/pyspark_flight_prediction.ipynb#Y211sZmlsZQ%3D%3D?line=0'>1</a>\u001b[0m df \u001b[39m=\u001b[39m array_features\u001b[39m.\u001b[39;49mtoPandas()\n",
            "File \u001b[1;32mc:\\Users\\luigi\\miniconda3\\envs\\pytorch\\lib\\site-packages\\pyspark\\sql\\pandas\\conversion.py:205\u001b[0m, in \u001b[0;36mPandasConversionMixin.toPandas\u001b[1;34m(self)\u001b[0m\n\u001b[0;32m    202\u001b[0m             \u001b[39mraise\u001b[39;00m\n\u001b[0;32m    204\u001b[0m \u001b[39m# Below is toPandas without Arrow optimization.\u001b[39;00m\n\u001b[1;32m--> 205\u001b[0m pdf \u001b[39m=\u001b[39m pd\u001b[39m.\u001b[39mDataFrame\u001b[39m.\u001b[39mfrom_records(\u001b[39mself\u001b[39;49m\u001b[39m.\u001b[39;49mcollect(), columns\u001b[39m=\u001b[39m\u001b[39mself\u001b[39m\u001b[39m.\u001b[39mcolumns)\n\u001b[0;32m    206\u001b[0m column_counter \u001b[39m=\u001b[39m Counter(\u001b[39mself\u001b[39m\u001b[39m.\u001b[39mcolumns)\n\u001b[0;32m    208\u001b[0m corrected_dtypes: List[Optional[Type]] \u001b[39m=\u001b[39m [\u001b[39mNone\u001b[39;00m] \u001b[39m*\u001b[39m \u001b[39mlen\u001b[39m(\u001b[39mself\u001b[39m\u001b[39m.\u001b[39mschema)\n",
            "File \u001b[1;32mc:\\Users\\luigi\\miniconda3\\envs\\pytorch\\lib\\site-packages\\pyspark\\sql\\dataframe.py:817\u001b[0m, in \u001b[0;36mDataFrame.collect\u001b[1;34m(self)\u001b[0m\n\u001b[0;32m    807\u001b[0m \u001b[39m\"\"\"Returns all the records as a list of :class:`Row`.\u001b[39;00m\n\u001b[0;32m    808\u001b[0m \n\u001b[0;32m    809\u001b[0m \u001b[39m.. versionadded:: 1.3.0\u001b[39;00m\n\u001b[1;32m   (...)\u001b[0m\n\u001b[0;32m    814\u001b[0m \u001b[39m[Row(age=2, name='Alice'), Row(age=5, name='Bob')]\u001b[39;00m\n\u001b[0;32m    815\u001b[0m \u001b[39m\"\"\"\u001b[39;00m\n\u001b[0;32m    816\u001b[0m \u001b[39mwith\u001b[39;00m SCCallSiteSync(\u001b[39mself\u001b[39m\u001b[39m.\u001b[39m_sc):\n\u001b[1;32m--> 817\u001b[0m     sock_info \u001b[39m=\u001b[39m \u001b[39mself\u001b[39;49m\u001b[39m.\u001b[39;49m_jdf\u001b[39m.\u001b[39;49mcollectToPython()\n\u001b[0;32m    818\u001b[0m \u001b[39mreturn\u001b[39;00m \u001b[39mlist\u001b[39m(_load_from_socket(sock_info, BatchedSerializer(CPickleSerializer())))\n",
            "File \u001b[1;32mc:\\Users\\luigi\\miniconda3\\envs\\pytorch\\lib\\site-packages\\py4j\\java_gateway.py:1321\u001b[0m, in \u001b[0;36mJavaMember.__call__\u001b[1;34m(self, *args)\u001b[0m\n\u001b[0;32m   1315\u001b[0m command \u001b[39m=\u001b[39m proto\u001b[39m.\u001b[39mCALL_COMMAND_NAME \u001b[39m+\u001b[39m\\\n\u001b[0;32m   1316\u001b[0m     \u001b[39mself\u001b[39m\u001b[39m.\u001b[39mcommand_header \u001b[39m+\u001b[39m\\\n\u001b[0;32m   1317\u001b[0m     args_command \u001b[39m+\u001b[39m\\\n\u001b[0;32m   1318\u001b[0m     proto\u001b[39m.\u001b[39mEND_COMMAND_PART\n\u001b[0;32m   1320\u001b[0m answer \u001b[39m=\u001b[39m \u001b[39mself\u001b[39m\u001b[39m.\u001b[39mgateway_client\u001b[39m.\u001b[39msend_command(command)\n\u001b[1;32m-> 1321\u001b[0m return_value \u001b[39m=\u001b[39m get_return_value(\n\u001b[0;32m   1322\u001b[0m     answer, \u001b[39mself\u001b[39;49m\u001b[39m.\u001b[39;49mgateway_client, \u001b[39mself\u001b[39;49m\u001b[39m.\u001b[39;49mtarget_id, \u001b[39mself\u001b[39;49m\u001b[39m.\u001b[39;49mname)\n\u001b[0;32m   1324\u001b[0m \u001b[39mfor\u001b[39;00m temp_arg \u001b[39min\u001b[39;00m temp_args:\n\u001b[0;32m   1325\u001b[0m     temp_arg\u001b[39m.\u001b[39m_detach()\n",
            "File \u001b[1;32mc:\\Users\\luigi\\miniconda3\\envs\\pytorch\\lib\\site-packages\\pyspark\\sql\\utils.py:190\u001b[0m, in \u001b[0;36mcapture_sql_exception.<locals>.deco\u001b[1;34m(*a, **kw)\u001b[0m\n\u001b[0;32m    188\u001b[0m \u001b[39mdef\u001b[39;00m \u001b[39mdeco\u001b[39m(\u001b[39m*\u001b[39ma: Any, \u001b[39m*\u001b[39m\u001b[39m*\u001b[39mkw: Any) \u001b[39m-\u001b[39m\u001b[39m>\u001b[39m Any:\n\u001b[0;32m    189\u001b[0m     \u001b[39mtry\u001b[39;00m:\n\u001b[1;32m--> 190\u001b[0m         \u001b[39mreturn\u001b[39;00m f(\u001b[39m*\u001b[39ma, \u001b[39m*\u001b[39m\u001b[39m*\u001b[39mkw)\n\u001b[0;32m    191\u001b[0m     \u001b[39mexcept\u001b[39;00m Py4JJavaError \u001b[39mas\u001b[39;00m e:\n\u001b[0;32m    192\u001b[0m         converted \u001b[39m=\u001b[39m convert_exception(e\u001b[39m.\u001b[39mjava_exception)\n",
            "File \u001b[1;32mc:\\Users\\luigi\\miniconda3\\envs\\pytorch\\lib\\site-packages\\py4j\\protocol.py:326\u001b[0m, in \u001b[0;36mget_return_value\u001b[1;34m(answer, gateway_client, target_id, name)\u001b[0m\n\u001b[0;32m    324\u001b[0m value \u001b[39m=\u001b[39m OUTPUT_CONVERTER[\u001b[39mtype\u001b[39m](answer[\u001b[39m2\u001b[39m:], gateway_client)\n\u001b[0;32m    325\u001b[0m \u001b[39mif\u001b[39;00m answer[\u001b[39m1\u001b[39m] \u001b[39m==\u001b[39m REFERENCE_TYPE:\n\u001b[1;32m--> 326\u001b[0m     \u001b[39mraise\u001b[39;00m Py4JJavaError(\n\u001b[0;32m    327\u001b[0m         \u001b[39m\"\u001b[39m\u001b[39mAn error occurred while calling \u001b[39m\u001b[39m{0}\u001b[39;00m\u001b[39m{1}\u001b[39;00m\u001b[39m{2}\u001b[39;00m\u001b[39m.\u001b[39m\u001b[39m\\n\u001b[39;00m\u001b[39m\"\u001b[39m\u001b[39m.\u001b[39m\n\u001b[0;32m    328\u001b[0m         \u001b[39mformat\u001b[39m(target_id, \u001b[39m\"\u001b[39m\u001b[39m.\u001b[39m\u001b[39m\"\u001b[39m, name), value)\n\u001b[0;32m    329\u001b[0m \u001b[39melse\u001b[39;00m:\n\u001b[0;32m    330\u001b[0m     \u001b[39mraise\u001b[39;00m Py4JError(\n\u001b[0;32m    331\u001b[0m         \u001b[39m\"\u001b[39m\u001b[39mAn error occurred while calling \u001b[39m\u001b[39m{0}\u001b[39;00m\u001b[39m{1}\u001b[39;00m\u001b[39m{2}\u001b[39;00m\u001b[39m. Trace:\u001b[39m\u001b[39m\\n\u001b[39;00m\u001b[39m{3}\u001b[39;00m\u001b[39m\\n\u001b[39;00m\u001b[39m\"\u001b[39m\u001b[39m.\u001b[39m\n\u001b[0;32m    332\u001b[0m         \u001b[39mformat\u001b[39m(target_id, \u001b[39m\"\u001b[39m\u001b[39m.\u001b[39m\u001b[39m\"\u001b[39m, name, value))\n",
            "\u001b[1;31mPy4JJavaError\u001b[0m: An error occurred while calling o4715.collectToPython.\n: java.lang.OutOfMemoryError: Java heap space\r\n\tat org.apache.spark.sql.execution.SparkPlan$$anon$1._next(SparkPlan.scala:391)\r\n\tat org.apache.spark.sql.execution.SparkPlan$$anon$1.getNext(SparkPlan.scala:402)\r\n\tat org.apache.spark.sql.execution.SparkPlan$$anon$1.getNext(SparkPlan.scala:388)\r\n\tat org.apache.spark.util.NextIterator.hasNext(NextIterator.scala:73)\r\n\tat scala.collection.Iterator.foreach(Iterator.scala:943)\r\n\tat scala.collection.Iterator.foreach$(Iterator.scala:943)\r\n\tat org.apache.spark.util.NextIterator.foreach(NextIterator.scala:21)\r\n\tat org.apache.spark.sql.execution.SparkPlan.$anonfun$executeCollect$1(SparkPlan.scala:425)\r\n\tat org.apache.spark.sql.execution.SparkPlan.$anonfun$executeCollect$1$adapted(SparkPlan.scala:424)\r\n\tat org.apache.spark.sql.execution.SparkPlan$$Lambda$3161/0x0000000801ea83c8.apply(Unknown Source)\r\n\tat scala.collection.IndexedSeqOptimized.foreach(IndexedSeqOptimized.scala:36)\r\n\tat scala.collection.IndexedSeqOptimized.foreach$(IndexedSeqOptimized.scala:33)\r\n\tat scala.collection.mutable.ArrayOps$ofRef.foreach(ArrayOps.scala:198)\r\n\tat org.apache.spark.sql.execution.SparkPlan.executeCollect(SparkPlan.scala:424)\r\n\tat org.apache.spark.sql.Dataset.$anonfun$collectToPython$1(Dataset.scala:3688)\r\n\tat org.apache.spark.sql.Dataset$$Lambda$3358/0x0000000801f3aaf0.apply(Unknown Source)\r\n\tat org.apache.spark.sql.Dataset.$anonfun$withAction$2(Dataset.scala:3858)\r\n\tat org.apache.spark.sql.Dataset$$Lambda$2696/0x0000000801d67408.apply(Unknown Source)\r\n\tat org.apache.spark.sql.execution.QueryExecution$.withInternalError(QueryExecution.scala:510)\r\n\tat org.apache.spark.sql.Dataset.$anonfun$withAction$1(Dataset.scala:3856)\r\n\tat org.apache.spark.sql.Dataset$$Lambda$2324/0x0000000801c70000.apply(Unknown Source)\r\n\tat org.apache.spark.sql.execution.SQLExecution$.$anonfun$withNewExecutionId$6(SQLExecution.scala:109)\r\n\tat org.apache.spark.sql.execution.SQLExecution$$$Lambda$2332/0x0000000801c72b28.apply(Unknown Source)\r\n\tat org.apache.spark.sql.execution.SQLExecution$.withSQLConfPropagated(SQLExecution.scala:169)\r\n\tat org.apache.spark.sql.execution.SQLExecution$.$anonfun$withNewExecutionId$1(SQLExecution.scala:95)\r\n\tat org.apache.spark.sql.execution.SQLExecution$$$Lambda$2325/0x0000000801c702b8.apply(Unknown Source)\r\n\tat org.apache.spark.sql.SparkSession.withActive(SparkSession.scala:779)\r\n\tat org.apache.spark.sql.execution.SQLExecution$.withNewExecutionId(SQLExecution.scala:64)\r\n\tat org.apache.spark.sql.Dataset.withAction(Dataset.scala:3856)\r\n\tat org.apache.spark.sql.Dataset.collectToPython(Dataset.scala:3685)\r\n\tat java.base/java.lang.invoke.DirectMethodHandle$Holder.invokeVirtual(DirectMethodHandle$Holder)\r\n\tat java.base/java.lang.invoke.LambdaForm$MH/0x0000000801160400.invoke(LambdaForm$MH)\r\n"
          ]
        }
      ],
      "source": [
        "df = array_features.toPandas()"
      ]
    },
    {
      "cell_type": "code",
      "execution_count": null,
      "metadata": {},
      "outputs": [],
      "source": []
    },
    {
      "cell_type": "markdown",
      "metadata": {
        "id": "uid9byzO2txB"
      },
      "source": [
        "## "
      ]
    },
    {
      "cell_type": "markdown",
      "metadata": {
        "id": "OJ8_nmVl2txB"
      },
      "source": [
        "# Train Boosted GBTRegressor"
      ]
    },
    {
      "cell_type": "code",
      "execution_count": null,
      "metadata": {
        "id": "ow6Qr8Vk2txB"
      },
      "outputs": [],
      "source": [
        "# from spark.ml.re"
      ]
    },
    {
      "cell_type": "markdown",
      "metadata": {
        "id": "o7fffS4n2txC"
      },
      "source": [
        "# Train XGBoost model"
      ]
    },
    {
      "cell_type": "code",
      "execution_count": null,
      "metadata": {
        "id": "tUDLzO9H2txC"
      },
      "outputs": [],
      "source": [
        "from xgboost.spark import SparkXGBRegressor"
      ]
    },
    {
      "cell_type": "code",
      "execution_count": null,
      "metadata": {
        "id": "xCWwgHUR2txC"
      },
      "outputs": [],
      "source": [
        "label = \"DepDelay\"\n",
        "feature_names = 'features'"
      ]
    },
    {
      "cell_type": "code",
      "execution_count": null,
      "metadata": {},
      "outputs": [],
      "source": []
    }
  ],
  "metadata": {
    "colab": {
      "provenance": []
    },
    "gpuClass": "standard",
    "kernelspec": {
      "display_name": "Python 3.9.7 ('pytorch')",
      "language": "python",
      "name": "python3"
    },
    "language_info": {
      "codemirror_mode": {
        "name": "ipython",
        "version": 3
      },
      "file_extension": ".py",
      "mimetype": "text/x-python",
      "name": "python",
      "nbconvert_exporter": "python",
      "pygments_lexer": "ipython3",
      "version": "3.9.7"
    },
    "vscode": {
      "interpreter": {
        "hash": "096fa780b98fbe495439a1728273d6046be3a31074a917fead1626276fbed988"
      }
    }
  },
  "nbformat": 4,
  "nbformat_minor": 0
}
